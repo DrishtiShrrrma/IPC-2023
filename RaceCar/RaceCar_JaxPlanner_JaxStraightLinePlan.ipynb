{
  "nbformat": 4,
  "nbformat_minor": 0,
  "metadata": {
    "colab": {
      "provenance": []
    },
    "kernelspec": {
      "name": "python3",
      "display_name": "Python 3"
    },
    "language_info": {
      "name": "python"
    }
  },
  "cells": [
    {
      "cell_type": "markdown",
      "source": [
        "#Cloning the pyRDDLGym repository to obtain the pyRDDLGym infrstructure"
      ],
      "metadata": {
        "id": "3P-VZ-R58hKQ"
      }
    },
    {
      "cell_type": "code",
      "source": [
        "!apt-get install python3.10\n"
      ],
      "metadata": {
        "id": "8YMndTF72A5d",
        "outputId": "dedc3661-66cb-4a08-8b2b-d0f8195a7633",
        "colab": {
          "base_uri": "https://localhost:8080/"
        }
      },
      "execution_count": null,
      "outputs": [
        {
          "output_type": "stream",
          "name": "stdout",
          "text": [
            "Reading package lists... Done\n",
            "Building dependency tree       \n",
            "Reading state information... Done\n",
            "python3.10 is already the newest version (3.10.11-1+focal1).\n",
            "0 upgraded, 0 newly installed, 0 to remove and 24 not upgraded.\n"
          ]
        }
      ]
    },
    {
      "cell_type": "code",
      "execution_count": null,
      "metadata": {
        "colab": {
          "base_uri": "https://localhost:8080/"
        },
        "id": "oXxyKhVL8ewW",
        "outputId": "89246e2c-86ee-41eb-f36c-03bf12648d54"
      },
      "outputs": [
        {
          "output_type": "stream",
          "name": "stdout",
          "text": [
            "fatal: destination path 'pyRDDLGym' already exists and is not an empty directory.\n"
          ]
        }
      ],
      "source": [
        "!git clone https://github.com/ataitler/pyRDDLGym.git"
      ]
    },
    {
      "cell_type": "markdown",
      "source": [
        "#Initializing environment in pyRDDLGym"
      ],
      "metadata": {
        "id": "63RLo6Lc9uYp"
      }
    },
    {
      "cell_type": "code",
      "source": [
        "#Changing the working directory to the \"pyRDDLGym\" directory\n",
        "%cd /content/pyRDDLGym"
      ],
      "metadata": {
        "colab": {
          "base_uri": "https://localhost:8080/"
        },
        "id": "un8yAzmw8v8R",
        "outputId": "b630b316-e708-45c0-d578-796ccd23c773"
      },
      "execution_count": null,
      "outputs": [
        {
          "output_type": "stream",
          "name": "stdout",
          "text": [
            "/content/pyRDDLGym\n"
          ]
        }
      ]
    },
    {
      "cell_type": "code",
      "source": [
        "#Installing requirements_jax.txt\n",
        "!pip install -r requirements_jax.txt"
      ],
      "metadata": {
        "colab": {
          "base_uri": "https://localhost:8080/"
        },
        "id": "fkMLItNG93SZ",
        "outputId": "b7a62db3-b19d-4394-eb6f-791130b68e8b"
      },
      "execution_count": null,
      "outputs": [
        {
          "output_type": "stream",
          "name": "stdout",
          "text": [
            "Looking in indexes: https://pypi.org/simple, https://us-python.pkg.dev/colab-wheels/public/simple/\n",
            "Requirement already satisfied: matplotlib>=3.5.0 in /usr/local/lib/python3.9/dist-packages (from -r requirements_jax.txt (line 1)) (3.7.1)\n",
            "Requirement already satisfied: pillow>=9.2.0 in /usr/local/lib/python3.9/dist-packages (from -r requirements_jax.txt (line 2)) (9.5.0)\n",
            "Requirement already satisfied: gym>=0.24.0 in /usr/local/lib/python3.9/dist-packages (from -r requirements_jax.txt (line 3)) (0.25.2)\n",
            "Requirement already satisfied: numpy in /usr/local/lib/python3.9/dist-packages (from -r requirements_jax.txt (line 4)) (1.22.4)\n",
            "Requirement already satisfied: pygame in /usr/local/lib/python3.9/dist-packages (from -r requirements_jax.txt (line 5)) (2.3.0)\n",
            "Requirement already satisfied: ply in /usr/local/lib/python3.9/dist-packages (from -r requirements_jax.txt (line 6)) (3.11)\n",
            "Requirement already satisfied: jax>=0.3.25 in /usr/local/lib/python3.9/dist-packages (from -r requirements_jax.txt (line 7)) (0.4.8)\n",
            "Requirement already satisfied: optax>=0.1.4 in /usr/local/lib/python3.9/dist-packages (from -r requirements_jax.txt (line 8)) (0.1.4)\n",
            "Requirement already satisfied: dm-haiku>=0.0.9 in /usr/local/lib/python3.9/dist-packages (from -r requirements_jax.txt (line 9)) (0.0.9)\n",
            "Requirement already satisfied: tensorflow>=2.11.0 in /usr/local/lib/python3.9/dist-packages (from -r requirements_jax.txt (line 10)) (2.12.0)\n",
            "Requirement already satisfied: tensorflow-probability>=0.19.0 in /usr/local/lib/python3.9/dist-packages (from -r requirements_jax.txt (line 11)) (0.19.0)\n",
            "Requirement already satisfied: contourpy>=1.0.1 in /usr/local/lib/python3.9/dist-packages (from matplotlib>=3.5.0->-r requirements_jax.txt (line 1)) (1.0.7)\n",
            "Requirement already satisfied: python-dateutil>=2.7 in /usr/local/lib/python3.9/dist-packages (from matplotlib>=3.5.0->-r requirements_jax.txt (line 1)) (2.8.2)\n",
            "Requirement already satisfied: cycler>=0.10 in /usr/local/lib/python3.9/dist-packages (from matplotlib>=3.5.0->-r requirements_jax.txt (line 1)) (0.11.0)\n",
            "Requirement already satisfied: pyparsing>=2.3.1 in /usr/local/lib/python3.9/dist-packages (from matplotlib>=3.5.0->-r requirements_jax.txt (line 1)) (3.0.9)\n",
            "Requirement already satisfied: kiwisolver>=1.0.1 in /usr/local/lib/python3.9/dist-packages (from matplotlib>=3.5.0->-r requirements_jax.txt (line 1)) (1.4.4)\n",
            "Requirement already satisfied: packaging>=20.0 in /usr/local/lib/python3.9/dist-packages (from matplotlib>=3.5.0->-r requirements_jax.txt (line 1)) (23.1)\n",
            "Requirement already satisfied: importlib-resources>=3.2.0 in /usr/local/lib/python3.9/dist-packages (from matplotlib>=3.5.0->-r requirements_jax.txt (line 1)) (5.12.0)\n",
            "Requirement already satisfied: fonttools>=4.22.0 in /usr/local/lib/python3.9/dist-packages (from matplotlib>=3.5.0->-r requirements_jax.txt (line 1)) (4.39.3)\n",
            "Requirement already satisfied: importlib-metadata>=4.8.0 in /usr/local/lib/python3.9/dist-packages (from gym>=0.24.0->-r requirements_jax.txt (line 3)) (6.4.1)\n",
            "Requirement already satisfied: gym-notices>=0.0.4 in /usr/local/lib/python3.9/dist-packages (from gym>=0.24.0->-r requirements_jax.txt (line 3)) (0.0.8)\n",
            "Requirement already satisfied: cloudpickle>=1.2.0 in /usr/local/lib/python3.9/dist-packages (from gym>=0.24.0->-r requirements_jax.txt (line 3)) (2.2.1)\n",
            "Requirement already satisfied: opt-einsum in /usr/local/lib/python3.9/dist-packages (from jax>=0.3.25->-r requirements_jax.txt (line 7)) (3.3.0)\n",
            "Requirement already satisfied: scipy>=1.7 in /usr/local/lib/python3.9/dist-packages (from jax>=0.3.25->-r requirements_jax.txt (line 7)) (1.10.1)\n",
            "Requirement already satisfied: ml-dtypes>=0.0.3 in /usr/local/lib/python3.9/dist-packages (from jax>=0.3.25->-r requirements_jax.txt (line 7)) (0.1.0)\n",
            "Requirement already satisfied: absl-py>=0.7.1 in /usr/local/lib/python3.9/dist-packages (from optax>=0.1.4->-r requirements_jax.txt (line 8)) (1.4.0)\n",
            "Requirement already satisfied: chex>=0.1.5 in /usr/local/lib/python3.9/dist-packages (from optax>=0.1.4->-r requirements_jax.txt (line 8)) (0.1.7)\n",
            "Requirement already satisfied: jaxlib>=0.1.37 in /usr/local/lib/python3.9/dist-packages (from optax>=0.1.4->-r requirements_jax.txt (line 8)) (0.4.7+cuda11.cudnn86)\n",
            "Requirement already satisfied: typing-extensions>=3.10.0 in /usr/local/lib/python3.9/dist-packages (from optax>=0.1.4->-r requirements_jax.txt (line 8)) (4.5.0)\n",
            "Requirement already satisfied: jmp>=0.0.2 in /usr/local/lib/python3.9/dist-packages (from dm-haiku>=0.0.9->-r requirements_jax.txt (line 9)) (0.0.4)\n",
            "Requirement already satisfied: tabulate>=0.8.9 in /usr/local/lib/python3.9/dist-packages (from dm-haiku>=0.0.9->-r requirements_jax.txt (line 9)) (0.8.10)\n",
            "Requirement already satisfied: setuptools in /usr/local/lib/python3.9/dist-packages (from tensorflow>=2.11.0->-r requirements_jax.txt (line 10)) (67.7.2)\n",
            "Requirement already satisfied: protobuf!=4.21.0,!=4.21.1,!=4.21.2,!=4.21.3,!=4.21.4,!=4.21.5,<5.0.0dev,>=3.20.3 in /usr/local/lib/python3.9/dist-packages (from tensorflow>=2.11.0->-r requirements_jax.txt (line 10)) (3.20.3)\n",
            "Requirement already satisfied: astunparse>=1.6.0 in /usr/local/lib/python3.9/dist-packages (from tensorflow>=2.11.0->-r requirements_jax.txt (line 10)) (1.6.3)\n",
            "Requirement already satisfied: flatbuffers>=2.0 in /usr/local/lib/python3.9/dist-packages (from tensorflow>=2.11.0->-r requirements_jax.txt (line 10)) (23.3.3)\n",
            "Requirement already satisfied: termcolor>=1.1.0 in /usr/local/lib/python3.9/dist-packages (from tensorflow>=2.11.0->-r requirements_jax.txt (line 10)) (2.2.0)\n",
            "Requirement already satisfied: six>=1.12.0 in /usr/local/lib/python3.9/dist-packages (from tensorflow>=2.11.0->-r requirements_jax.txt (line 10)) (1.16.0)\n",
            "Requirement already satisfied: tensorflow-estimator<2.13,>=2.12.0 in /usr/local/lib/python3.9/dist-packages (from tensorflow>=2.11.0->-r requirements_jax.txt (line 10)) (2.12.0)\n",
            "Requirement already satisfied: libclang>=13.0.0 in /usr/local/lib/python3.9/dist-packages (from tensorflow>=2.11.0->-r requirements_jax.txt (line 10)) (16.0.0)\n",
            "Requirement already satisfied: grpcio<2.0,>=1.24.3 in /usr/local/lib/python3.9/dist-packages (from tensorflow>=2.11.0->-r requirements_jax.txt (line 10)) (1.53.0)\n",
            "Requirement already satisfied: tensorflow-io-gcs-filesystem>=0.23.1 in /usr/local/lib/python3.9/dist-packages (from tensorflow>=2.11.0->-r requirements_jax.txt (line 10)) (0.32.0)\n",
            "Requirement already satisfied: google-pasta>=0.1.1 in /usr/local/lib/python3.9/dist-packages (from tensorflow>=2.11.0->-r requirements_jax.txt (line 10)) (0.2.0)\n",
            "Requirement already satisfied: gast<=0.4.0,>=0.2.1 in /usr/local/lib/python3.9/dist-packages (from tensorflow>=2.11.0->-r requirements_jax.txt (line 10)) (0.4.0)\n",
            "Requirement already satisfied: tensorboard<2.13,>=2.12 in /usr/local/lib/python3.9/dist-packages (from tensorflow>=2.11.0->-r requirements_jax.txt (line 10)) (2.12.2)\n",
            "Requirement already satisfied: h5py>=2.9.0 in /usr/local/lib/python3.9/dist-packages (from tensorflow>=2.11.0->-r requirements_jax.txt (line 10)) (3.8.0)\n",
            "Requirement already satisfied: keras<2.13,>=2.12.0 in /usr/local/lib/python3.9/dist-packages (from tensorflow>=2.11.0->-r requirements_jax.txt (line 10)) (2.12.0)\n",
            "Requirement already satisfied: wrapt<1.15,>=1.11.0 in /usr/local/lib/python3.9/dist-packages (from tensorflow>=2.11.0->-r requirements_jax.txt (line 10)) (1.14.1)\n",
            "Requirement already satisfied: dm-tree in /usr/local/lib/python3.9/dist-packages (from tensorflow-probability>=0.19.0->-r requirements_jax.txt (line 11)) (0.1.8)\n",
            "Requirement already satisfied: decorator in /usr/local/lib/python3.9/dist-packages (from tensorflow-probability>=0.19.0->-r requirements_jax.txt (line 11)) (4.4.2)\n",
            "Requirement already satisfied: wheel<1.0,>=0.23.0 in /usr/local/lib/python3.9/dist-packages (from astunparse>=1.6.0->tensorflow>=2.11.0->-r requirements_jax.txt (line 10)) (0.40.0)\n",
            "Requirement already satisfied: toolz>=0.9.0 in /usr/local/lib/python3.9/dist-packages (from chex>=0.1.5->optax>=0.1.4->-r requirements_jax.txt (line 8)) (0.12.0)\n",
            "Requirement already satisfied: zipp>=0.5 in /usr/local/lib/python3.9/dist-packages (from importlib-metadata>=4.8.0->gym>=0.24.0->-r requirements_jax.txt (line 3)) (3.15.0)\n",
            "Requirement already satisfied: markdown>=2.6.8 in /usr/local/lib/python3.9/dist-packages (from tensorboard<2.13,>=2.12->tensorflow>=2.11.0->-r requirements_jax.txt (line 10)) (3.4.3)\n",
            "Requirement already satisfied: tensorboard-plugin-wit>=1.6.0 in /usr/local/lib/python3.9/dist-packages (from tensorboard<2.13,>=2.12->tensorflow>=2.11.0->-r requirements_jax.txt (line 10)) (1.8.1)\n",
            "Requirement already satisfied: google-auth-oauthlib<1.1,>=0.5 in /usr/local/lib/python3.9/dist-packages (from tensorboard<2.13,>=2.12->tensorflow>=2.11.0->-r requirements_jax.txt (line 10)) (1.0.0)\n",
            "Requirement already satisfied: google-auth<3,>=1.6.3 in /usr/local/lib/python3.9/dist-packages (from tensorboard<2.13,>=2.12->tensorflow>=2.11.0->-r requirements_jax.txt (line 10)) (2.17.3)\n",
            "Requirement already satisfied: requests<3,>=2.21.0 in /usr/local/lib/python3.9/dist-packages (from tensorboard<2.13,>=2.12->tensorflow>=2.11.0->-r requirements_jax.txt (line 10)) (2.27.1)\n",
            "Requirement already satisfied: tensorboard-data-server<0.8.0,>=0.7.0 in /usr/local/lib/python3.9/dist-packages (from tensorboard<2.13,>=2.12->tensorflow>=2.11.0->-r requirements_jax.txt (line 10)) (0.7.0)\n",
            "Requirement already satisfied: werkzeug>=1.0.1 in /usr/local/lib/python3.9/dist-packages (from tensorboard<2.13,>=2.12->tensorflow>=2.11.0->-r requirements_jax.txt (line 10)) (2.2.3)\n",
            "Requirement already satisfied: cachetools<6.0,>=2.0.0 in /usr/local/lib/python3.9/dist-packages (from google-auth<3,>=1.6.3->tensorboard<2.13,>=2.12->tensorflow>=2.11.0->-r requirements_jax.txt (line 10)) (5.3.0)\n",
            "Requirement already satisfied: pyasn1-modules>=0.2.1 in /usr/local/lib/python3.9/dist-packages (from google-auth<3,>=1.6.3->tensorboard<2.13,>=2.12->tensorflow>=2.11.0->-r requirements_jax.txt (line 10)) (0.2.8)\n",
            "Requirement already satisfied: rsa<5,>=3.1.4 in /usr/local/lib/python3.9/dist-packages (from google-auth<3,>=1.6.3->tensorboard<2.13,>=2.12->tensorflow>=2.11.0->-r requirements_jax.txt (line 10)) (4.9)\n",
            "Requirement already satisfied: requests-oauthlib>=0.7.0 in /usr/local/lib/python3.9/dist-packages (from google-auth-oauthlib<1.1,>=0.5->tensorboard<2.13,>=2.12->tensorflow>=2.11.0->-r requirements_jax.txt (line 10)) (1.3.1)\n",
            "Requirement already satisfied: idna<4,>=2.5 in /usr/local/lib/python3.9/dist-packages (from requests<3,>=2.21.0->tensorboard<2.13,>=2.12->tensorflow>=2.11.0->-r requirements_jax.txt (line 10)) (3.4)\n",
            "Requirement already satisfied: charset-normalizer~=2.0.0 in /usr/local/lib/python3.9/dist-packages (from requests<3,>=2.21.0->tensorboard<2.13,>=2.12->tensorflow>=2.11.0->-r requirements_jax.txt (line 10)) (2.0.12)\n",
            "Requirement already satisfied: certifi>=2017.4.17 in /usr/local/lib/python3.9/dist-packages (from requests<3,>=2.21.0->tensorboard<2.13,>=2.12->tensorflow>=2.11.0->-r requirements_jax.txt (line 10)) (2022.12.7)\n",
            "Requirement already satisfied: urllib3<1.27,>=1.21.1 in /usr/local/lib/python3.9/dist-packages (from requests<3,>=2.21.0->tensorboard<2.13,>=2.12->tensorflow>=2.11.0->-r requirements_jax.txt (line 10)) (1.26.15)\n",
            "Requirement already satisfied: MarkupSafe>=2.1.1 in /usr/local/lib/python3.9/dist-packages (from werkzeug>=1.0.1->tensorboard<2.13,>=2.12->tensorflow>=2.11.0->-r requirements_jax.txt (line 10)) (2.1.2)\n",
            "Requirement already satisfied: pyasn1<0.5.0,>=0.4.6 in /usr/local/lib/python3.9/dist-packages (from pyasn1-modules>=0.2.1->google-auth<3,>=1.6.3->tensorboard<2.13,>=2.12->tensorflow>=2.11.0->-r requirements_jax.txt (line 10)) (0.4.8)\n",
            "Requirement already satisfied: oauthlib>=3.0.0 in /usr/local/lib/python3.9/dist-packages (from requests-oauthlib>=0.7.0->google-auth-oauthlib<1.1,>=0.5->tensorboard<2.13,>=2.12->tensorflow>=2.11.0->-r requirements_jax.txt (line 10)) (3.2.2)\n"
          ]
        }
      ]
    },
    {
      "cell_type": "markdown",
      "source": [
        "![image.png](data:image/png;base64,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)"
      ],
      "metadata": {
        "id": "8dcKN6Zc-Kg3"
      }
    },
    {
      "cell_type": "code",
      "source": [
        "#Importing the required packages\n",
        "import jax\n",
        "import optax\n",
        "from pyRDDLGym import ExampleManager\n",
        "from pyRDDLGym import RDDLEnv\n",
        "from pyRDDLGym.Core.Jax.JaxRDDLBackpropPlanner import JaxRDDLBackpropPlanner, JaxStraightLinePlan\n",
        "\n"
      ],
      "metadata": {
        "id": "tg_D3eaU-E2V"
      },
      "execution_count": null,
      "outputs": []
    },
    {
      "cell_type": "code",
      "source": [
        "# specify the model\n",
        "EnvInfo = ExampleManager.GetEnvInfo('RaceCar')\n",
        "myEnv = RDDLEnv.RDDLEnv(domain=EnvInfo.get_domain(), instance=EnvInfo.get_instance(0))\n",
        "model = myEnv.model"
      ],
      "metadata": {
        "colab": {
          "base_uri": "https://localhost:8080/"
        },
        "id": "h1jZ91Xn-3VD",
        "outputId": "c111a243-43e4-4eb6-8f29-4f7fdde88cd7"
      },
      "execution_count": null,
      "outputs": [
        {
          "output_type": "stream",
          "name": "stderr",
          "text": [
            "/usr/local/lib/python3.9/dist-packages/ipykernel/ipkernel.py:283: DeprecationWarning: `should_run_async` will not call `transform_cell` automatically in the future. Please pass the result to `transformed_cell` argument and any exception that happen during thetransform in `preprocessing_exc_tuple` in IPython 7.17 and above.\n",
            "  and should_run_async(code)\n"
          ]
        }
      ]
    },
    {
      "cell_type": "markdown",
      "source": [
        "**Note:**\n",
        "\n",
        "\n",
        "![image.png](data:image/png;base64,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)\n",
        "\n",
        "\n",
        "**Credit: Michael Gimelfarb**"
      ],
      "metadata": {
        "id": "r4j9LHHe9OvH"
      }
    },
    {
      "cell_type": "code",
      "source": [
        "# initialize the planner\n",
        "# note that actions should be constrained to [-1, 1] for Racecar\n",
        "planner = JaxRDDLBackpropPlanner(\n",
        "    model,\n",
        "    plan=JaxStraightLinePlan(),\n",
        "    batch_size_train=32,\n",
        "    rollout_horizon=5,\n",
        "    optimizer=optax.rmsprop,\n",
        "    optimizer_kwargs={'learning_rate': 0.01})"
      ],
      "metadata": {
        "colab": {
          "base_uri": "https://localhost:8080/"
        },
        "id": "fTO1pIWa_B_t",
        "outputId": "4e6bd433-f470-4a82-985d-89fc7cb1d36d"
      },
      "execution_count": null,
      "outputs": [
        {
          "output_type": "stream",
          "name": "stderr",
          "text": [
            "WARNING:jax._src.xla_bridge:No GPU/TPU found, falling back to CPU. (Set TF_CPP_MIN_LOG_LEVEL=0 and rerun for more info.)\n",
            "/content/pyRDDLGym/pyRDDLGym/Core/Jax/JaxRDDLBackpropPlanner.py:835: UserWarning: Initial values of pvariables will be cast to real.\n",
            "  self.compiled = JaxRDDLCompilerWithGrad(\n",
            "/content/pyRDDLGym/pyRDDLGym/Core/Jax/JaxRDDLBackpropPlanner.py:55: UserWarning: Using the replacement rule: a >= b --> sigmoid(a - b)\n",
            "  '>=': logic.greaterEqual(),\n",
            "/content/pyRDDLGym/pyRDDLGym/Core/Jax/JaxRDDLLogic.py:200: UserWarning: Using the replacement rule: a >= b --> sigmoid(a - b)\n",
            "  jax_geq, jax_param = self.greaterEqual()\n",
            "/content/pyRDDLGym/pyRDDLGym/Core/Jax/JaxRDDLLogic.py:208: UserWarning: Using the replacement rule: a > b --> sigmoid(a - b)\n",
            "  jax_gre, jax_param = self.greater()\n",
            "/content/pyRDDLGym/pyRDDLGym/Core/Jax/JaxRDDLBackpropPlanner.py:58: UserWarning: Using the replacement rule: a > b --> sigmoid(a - b)\n",
            "  '>': logic.greater(),\n",
            "/content/pyRDDLGym/pyRDDLGym/Core/Jax/JaxRDDLBackpropPlanner.py:59: UserWarning: Using the replacement rule: a == b --> sech^2(b - a)\n",
            "  '==': logic.equal(),\n",
            "/content/pyRDDLGym/pyRDDLGym/Core/Jax/JaxRDDLLogic.py:233: UserWarning: Using the replacement rule: a == b --> sech^2(b - a)\n",
            "  jax_eq, jax_param = self.equal()\n",
            "/content/pyRDDLGym/pyRDDLGym/Core/Jax/JaxRDDLBackpropPlanner.py:62: UserWarning: Using the replacement rule: ~a --> 1 - a\n",
            "  self.LOGICAL_NOT = logic.Not()\n",
            "/content/pyRDDLGym/pyRDDLGym/Core/Jax/JaxRDDLBackpropPlanner.py:64: UserWarning: Using the replacement rule: a ^ b --> tnorm(a, b).\n",
            "  '^': logic.And(),\n",
            "/content/pyRDDLGym/pyRDDLGym/Core/Jax/JaxRDDLBackpropPlanner.py:65: UserWarning: Using the replacement rule: a ^ b --> tnorm(a, b).\n",
            "  '&': logic.And(),\n",
            "/content/pyRDDLGym/pyRDDLGym/Core/Jax/JaxRDDLBackpropPlanner.py:66: UserWarning: Using the replacement rule: a or b --> tconorm(a, b).\n",
            "  '|': logic.Or(),\n",
            "/content/pyRDDLGym/pyRDDLGym/Core/Jax/JaxRDDLBackpropPlanner.py:67: UserWarning: Using the replacement rule: a xor b --> (a or b) ^ (a ^ b).\n",
            "  '~': logic.xor(),\n",
            "/content/pyRDDLGym/pyRDDLGym/Core/Jax/JaxRDDLBackpropPlanner.py:68: UserWarning: Using the replacement rule: a => b --> ~a ^ b\n",
            "  '=>': logic.implies(),\n",
            "/content/pyRDDLGym/pyRDDLGym/Core/Jax/JaxRDDLBackpropPlanner.py:69: UserWarning: Using the replacement rule: a <=> b --> (a => b) ^ (b => a)\n",
            "  '<=>': logic.equiv()\n",
            "/content/pyRDDLGym/pyRDDLGym/Core/Jax/JaxRDDLBackpropPlanner.py:71: UserWarning: Using the replacement rule: forall(a) --> tnorm(a[1], tnorm(a[2], ...))\n",
            "  self.AGGREGATION_OPS['forall'] = logic.forall()\n",
            "/content/pyRDDLGym/pyRDDLGym/Core/Jax/JaxRDDLLogic.py:156: UserWarning: Using the replacement rule: forall(a) --> tnorm(a[1], tnorm(a[2], ...))\n",
            "  jax_forall, jax_param = self.forall()\n",
            "/content/pyRDDLGym/pyRDDLGym/Core/Jax/JaxRDDLLogic.py:385: UserWarning: Using the replacement rule: argmax(x) --> sum(i * softmax(x[i]))\n",
            "  jax_argmax, jax_param = self.argmax()\n",
            "/content/pyRDDLGym/pyRDDLGym/Core/Jax/JaxRDDLBackpropPlanner.py:74: UserWarning: Using the replacement rule: argmax(x) --> sum(i * softmax(x[i]))\n",
            "  self.AGGREGATION_OPS['argmax'] = logic.argmax()\n",
            "/content/pyRDDLGym/pyRDDLGym/Core/Jax/JaxRDDLBackpropPlanner.py:75: UserWarning: Using the replacement rule: signum(x) --> tanh(x)\n",
            "  self.KNOWN_UNARY['sgn'] = logic.signum()\n",
            "/content/pyRDDLGym/pyRDDLGym/Core/Jax/JaxRDDLLogic.py:294: UserWarning: Using the replacement rule: ceil(x) --> ceil(x - 0.5) + step(x - 0.5), where step is a smooth approximation of the step function\n",
            "  warnings.warn('Using the replacement rule: '\n",
            "/content/pyRDDLGym/pyRDDLGym/Core/Jax/JaxRDDLBackpropPlanner.py:78: UserWarning: Using the replacement rule: round(x) --> x\n",
            "  self.KNOWN_UNARY['round'] = logic.round()\n",
            "/content/pyRDDLGym/pyRDDLGym/Core/Jax/JaxRDDLBackpropPlanner.py:79: UserWarning: Using the replacement rule: sqrt(x) --> sqrt(x + eps)\n",
            "  self.KNOWN_UNARY['sqrt'] = logic.sqrt()\n",
            "/content/pyRDDLGym/pyRDDLGym/Core/Jax/JaxRDDLCompiler.py:152: UserWarning: CPFs outputs will be cast to real.\n",
            "  self.cpfs = self._compile_cpfs(info)\n",
            "/content/pyRDDLGym/pyRDDLGym/Core/Jax/JaxRDDLBackpropPlanner.py:105: UserWarning: Using the replacement rule: if c then a else b --> c * a + (1 - c) * b\n",
            "  return self.logic.If()\n",
            "/content/pyRDDLGym/pyRDDLGym/Core/Jax/JaxRDDLBackpropPlanner.py:259: UserWarning: Bounds of action fluent <fx> set to (-inf, inf)\n",
            "  shapes, bounds = self._calculate_action_info(compiled, _bounds, horizon)\n",
            "/content/pyRDDLGym/pyRDDLGym/Core/Jax/JaxRDDLBackpropPlanner.py:259: UserWarning: Bounds of action fluent <fy> set to (-inf, inf)\n",
            "  shapes, bounds = self._calculate_action_info(compiled, _bounds, horizon)\n"
          ]
        }
      ]
    },
    {
      "cell_type": "code",
      "source": [
        "# train for 1000 epochs using gradient ascent \n",
        "for callback in planner.optimize(jax.random.PRNGKey(42), epochs=1000, step=10):\n",
        "    print('epoch={} train_return={:.6f} test_return={:.6f}'.format(\n",
        "          str(callback['iteration']).rjust(4),\n",
        "          callback['train_return'],\n",
        "          callback['test_return']))"
      ],
      "metadata": {
        "id": "7-FixQTq_pbt",
        "outputId": "a7918055-979e-4f5b-987f-395a7d28ecf8",
        "colab": {
          "base_uri": "https://localhost:8080/"
        }
      },
      "execution_count": null,
      "outputs": [
        {
          "output_type": "stream",
          "name": "stdout",
          "text": [
            "epoch=   0 train_return=-0.001835 test_return=-0.001842\n",
            "epoch=  10 train_return=-0.000694 test_return=-0.000701\n",
            "epoch=  20 train_return=-0.000637 test_return=-0.000644\n",
            "epoch=  30 train_return=-0.000636 test_return=-0.000643\n",
            "epoch=  40 train_return=-0.000623 test_return=-0.000630\n",
            "epoch=  50 train_return=-0.000626 test_return=-0.000633\n",
            "epoch=  60 train_return=-0.000632 test_return=-0.000639\n",
            "epoch=  70 train_return=-0.000622 test_return=-0.000629\n",
            "epoch=  80 train_return=-0.000625 test_return=-0.000632\n",
            "epoch=  90 train_return=-0.000630 test_return=-0.000636\n",
            "epoch= 100 train_return=-0.000633 test_return=-0.000640\n",
            "epoch= 110 train_return=-0.000639 test_return=-0.000646\n",
            "epoch= 120 train_return=-0.000635 test_return=-0.000642\n",
            "epoch= 130 train_return=-0.000625 test_return=-0.000632\n",
            "epoch= 140 train_return=-0.000630 test_return=-0.000637\n",
            "epoch= 150 train_return=-0.000622 test_return=-0.000629\n",
            "epoch= 160 train_return=-0.000627 test_return=-0.000634\n",
            "epoch= 170 train_return=-0.000615 test_return=-0.000622\n",
            "epoch= 180 train_return=-0.000632 test_return=-0.000639\n",
            "epoch= 190 train_return=-0.000621 test_return=-0.000628\n",
            "epoch= 200 train_return=-0.000632 test_return=-0.000639\n",
            "epoch= 210 train_return=-0.000637 test_return=-0.000644\n",
            "epoch= 220 train_return=-0.000627 test_return=-0.000633\n",
            "epoch= 230 train_return=-0.000564 test_return=-0.000571\n",
            "epoch= 240 train_return=-0.000559 test_return=-0.000566\n",
            "epoch= 250 train_return=-0.000580 test_return=-0.000586\n",
            "epoch= 260 train_return=-0.000571 test_return=-0.000577\n",
            "epoch= 270 train_return=-0.000577 test_return=-0.000583\n",
            "epoch= 280 train_return=-0.000566 test_return=-0.000573\n",
            "epoch= 290 train_return=-0.000573 test_return=-0.000580\n",
            "epoch= 300 train_return=-0.000572 test_return=-0.000579\n",
            "epoch= 310 train_return=-0.000579 test_return=-0.000586\n",
            "epoch= 320 train_return=-0.000577 test_return=-0.000583\n",
            "epoch= 330 train_return=-0.000571 test_return=-0.000578\n",
            "epoch= 340 train_return=-0.000571 test_return=-0.000578\n",
            "epoch= 350 train_return=-0.000581 test_return=-0.000588\n",
            "epoch= 360 train_return=-0.000564 test_return=-0.000571\n",
            "epoch= 370 train_return=-0.000535 test_return=-0.000542\n",
            "epoch= 380 train_return=-0.000560 test_return=-0.000567\n",
            "epoch= 390 train_return=-0.000552 test_return=-0.000559\n",
            "epoch= 400 train_return=-0.000580 test_return=-0.000586\n",
            "epoch= 410 train_return=-0.000561 test_return=-0.000568\n",
            "epoch= 420 train_return=-0.000567 test_return=-0.000574\n",
            "epoch= 430 train_return=-0.000567 test_return=-0.000574\n",
            "epoch= 440 train_return=-0.000567 test_return=-0.000574\n",
            "epoch= 450 train_return=-0.000570 test_return=-0.000577\n",
            "epoch= 460 train_return=-0.000557 test_return=-0.000564\n",
            "epoch= 470 train_return=-0.000572 test_return=-0.000579\n",
            "epoch= 480 train_return=-0.000568 test_return=-0.000575\n",
            "epoch= 490 train_return=-0.000570 test_return=-0.000577\n",
            "epoch= 500 train_return=-0.000548 test_return=-0.000555\n",
            "epoch= 510 train_return=-0.000565 test_return=-0.000572\n",
            "epoch= 520 train_return=-0.000561 test_return=-0.000568\n",
            "epoch= 530 train_return=-0.000574 test_return=-0.000581\n",
            "epoch= 540 train_return=-0.000579 test_return=-0.000586\n",
            "epoch= 550 train_return=-0.000564 test_return=-0.000571\n",
            "epoch= 560 train_return=-0.000554 test_return=-0.000561\n",
            "epoch= 570 train_return=-0.000564 test_return=-0.000571\n",
            "epoch= 580 train_return=-0.000578 test_return=-0.000584\n",
            "epoch= 590 train_return=-0.000570 test_return=-0.000577\n",
            "epoch= 600 train_return=-0.000573 test_return=-0.000580\n",
            "epoch= 610 train_return=-0.000576 test_return=-0.000583\n",
            "epoch= 620 train_return=-0.000566 test_return=-0.000572\n",
            "epoch= 630 train_return=-0.000565 test_return=-0.000572\n",
            "epoch= 640 train_return=-0.000573 test_return=-0.000580\n",
            "epoch= 650 train_return=-0.000569 test_return=-0.000575\n",
            "epoch= 660 train_return=-0.000572 test_return=-0.000579\n",
            "epoch= 670 train_return=-0.000572 test_return=-0.000579\n",
            "epoch= 680 train_return=-0.000587 test_return=-0.000594\n",
            "epoch= 690 train_return=-0.000574 test_return=-0.000581\n",
            "epoch= 700 train_return=-0.000582 test_return=-0.000589\n",
            "epoch= 710 train_return=-0.000566 test_return=-0.000573\n",
            "epoch= 720 train_return=-0.000591 test_return=-0.000598\n",
            "epoch= 730 train_return=-0.000562 test_return=-0.000569\n",
            "epoch= 740 train_return=-0.000571 test_return=-0.000578\n",
            "epoch= 750 train_return=-0.000573 test_return=-0.000580\n",
            "epoch= 760 train_return=-0.000569 test_return=-0.000576\n",
            "epoch= 770 train_return=-0.000560 test_return=-0.000567\n",
            "epoch= 780 train_return=-0.000579 test_return=-0.000585\n",
            "epoch= 790 train_return=-0.000575 test_return=-0.000582\n",
            "epoch= 800 train_return=-0.000579 test_return=-0.000586\n",
            "epoch= 810 train_return=-0.000572 test_return=-0.000578\n",
            "epoch= 820 train_return=-0.000566 test_return=-0.000573\n",
            "epoch= 830 train_return=-0.000572 test_return=-0.000579\n",
            "epoch= 840 train_return=-0.000568 test_return=-0.000575\n",
            "epoch= 850 train_return=-0.000567 test_return=-0.000574\n",
            "epoch= 860 train_return=-0.000567 test_return=-0.000574\n",
            "epoch= 870 train_return=-0.000573 test_return=-0.000579\n",
            "epoch= 880 train_return=-0.000535 test_return=-0.000542\n",
            "epoch= 890 train_return=-0.000536 test_return=-0.000543\n",
            "epoch= 900 train_return=-0.000510 test_return=-0.000517\n",
            "epoch= 910 train_return=-0.000510 test_return=-0.000517\n",
            "epoch= 920 train_return=-0.000511 test_return=-0.000517\n",
            "epoch= 930 train_return=-0.000511 test_return=-0.000517\n",
            "epoch= 940 train_return=-0.000511 test_return=-0.000517\n",
            "epoch= 950 train_return=-0.000511 test_return=-0.000518\n",
            "epoch= 960 train_return=-0.000511 test_return=-0.000518\n",
            "epoch= 970 train_return=-0.000511 test_return=-0.000518\n",
            "epoch= 980 train_return=-0.000511 test_return=-0.000518\n",
            "epoch= 990 train_return=-0.000511 test_return=-0.000518\n",
            "epoch= 999 train_return=-0.000182 test_return=-0.000189\n"
          ]
        }
      ]
    },
    {
      "cell_type": "code",
      "source": [
        "!pip install cloudpickle"
      ],
      "metadata": {
        "id": "_1wBsjOp6PRu",
        "outputId": "26dcf3db-07bb-4e8d-8397-34aa5a73d3f8",
        "colab": {
          "base_uri": "https://localhost:8080/"
        }
      },
      "execution_count": null,
      "outputs": [
        {
          "output_type": "stream",
          "name": "stderr",
          "text": [
            "/usr/local/lib/python3.9/dist-packages/ipykernel/ipkernel.py:283: DeprecationWarning: `should_run_async` will not call `transform_cell` automatically in the future. Please pass the result to `transformed_cell` argument and any exception that happen during thetransform in `preprocessing_exc_tuple` in IPython 7.17 and above.\n",
            "  and should_run_async(code)\n"
          ]
        },
        {
          "output_type": "stream",
          "name": "stdout",
          "text": [
            "Looking in indexes: https://pypi.org/simple, https://us-python.pkg.dev/colab-wheels/public/simple/\n",
            "Requirement already satisfied: cloudpickle in /usr/local/lib/python3.9/dist-packages (2.2.1)\n"
          ]
        }
      ]
    },
    {
      "cell_type": "code",
      "source": [
        "import cloudpickle as pickle\n",
        "\n",
        "# Serialize the planner\n",
        "with open('trained_planner.pkl', 'wb') as f:\n",
        "    pickle.dump(planner, f)\n",
        "\n",
        "# Deserialize the planner\n",
        "with open('trained_planner.pkl', 'rb') as f:\n",
        "    planner = pickle.load(f)\n"
      ],
      "metadata": {
        "id": "Uupv9CS_6SYS"
      },
      "execution_count": null,
      "outputs": []
    },
    {
      "cell_type": "code",
      "source": [
        "# Get the final action sequence\n",
        "final_params = callback['params']\n",
        "final_plan = planner.get_action(jax.random.PRNGKey(42), final_params, 0, None)\n",
        "print(\"Final Plan:\", final_plan)"
      ],
      "metadata": {
        "id": "AoAk97LkAJCM",
        "outputId": "c285daa8-2476-47e2-996f-480580cfe58b",
        "colab": {
          "base_uri": "https://localhost:8080/"
        }
      },
      "execution_count": null,
      "outputs": [
        {
          "output_type": "stream",
          "name": "stdout",
          "text": [
            "Final Plan: {'fx': -0.0012986381, 'fy': -0.0012989824}\n"
          ]
        }
      ]
    },
    {
      "cell_type": "code",
      "source": [
        "# Get the final action sequence\n",
        "final_params = callback['params']\n",
        "final_plan = planner.get_action(jax.random.PRNGKey(42), final_params, 0, None)\n",
        "print(\"Final Plan:\", final_plan)"
      ],
      "metadata": {
        "id": "nC5pRHW56rFe",
        "colab": {
          "base_uri": "https://localhost:8080/"
        },
        "outputId": "bfa759b5-c066-46f3-b428-c8ab74bbb6b1"
      },
      "execution_count": null,
      "outputs": [
        {
          "output_type": "stream",
          "name": "stdout",
          "text": [
            "Final Plan: {'fx': -0.0012986381, 'fy': -0.0012989824}\n"
          ]
        }
      ]
    },
    {
      "cell_type": "code",
      "source": [],
      "metadata": {
        "id": "-FLOZCaXYNEf"
      },
      "execution_count": null,
      "outputs": []
    }
  ]
}