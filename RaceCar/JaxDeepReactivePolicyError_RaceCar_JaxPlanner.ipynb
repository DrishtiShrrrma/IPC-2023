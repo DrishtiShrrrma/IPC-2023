{
  "nbformat": 4,
  "nbformat_minor": 0,
  "metadata": {
    "colab": {
      "provenance": []
    },
    "kernelspec": {
      "name": "python3",
      "display_name": "Python 3"
    },
    "language_info": {
      "name": "python"
    }
  },
  "cells": [
    {
      "cell_type": "markdown",
      "source": [
        "#Cloning the pyRDDLGym repository to obtain the pyRDDLGym infrstructure"
      ],
      "metadata": {
        "id": "3P-VZ-R58hKQ"
      }
    },
    {
      "cell_type": "code",
      "source": [
        "!apt-get install python3.10\n"
      ],
      "metadata": {
        "id": "8YMndTF72A5d",
        "outputId": "d6762ca3-03cf-49d8-dae0-814b16b93079",
        "colab": {
          "base_uri": "https://localhost:8080/"
        }
      },
      "execution_count": null,
      "outputs": [
        {
          "output_type": "stream",
          "name": "stdout",
          "text": [
            "Reading package lists... Done\n",
            "Building dependency tree       \n",
            "Reading state information... Done\n",
            "python3.10 is already the newest version (3.10.11-1+focal1).\n",
            "0 upgraded, 0 newly installed, 0 to remove and 24 not upgraded.\n"
          ]
        }
      ]
    },
    {
      "cell_type": "code",
      "execution_count": null,
      "metadata": {
        "colab": {
          "base_uri": "https://localhost:8080/"
        },
        "id": "oXxyKhVL8ewW",
        "outputId": "4001cf72-4963-4f0c-b84e-afdabe7f0482"
      },
      "outputs": [
        {
          "output_type": "stream",
          "name": "stdout",
          "text": [
            "fatal: destination path 'pyRDDLGym' already exists and is not an empty directory.\n"
          ]
        }
      ],
      "source": [
        "!git clone https://github.com/ataitler/pyRDDLGym.git"
      ]
    },
    {
      "cell_type": "markdown",
      "source": [
        "#Initializing environment in pyRDDLGym"
      ],
      "metadata": {
        "id": "63RLo6Lc9uYp"
      }
    },
    {
      "cell_type": "code",
      "source": [
        "#Changing the working directory to the \"pyRDDLGym\" directory\n",
        "%cd /content/pyRDDLGym"
      ],
      "metadata": {
        "colab": {
          "base_uri": "https://localhost:8080/"
        },
        "id": "un8yAzmw8v8R",
        "outputId": "35bc73e9-4e67-4b1b-bc28-1b45f76a4fce"
      },
      "execution_count": null,
      "outputs": [
        {
          "output_type": "stream",
          "name": "stdout",
          "text": [
            "/content/pyRDDLGym\n"
          ]
        }
      ]
    },
    {
      "cell_type": "code",
      "source": [
        "#Installing requirements_jax.txt\n",
        "!pip install -r requirements_jax.txt"
      ],
      "metadata": {
        "colab": {
          "base_uri": "https://localhost:8080/"
        },
        "id": "fkMLItNG93SZ",
        "outputId": "b1d5781d-cb90-4cc6-8f0b-fd9bab127dc0"
      },
      "execution_count": null,
      "outputs": [
        {
          "output_type": "stream",
          "name": "stdout",
          "text": [
            "Looking in indexes: https://pypi.org/simple, https://us-python.pkg.dev/colab-wheels/public/simple/\n",
            "Requirement already satisfied: matplotlib>=3.5.0 in /usr/local/lib/python3.10/dist-packages (from -r requirements_jax.txt (line 1)) (3.7.1)\n",
            "Requirement already satisfied: pillow>=9.2.0 in /usr/local/lib/python3.10/dist-packages (from -r requirements_jax.txt (line 2)) (9.5.0)\n",
            "Requirement already satisfied: gym>=0.24.0 in /usr/local/lib/python3.10/dist-packages (from -r requirements_jax.txt (line 3)) (0.25.2)\n",
            "Requirement already satisfied: numpy in /usr/local/lib/python3.10/dist-packages (from -r requirements_jax.txt (line 4)) (1.22.4)\n",
            "Requirement already satisfied: pygame in /usr/local/lib/python3.10/dist-packages (from -r requirements_jax.txt (line 5)) (2.3.0)\n",
            "Requirement already satisfied: ply in /usr/local/lib/python3.10/dist-packages (from -r requirements_jax.txt (line 6)) (3.11)\n",
            "Requirement already satisfied: jax>=0.3.25 in /usr/local/lib/python3.10/dist-packages (from -r requirements_jax.txt (line 7)) (0.4.8)\n",
            "Requirement already satisfied: optax>=0.1.4 in /usr/local/lib/python3.10/dist-packages (from -r requirements_jax.txt (line 8)) (0.1.5)\n",
            "Requirement already satisfied: dm-haiku>=0.0.9 in /usr/local/lib/python3.10/dist-packages (from -r requirements_jax.txt (line 9)) (0.0.9)\n",
            "Requirement already satisfied: tensorflow>=2.11.0 in /usr/local/lib/python3.10/dist-packages (from -r requirements_jax.txt (line 10)) (2.12.0)\n",
            "Requirement already satisfied: tensorflow-probability>=0.19.0 in /usr/local/lib/python3.10/dist-packages (from -r requirements_jax.txt (line 11)) (0.19.0)\n",
            "Requirement already satisfied: python-dateutil>=2.7 in /usr/local/lib/python3.10/dist-packages (from matplotlib>=3.5.0->-r requirements_jax.txt (line 1)) (2.8.2)\n",
            "Requirement already satisfied: contourpy>=1.0.1 in /usr/local/lib/python3.10/dist-packages (from matplotlib>=3.5.0->-r requirements_jax.txt (line 1)) (1.0.7)\n",
            "Requirement already satisfied: pyparsing>=2.3.1 in /usr/local/lib/python3.10/dist-packages (from matplotlib>=3.5.0->-r requirements_jax.txt (line 1)) (3.0.9)\n",
            "Requirement already satisfied: cycler>=0.10 in /usr/local/lib/python3.10/dist-packages (from matplotlib>=3.5.0->-r requirements_jax.txt (line 1)) (0.11.0)\n",
            "Requirement already satisfied: kiwisolver>=1.0.1 in /usr/local/lib/python3.10/dist-packages (from matplotlib>=3.5.0->-r requirements_jax.txt (line 1)) (1.4.4)\n",
            "Requirement already satisfied: fonttools>=4.22.0 in /usr/local/lib/python3.10/dist-packages (from matplotlib>=3.5.0->-r requirements_jax.txt (line 1)) (4.39.3)\n",
            "Requirement already satisfied: packaging>=20.0 in /usr/local/lib/python3.10/dist-packages (from matplotlib>=3.5.0->-r requirements_jax.txt (line 1)) (23.1)\n",
            "Requirement already satisfied: gym-notices>=0.0.4 in /usr/local/lib/python3.10/dist-packages (from gym>=0.24.0->-r requirements_jax.txt (line 3)) (0.0.8)\n",
            "Requirement already satisfied: cloudpickle>=1.2.0 in /usr/local/lib/python3.10/dist-packages (from gym>=0.24.0->-r requirements_jax.txt (line 3)) (2.2.1)\n",
            "Requirement already satisfied: opt-einsum in /usr/local/lib/python3.10/dist-packages (from jax>=0.3.25->-r requirements_jax.txt (line 7)) (3.3.0)\n",
            "Requirement already satisfied: scipy>=1.7 in /usr/local/lib/python3.10/dist-packages (from jax>=0.3.25->-r requirements_jax.txt (line 7)) (1.10.1)\n",
            "Requirement already satisfied: ml-dtypes>=0.0.3 in /usr/local/lib/python3.10/dist-packages (from jax>=0.3.25->-r requirements_jax.txt (line 7)) (0.1.0)\n",
            "Requirement already satisfied: chex>=0.1.5 in /usr/local/lib/python3.10/dist-packages (from optax>=0.1.4->-r requirements_jax.txt (line 8)) (0.1.7)\n",
            "Requirement already satisfied: absl-py>=0.7.1 in /usr/local/lib/python3.10/dist-packages (from optax>=0.1.4->-r requirements_jax.txt (line 8)) (1.4.0)\n",
            "Requirement already satisfied: jaxlib>=0.1.37 in /usr/local/lib/python3.10/dist-packages (from optax>=0.1.4->-r requirements_jax.txt (line 8)) (0.4.7+cuda11.cudnn86)\n",
            "Requirement already satisfied: tabulate>=0.8.9 in /usr/local/lib/python3.10/dist-packages (from dm-haiku>=0.0.9->-r requirements_jax.txt (line 9)) (0.8.10)\n",
            "Requirement already satisfied: jmp>=0.0.2 in /usr/local/lib/python3.10/dist-packages (from dm-haiku>=0.0.9->-r requirements_jax.txt (line 9)) (0.0.4)\n",
            "Requirement already satisfied: astunparse>=1.6.0 in /usr/local/lib/python3.10/dist-packages (from tensorflow>=2.11.0->-r requirements_jax.txt (line 10)) (1.6.3)\n",
            "Requirement already satisfied: protobuf!=4.21.0,!=4.21.1,!=4.21.2,!=4.21.3,!=4.21.4,!=4.21.5,<5.0.0dev,>=3.20.3 in /usr/local/lib/python3.10/dist-packages (from tensorflow>=2.11.0->-r requirements_jax.txt (line 10)) (3.20.3)\n",
            "Requirement already satisfied: termcolor>=1.1.0 in /usr/local/lib/python3.10/dist-packages (from tensorflow>=2.11.0->-r requirements_jax.txt (line 10)) (2.3.0)\n",
            "Requirement already satisfied: tensorflow-io-gcs-filesystem>=0.23.1 in /usr/local/lib/python3.10/dist-packages (from tensorflow>=2.11.0->-r requirements_jax.txt (line 10)) (0.32.0)\n",
            "Requirement already satisfied: keras<2.13,>=2.12.0 in /usr/local/lib/python3.10/dist-packages (from tensorflow>=2.11.0->-r requirements_jax.txt (line 10)) (2.12.0)\n",
            "Requirement already satisfied: setuptools in /usr/local/lib/python3.10/dist-packages (from tensorflow>=2.11.0->-r requirements_jax.txt (line 10)) (67.7.2)\n",
            "Requirement already satisfied: grpcio<2.0,>=1.24.3 in /usr/local/lib/python3.10/dist-packages (from tensorflow>=2.11.0->-r requirements_jax.txt (line 10)) (1.54.0)\n",
            "Requirement already satisfied: wrapt<1.15,>=1.11.0 in /usr/local/lib/python3.10/dist-packages (from tensorflow>=2.11.0->-r requirements_jax.txt (line 10)) (1.14.1)\n",
            "Requirement already satisfied: gast<=0.4.0,>=0.2.1 in /usr/local/lib/python3.10/dist-packages (from tensorflow>=2.11.0->-r requirements_jax.txt (line 10)) (0.4.0)\n",
            "Requirement already satisfied: typing-extensions>=3.6.6 in /usr/local/lib/python3.10/dist-packages (from tensorflow>=2.11.0->-r requirements_jax.txt (line 10)) (4.5.0)\n",
            "Requirement already satisfied: tensorboard<2.13,>=2.12 in /usr/local/lib/python3.10/dist-packages (from tensorflow>=2.11.0->-r requirements_jax.txt (line 10)) (2.12.2)\n",
            "Requirement already satisfied: flatbuffers>=2.0 in /usr/local/lib/python3.10/dist-packages (from tensorflow>=2.11.0->-r requirements_jax.txt (line 10)) (23.3.3)\n",
            "Requirement already satisfied: libclang>=13.0.0 in /usr/local/lib/python3.10/dist-packages (from tensorflow>=2.11.0->-r requirements_jax.txt (line 10)) (16.0.0)\n",
            "Requirement already satisfied: tensorflow-estimator<2.13,>=2.12.0 in /usr/local/lib/python3.10/dist-packages (from tensorflow>=2.11.0->-r requirements_jax.txt (line 10)) (2.12.0)\n",
            "Requirement already satisfied: google-pasta>=0.1.1 in /usr/local/lib/python3.10/dist-packages (from tensorflow>=2.11.0->-r requirements_jax.txt (line 10)) (0.2.0)\n",
            "Requirement already satisfied: h5py>=2.9.0 in /usr/local/lib/python3.10/dist-packages (from tensorflow>=2.11.0->-r requirements_jax.txt (line 10)) (3.8.0)\n",
            "Requirement already satisfied: six>=1.12.0 in /usr/local/lib/python3.10/dist-packages (from tensorflow>=2.11.0->-r requirements_jax.txt (line 10)) (1.16.0)\n",
            "Requirement already satisfied: decorator in /usr/local/lib/python3.10/dist-packages (from tensorflow-probability>=0.19.0->-r requirements_jax.txt (line 11)) (4.4.2)\n",
            "Requirement already satisfied: dm-tree in /usr/local/lib/python3.10/dist-packages (from tensorflow-probability>=0.19.0->-r requirements_jax.txt (line 11)) (0.1.8)\n",
            "Requirement already satisfied: wheel<1.0,>=0.23.0 in /usr/local/lib/python3.10/dist-packages (from astunparse>=1.6.0->tensorflow>=2.11.0->-r requirements_jax.txt (line 10)) (0.40.0)\n",
            "Requirement already satisfied: toolz>=0.9.0 in /usr/local/lib/python3.10/dist-packages (from chex>=0.1.5->optax>=0.1.4->-r requirements_jax.txt (line 8)) (0.12.0)\n",
            "Requirement already satisfied: google-auth<3,>=1.6.3 in /usr/local/lib/python3.10/dist-packages (from tensorboard<2.13,>=2.12->tensorflow>=2.11.0->-r requirements_jax.txt (line 10)) (2.17.3)\n",
            "Requirement already satisfied: tensorboard-data-server<0.8.0,>=0.7.0 in /usr/local/lib/python3.10/dist-packages (from tensorboard<2.13,>=2.12->tensorflow>=2.11.0->-r requirements_jax.txt (line 10)) (0.7.0)\n",
            "Requirement already satisfied: requests<3,>=2.21.0 in /usr/local/lib/python3.10/dist-packages (from tensorboard<2.13,>=2.12->tensorflow>=2.11.0->-r requirements_jax.txt (line 10)) (2.27.1)\n",
            "Requirement already satisfied: markdown>=2.6.8 in /usr/local/lib/python3.10/dist-packages (from tensorboard<2.13,>=2.12->tensorflow>=2.11.0->-r requirements_jax.txt (line 10)) (3.4.3)\n",
            "Requirement already satisfied: tensorboard-plugin-wit>=1.6.0 in /usr/local/lib/python3.10/dist-packages (from tensorboard<2.13,>=2.12->tensorflow>=2.11.0->-r requirements_jax.txt (line 10)) (1.8.1)\n",
            "Requirement already satisfied: google-auth-oauthlib<1.1,>=0.5 in /usr/local/lib/python3.10/dist-packages (from tensorboard<2.13,>=2.12->tensorflow>=2.11.0->-r requirements_jax.txt (line 10)) (1.0.0)\n",
            "Requirement already satisfied: werkzeug>=1.0.1 in /usr/local/lib/python3.10/dist-packages (from tensorboard<2.13,>=2.12->tensorflow>=2.11.0->-r requirements_jax.txt (line 10)) (2.3.0)\n",
            "Requirement already satisfied: rsa<5,>=3.1.4 in /usr/local/lib/python3.10/dist-packages (from google-auth<3,>=1.6.3->tensorboard<2.13,>=2.12->tensorflow>=2.11.0->-r requirements_jax.txt (line 10)) (4.9)\n",
            "Requirement already satisfied: cachetools<6.0,>=2.0.0 in /usr/local/lib/python3.10/dist-packages (from google-auth<3,>=1.6.3->tensorboard<2.13,>=2.12->tensorflow>=2.11.0->-r requirements_jax.txt (line 10)) (5.3.0)\n",
            "Requirement already satisfied: pyasn1-modules>=0.2.1 in /usr/local/lib/python3.10/dist-packages (from google-auth<3,>=1.6.3->tensorboard<2.13,>=2.12->tensorflow>=2.11.0->-r requirements_jax.txt (line 10)) (0.3.0)\n",
            "Requirement already satisfied: requests-oauthlib>=0.7.0 in /usr/local/lib/python3.10/dist-packages (from google-auth-oauthlib<1.1,>=0.5->tensorboard<2.13,>=2.12->tensorflow>=2.11.0->-r requirements_jax.txt (line 10)) (1.3.1)\n",
            "Requirement already satisfied: charset-normalizer~=2.0.0 in /usr/local/lib/python3.10/dist-packages (from requests<3,>=2.21.0->tensorboard<2.13,>=2.12->tensorflow>=2.11.0->-r requirements_jax.txt (line 10)) (2.0.12)\n",
            "Requirement already satisfied: urllib3<1.27,>=1.21.1 in /usr/local/lib/python3.10/dist-packages (from requests<3,>=2.21.0->tensorboard<2.13,>=2.12->tensorflow>=2.11.0->-r requirements_jax.txt (line 10)) (1.26.15)\n",
            "Requirement already satisfied: certifi>=2017.4.17 in /usr/local/lib/python3.10/dist-packages (from requests<3,>=2.21.0->tensorboard<2.13,>=2.12->tensorflow>=2.11.0->-r requirements_jax.txt (line 10)) (2022.12.7)\n",
            "Requirement already satisfied: idna<4,>=2.5 in /usr/local/lib/python3.10/dist-packages (from requests<3,>=2.21.0->tensorboard<2.13,>=2.12->tensorflow>=2.11.0->-r requirements_jax.txt (line 10)) (3.4)\n",
            "Requirement already satisfied: MarkupSafe>=2.1.1 in /usr/local/lib/python3.10/dist-packages (from werkzeug>=1.0.1->tensorboard<2.13,>=2.12->tensorflow>=2.11.0->-r requirements_jax.txt (line 10)) (2.1.2)\n",
            "Requirement already satisfied: pyasn1<0.6.0,>=0.4.6 in /usr/local/lib/python3.10/dist-packages (from pyasn1-modules>=0.2.1->google-auth<3,>=1.6.3->tensorboard<2.13,>=2.12->tensorflow>=2.11.0->-r requirements_jax.txt (line 10)) (0.5.0)\n",
            "Requirement already satisfied: oauthlib>=3.0.0 in /usr/local/lib/python3.10/dist-packages (from requests-oauthlib>=0.7.0->google-auth-oauthlib<1.1,>=0.5->tensorboard<2.13,>=2.12->tensorflow>=2.11.0->-r requirements_jax.txt (line 10)) (3.2.2)\n"
          ]
        }
      ]
    },
    {
      "cell_type": "markdown",
      "source": [
        "![image.png](data:image/png;base64,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)"
      ],
      "metadata": {
        "id": "8dcKN6Zc-Kg3"
      }
    },
    {
      "cell_type": "code",
      "source": [
        "#Importing the required packages\n",
        "import jax\n",
        "import optax\n",
        "from pyRDDLGym import ExampleManager\n",
        "from pyRDDLGym import RDDLEnv\n",
        "from pyRDDLGym.Core.Jax.JaxRDDLBackpropPlanner import JaxRDDLBackpropPlanner, JaxStraightLinePlan,JaxDeepReactivePolicy\n",
        "\n"
      ],
      "metadata": {
        "id": "tg_D3eaU-E2V"
      },
      "execution_count": null,
      "outputs": []
    },
    {
      "cell_type": "code",
      "source": [
        "# specify the model\n",
        "EnvInfo = ExampleManager.GetEnvInfo('RaceCar')\n",
        "myEnv = RDDLEnv.RDDLEnv(domain=EnvInfo.get_domain(), instance=EnvInfo.get_instance(0))\n",
        "model = myEnv.model"
      ],
      "metadata": {
        "id": "h1jZ91Xn-3VD"
      },
      "execution_count": null,
      "outputs": []
    },
    {
      "cell_type": "code",
      "source": [
        "# initialize the planner\n",
        "# note that actions should be constrained to [-1, 1] for Racecar\n",
        "planner = JaxRDDLBackpropPlanner(\n",
        "    model,\n",
        "    plan=JaxDeepReactivePolicy(topology = [256, 128]),\n",
        "    batch_size_train=32,\n",
        "    rollout_horizon=5,\n",
        "    optimizer=optax.rmsprop,\n",
        "    optimizer_kwargs={'learning_rate': 0.01})"
      ],
      "metadata": {
        "colab": {
          "base_uri": "https://localhost:8080/"
        },
        "id": "fTO1pIWa_B_t",
        "outputId": "85b1719c-e696-4817-cb7a-d074516523e2"
      },
      "execution_count": null,
      "outputs": [
        {
          "output_type": "stream",
          "name": "stderr",
          "text": [
            "/content/pyRDDLGym/pyRDDLGym/Core/Jax/JaxRDDLBackpropPlanner.py:844: UserWarning: Initial values of pvariables will be cast to real.\n",
            "  self.compiled = JaxRDDLCompilerWithGrad(\n",
            "/content/pyRDDLGym/pyRDDLGym/Core/Jax/JaxRDDLBackpropPlanner.py:55: UserWarning: Using the replacement rule: a >= b --> sigmoid(a - b)\n",
            "  '>=': logic.greaterEqual(),\n",
            "/content/pyRDDLGym/pyRDDLGym/Core/Jax/JaxRDDLLogic.py:200: UserWarning: Using the replacement rule: a >= b --> sigmoid(a - b)\n",
            "  jax_geq, jax_param = self.greaterEqual()\n",
            "/content/pyRDDLGym/pyRDDLGym/Core/Jax/JaxRDDLLogic.py:208: UserWarning: Using the replacement rule: a > b --> sigmoid(a - b)\n",
            "  jax_gre, jax_param = self.greater()\n",
            "/content/pyRDDLGym/pyRDDLGym/Core/Jax/JaxRDDLBackpropPlanner.py:58: UserWarning: Using the replacement rule: a > b --> sigmoid(a - b)\n",
            "  '>': logic.greater(),\n",
            "/content/pyRDDLGym/pyRDDLGym/Core/Jax/JaxRDDLBackpropPlanner.py:59: UserWarning: Using the replacement rule: a == b --> sech^2(b - a)\n",
            "  '==': logic.equal(),\n",
            "/content/pyRDDLGym/pyRDDLGym/Core/Jax/JaxRDDLLogic.py:233: UserWarning: Using the replacement rule: a == b --> sech^2(b - a)\n",
            "  jax_eq, jax_param = self.equal()\n",
            "/content/pyRDDLGym/pyRDDLGym/Core/Jax/JaxRDDLBackpropPlanner.py:62: UserWarning: Using the replacement rule: ~a --> 1 - a\n",
            "  self.LOGICAL_NOT = logic.Not()\n",
            "/content/pyRDDLGym/pyRDDLGym/Core/Jax/JaxRDDLBackpropPlanner.py:64: UserWarning: Using the replacement rule: a ^ b --> tnorm(a, b).\n",
            "  '^': logic.And(),\n",
            "/content/pyRDDLGym/pyRDDLGym/Core/Jax/JaxRDDLBackpropPlanner.py:65: UserWarning: Using the replacement rule: a ^ b --> tnorm(a, b).\n",
            "  '&': logic.And(),\n",
            "/content/pyRDDLGym/pyRDDLGym/Core/Jax/JaxRDDLBackpropPlanner.py:66: UserWarning: Using the replacement rule: a or b --> tconorm(a, b).\n",
            "  '|': logic.Or(),\n",
            "/content/pyRDDLGym/pyRDDLGym/Core/Jax/JaxRDDLBackpropPlanner.py:67: UserWarning: Using the replacement rule: a xor b --> (a or b) ^ (a ^ b).\n",
            "  '~': logic.xor(),\n",
            "/content/pyRDDLGym/pyRDDLGym/Core/Jax/JaxRDDLBackpropPlanner.py:68: UserWarning: Using the replacement rule: a => b --> ~a ^ b\n",
            "  '=>': logic.implies(),\n",
            "/content/pyRDDLGym/pyRDDLGym/Core/Jax/JaxRDDLBackpropPlanner.py:69: UserWarning: Using the replacement rule: a <=> b --> (a => b) ^ (b => a)\n",
            "  '<=>': logic.equiv()\n",
            "/content/pyRDDLGym/pyRDDLGym/Core/Jax/JaxRDDLBackpropPlanner.py:71: UserWarning: Using the replacement rule: forall(a) --> tnorm(a[1], tnorm(a[2], ...))\n",
            "  self.AGGREGATION_OPS['forall'] = logic.forall()\n",
            "/content/pyRDDLGym/pyRDDLGym/Core/Jax/JaxRDDLLogic.py:156: UserWarning: Using the replacement rule: forall(a) --> tnorm(a[1], tnorm(a[2], ...))\n",
            "  jax_forall, jax_param = self.forall()\n",
            "/content/pyRDDLGym/pyRDDLGym/Core/Jax/JaxRDDLLogic.py:385: UserWarning: Using the replacement rule: argmax(x) --> sum(i * softmax(x[i]))\n",
            "  jax_argmax, jax_param = self.argmax()\n",
            "/content/pyRDDLGym/pyRDDLGym/Core/Jax/JaxRDDLBackpropPlanner.py:74: UserWarning: Using the replacement rule: argmax(x) --> sum(i * softmax(x[i]))\n",
            "  self.AGGREGATION_OPS['argmax'] = logic.argmax()\n",
            "/content/pyRDDLGym/pyRDDLGym/Core/Jax/JaxRDDLBackpropPlanner.py:75: UserWarning: Using the replacement rule: signum(x) --> tanh(x)\n",
            "  self.KNOWN_UNARY['sgn'] = logic.signum()\n",
            "/content/pyRDDLGym/pyRDDLGym/Core/Jax/JaxRDDLLogic.py:294: UserWarning: Using the replacement rule: ceil(x) --> ceil(x - 0.5) + step(x - 0.5), where step is a smooth approximation of the step function\n",
            "  warnings.warn('Using the replacement rule: '\n",
            "/content/pyRDDLGym/pyRDDLGym/Core/Jax/JaxRDDLBackpropPlanner.py:78: UserWarning: Using the replacement rule: round(x) --> x\n",
            "  self.KNOWN_UNARY['round'] = logic.round()\n",
            "/content/pyRDDLGym/pyRDDLGym/Core/Jax/JaxRDDLBackpropPlanner.py:79: UserWarning: Using the replacement rule: sqrt(x) --> sqrt(x + eps)\n",
            "  self.KNOWN_UNARY['sqrt'] = logic.sqrt()\n",
            "/content/pyRDDLGym/pyRDDLGym/Core/Jax/JaxRDDLCompiler.py:152: UserWarning: CPFs outputs will be cast to real.\n",
            "  self.cpfs = self._compile_cpfs(info)\n",
            "/content/pyRDDLGym/pyRDDLGym/Core/Jax/JaxRDDLBackpropPlanner.py:105: UserWarning: Using the replacement rule: if c then a else b --> c * a + (1 - c) * b\n",
            "  return self.logic.If()\n",
            "/content/pyRDDLGym/pyRDDLGym/Core/Jax/JaxRDDLBackpropPlanner.py:588: UserWarning: Bounds of action fluent <fx> set to (-inf, inf)\n",
            "  shapes, bounds = self._calculate_action_info(compiled, _bounds, horizon)\n",
            "/content/pyRDDLGym/pyRDDLGym/Core/Jax/JaxRDDLBackpropPlanner.py:588: UserWarning: Bounds of action fluent <fy> set to (-inf, inf)\n",
            "  shapes, bounds = self._calculate_action_info(compiled, _bounds, horizon)\n",
            "/usr/local/lib/python3.10/dist-packages/jax/_src/deprecations.py:51: DeprecationWarning: jax.xla is deprecated. Use jax.interpreters.xla\n",
            "  warnings.warn(message, DeprecationWarning)\n"
          ]
        }
      ]
    },
    {
      "cell_type": "code",
      "source": [
        "# train for 1000 epochs using gradient ascent \n",
        "for callback in planner.optimize(jax.random.PRNGKey(42), epochs=1000, step=100):\n",
        "    print('step={} train_return={:.6f} test_return={:.6f}'.format(\n",
        "          str(callback['iteration']).rjust(4),\n",
        "          callback['train_return'],\n",
        "          callback['test_return']))"
      ],
      "metadata": {
        "id": "7-FixQTq_pbt",
        "outputId": "eff823a6-872b-488c-db0a-390049a041eb",
        "colab": {
          "base_uri": "https://localhost:8080/"
        }
      },
      "execution_count": null,
      "outputs": [
        {
          "output_type": "stream",
          "name": "stdout",
          "text": [
            "step=   0 train_return=-1.407719 test_return=-1.030465\n",
            "step= 100 train_return=-0.000656 test_return=-0.000663\n",
            "step= 200 train_return=-0.000723 test_return=-0.000730\n",
            "step= 300 train_return=-0.000663 test_return=-0.000670\n",
            "step= 400 train_return=-0.000672 test_return=-0.000678\n",
            "step= 500 train_return=-0.000670 test_return=-0.000677\n",
            "step= 600 train_return=-0.000667 test_return=-0.000674\n",
            "step= 700 train_return=-0.000658 test_return=-0.000665\n",
            "step= 800 train_return=-0.000656 test_return=-0.000663\n",
            "step= 900 train_return=-0.000640 test_return=-0.000646\n",
            "step= 999 train_return=-0.000024 test_return=-0.000031\n"
          ]
        }
      ]
    },
    {
      "cell_type": "code",
      "source": [
        "!pip install cloudpickle"
      ],
      "metadata": {
        "id": "_1wBsjOp6PRu",
        "outputId": "80f6fb4c-e1d5-4e03-ff1f-f86618b8621f",
        "colab": {
          "base_uri": "https://localhost:8080/"
        }
      },
      "execution_count": null,
      "outputs": [
        {
          "output_type": "stream",
          "name": "stdout",
          "text": [
            "Looking in indexes: https://pypi.org/simple, https://us-python.pkg.dev/colab-wheels/public/simple/\n",
            "Requirement already satisfied: cloudpickle in /usr/local/lib/python3.10/dist-packages (2.2.1)\n"
          ]
        }
      ]
    },
    {
      "cell_type": "code",
      "source": [
        "import cloudpickle as pickle\n",
        "\n",
        "# Serialize the planner\n",
        "with open('trained_planner.pkl', 'wb') as f:\n",
        "    pickle.dump(planner, f)\n",
        "\n",
        "# Deserialize the planner\n",
        "with open('trained_planner.pkl', 'rb') as f:\n",
        "    planner = pickle.load(f)\n"
      ],
      "metadata": {
        "id": "Uupv9CS_6SYS"
      },
      "execution_count": null,
      "outputs": []
    },
    {
      "cell_type": "code",
      "source": [
        "callback['params']"
      ],
      "metadata": {
        "colab": {
          "base_uri": "https://localhost:8080/"
        },
        "id": "9VexhQWnWFXP",
        "outputId": "23d3e16b-c20c-4cdd-bc6d-7035c83bd770"
      },
      "execution_count": null,
      "outputs": [
        {
          "output_type": "execute_result",
          "data": {
            "text/plain": [
              "{'hidden_0': {'b': Array([ 0.03018249, -0.12861435,  0.        ,  0.        ,  0.        ,\n",
              "          0.        , -0.22538161, -0.05879086,  0.07720595, -0.03072068,\n",
              "          0.        , -0.1012135 ,  0.        , -0.09442827,  0.        ,\n",
              "         -0.07447277,  0.08529223, -0.18536073,  0.        , -0.11139543,\n",
              "         -0.13632317,  0.        , -0.03742076, -0.16980165, -0.05336532,\n",
              "          0.03085339,  0.0485538 ,  0.        , -0.05752765, -0.08157995,\n",
              "         -0.13984548, -0.0879734 , -0.13962229,  0.02044134,  0.05724432,\n",
              "         -0.07871945,  0.        ,  0.        ,  0.        ,  0.        ,\n",
              "          0.13663092, -0.09199302,  0.07820658,  0.        ,  0.00590906,\n",
              "         -0.03326691,  0.        ,  0.05975701,  0.09361162,  0.03498979,\n",
              "          0.        , -0.10899185, -0.11562796,  0.        ,  0.        ,\n",
              "          0.        , -0.02272762, -0.02915849, -0.03996691, -0.07680539,\n",
              "         -0.08109421,  0.        ,  0.        , -0.03869419,  0.01416544,\n",
              "          0.07827426, -0.18263902,  0.        ,  0.03329838, -0.08978112,\n",
              "         -0.06556898,  0.        , -0.163864  , -0.09932251,  0.        ,\n",
              "         -0.13860683,  0.        , -0.08930632, -0.0969625 ,  0.        ,\n",
              "          0.        , -0.09894515, -0.18595763, -0.09581447,  0.        ,\n",
              "          0.12422934, -0.07628058,  0.        ,  0.02953237, -0.11360691,\n",
              "          0.01930454, -0.03456583,  0.        ,  0.        ,  0.        ,\n",
              "          0.        ,  0.        , -0.08973887,  0.        ,  0.02647427,\n",
              "          0.        , -0.04992616, -0.21895921, -0.03077224,  0.        ,\n",
              "         -0.12689154, -0.10869513, -0.08920392, -0.13164535, -0.07158288,\n",
              "          0.        ,  0.01642521,  0.        , -0.09290688,  0.        ,\n",
              "         -0.03243966,  0.        ,  0.        ,  0.        ,  0.        ,\n",
              "         -0.0270646 ,  0.        ,  0.01492594,  0.        , -0.12392194,\n",
              "         -0.04945644, -0.03045111,  0.        , -0.08083994, -0.12549259,\n",
              "         -0.12703113,  0.02403786, -0.14507157,  0.        ,  0.        ,\n",
              "         -0.12399746, -0.06220137, -0.17268272,  0.        , -0.0907104 ,\n",
              "          0.        , -0.0797256 ,  0.        ,  0.        , -0.08506978,\n",
              "         -0.07113992,  0.        ,  0.        ,  0.        ,  0.        ,\n",
              "          0.01339508, -0.15257303,  0.07198608,  0.        ,  0.        ,\n",
              "         -0.06681526,  0.00687328,  0.        , -0.10645898,  0.        ,\n",
              "          0.        ,  0.        ,  0.        , -0.02299068,  0.06965744,\n",
              "         -0.07215298, -0.12636946, -0.08451319, -0.13207658, -0.06375875,\n",
              "          0.        , -0.03022307,  0.07408952,  0.        , -0.06217878,\n",
              "          0.02313125,  0.        ,  0.07510786, -0.10328243, -0.00568275,\n",
              "          0.        ,  0.        ,  0.        , -0.1142465 ,  0.        ,\n",
              "         -0.05675107, -0.03400726, -0.1326404 , -0.20765206,  0.        ,\n",
              "         -0.15235958,  0.        ,  0.00257056, -0.07994683,  0.13409738,\n",
              "          0.        , -0.08945346,  0.        , -0.07626028, -0.03121888,\n",
              "         -0.12986183,  0.        ,  0.        , -0.05116465, -0.03100014,\n",
              "         -0.02642347, -0.0759617 ,  0.        , -0.00633673,  0.02204241,\n",
              "          0.        ,  0.        ,  0.        , -0.0259185 ,  0.02790681,\n",
              "         -0.15176539, -0.1086946 , -0.03146149, -0.08713146, -0.06721467,\n",
              "         -0.13171396, -0.2340067 ,  0.09155156, -0.02420652, -0.07461411,\n",
              "          0.        , -0.02639025, -0.08712465, -0.12517129, -0.03713166,\n",
              "          0.        ,  0.20195858,  0.        ,  0.        ,  0.05721915,\n",
              "         -0.10601556, -0.03137576, -0.0745012 , -0.12453038,  0.        ,\n",
              "         -0.02874589,  0.        ,  0.        , -0.0789106 , -0.06499386,\n",
              "          0.        ,  0.08657986, -0.08927394,  0.0250456 ,  0.        ,\n",
              "         -0.02948194, -0.1512853 ,  0.        , -0.03098854, -0.06111292,\n",
              "          0.01724227], dtype=float32),\n",
              "  'w': Array([[ 1.0230991 ,  0.69079924,  0.4708309 , ..., -0.7680605 ,\n",
              "          -0.6159647 , -0.7720872 ],\n",
              "         [-0.57333   , -0.46542558,  0.6061264 , ..., -0.9150049 ,\n",
              "          -0.71967435, -1.572054  ],\n",
              "         [ 0.13914533, -0.37473893,  0.68704283, ..., -0.2724974 ,\n",
              "          -0.46296832, -0.84798783],\n",
              "         [-0.13820635, -0.7351237 , -1.427871  , ..., -0.25786301,\n",
              "           1.021359  ,  0.1284878 ]], dtype=float32)},\n",
              " 'hidden_1': {'b': Array([ 0.        , -0.03159393, -0.03160806,  0.        , -0.03160696,\n",
              "         -0.03016084,  0.        , -0.0315483 , -0.03984911, -0.03161239,\n",
              "         -0.03161448, -0.00502834,  0.        , -0.02062959,  0.        ,\n",
              "          0.        , -0.02560023, -0.03108172, -0.01205631, -0.01553121,\n",
              "         -0.03159874,  0.        ,  0.        ,  0.        , -0.03159022,\n",
              "         -0.03158866, -0.01547334, -0.01631046, -0.01816915, -0.01094478,\n",
              "         -0.01473359, -0.03161187, -0.03161306,  0.        , -0.01554843,\n",
              "         -0.0315865 , -0.02628368,  0.        , -0.00907665, -0.03147196,\n",
              "          0.        ,  0.        , -0.03160541, -0.02807161,  0.        ,\n",
              "         -0.02792467, -0.00965465, -0.01794766,  0.00737225,  0.        ,\n",
              "         -0.03150522, -0.0313671 ,  0.        , -0.00644675, -0.00791991,\n",
              "         -0.02211907, -0.00960111, -0.01526403, -0.03155606, -0.01725464,\n",
              "         -0.02099797, -0.01788419, -0.02104298, -0.02818269, -0.03151264,\n",
              "         -0.03161893, -0.01972598,  0.        ,  0.        ,  0.        ,\n",
              "         -0.01490249,  0.        ,  0.        , -0.03160138, -0.00148606,\n",
              "         -0.01387979, -0.01617296, -0.03035606,  0.        , -0.01470919,\n",
              "          0.        , -0.01481471, -0.02430561, -0.02507432, -0.03138282,\n",
              "          0.        ,  0.        , -0.01469221,  0.        ,  0.        ,\n",
              "         -0.03161265, -0.03142502, -0.03093037, -0.03155847, -0.03103859,\n",
              "         -0.01975721, -0.03160952, -0.03161426,  0.        , -0.01143817,\n",
              "         -0.00669899, -0.01094314, -0.0315607 , -0.03157166,  0.        ,\n",
              "         -0.03151759,  0.        , -0.03161618, -0.03151871, -0.01484912,\n",
              "         -0.02929336, -0.01464602,  0.        , -0.0333479 , -0.03137807,\n",
              "         -0.02776241,  0.        ,  0.        ,  0.        , -0.02991115,\n",
              "          0.        , -0.03154494, -0.03148542, -0.0315908 , -0.00994279,\n",
              "          0.        ,  0.        , -0.03160258], dtype=float32),\n",
              "  'w': Array([[-0.01985103,  0.0069432 , -0.00388098, ...,  0.02917544,\n",
              "           0.05577603,  0.00286316],\n",
              "         [ 0.05544644,  0.13047339,  0.13086353, ..., -0.05846593,\n",
              "           0.04119525, -0.05733481],\n",
              "         [ 0.09973211,  0.07311448, -0.10258243, ...,  0.1252687 ,\n",
              "           0.04525053, -0.05311602],\n",
              "         ...,\n",
              "         [ 0.03208823, -0.01678246,  0.12918337, ...,  0.05352199,\n",
              "          -0.11285929, -0.08748164],\n",
              "         [ 0.04564631,  0.03626748, -0.0071131 , ..., -0.02384394,\n",
              "           0.10238141,  0.07057635],\n",
              "         [-0.01125195,  0.04032889,  0.11949973, ...,  0.05098113,\n",
              "          -0.11933204,  0.04456721]], dtype=float32)},\n",
              " 'input_norm': {'offset': Array([-0.0943267 , -0.10601281,  0.19362415, -0.04302568], dtype=float32),\n",
              "  'scale': Array([0.94993216, 0.95657563, 0.8070865 , 1.0117953 ], dtype=float32)},\n",
              " 'output_fx': {'b': Array([-8.1188045e-05], dtype=float32),\n",
              "  'w': Array([[ 0.18391271],\n",
              "         [-0.17439471],\n",
              "         [-0.14829575],\n",
              "         [ 0.06984563],\n",
              "         [ 0.06333157],\n",
              "         [ 0.11121593],\n",
              "         [ 0.15880832],\n",
              "         [ 0.18183757],\n",
              "         [-0.1641376 ],\n",
              "         [ 0.16357955],\n",
              "         [ 0.2132778 ],\n",
              "         [-0.04406554],\n",
              "         [-0.1759099 ],\n",
              "         [-0.11588599],\n",
              "         [-0.14747891],\n",
              "         [ 0.15357243],\n",
              "         [-0.00115499],\n",
              "         [-0.30684698],\n",
              "         [ 0.1389827 ],\n",
              "         [-0.00794383],\n",
              "         [ 0.15033473],\n",
              "         [-0.11220948],\n",
              "         [ 0.02794268],\n",
              "         [-0.04705709],\n",
              "         [ 0.02761429],\n",
              "         [ 0.06329141],\n",
              "         [-0.14364399],\n",
              "         [-0.01559253],\n",
              "         [ 0.08189088],\n",
              "         [ 0.06868055],\n",
              "         [ 0.03736464],\n",
              "         [ 0.07902206],\n",
              "         [ 0.0677202 ],\n",
              "         [-0.18598688],\n",
              "         [-0.18098225],\n",
              "         [ 0.11464138],\n",
              "         [-0.00214921],\n",
              "         [ 0.26119962],\n",
              "         [-0.00920839],\n",
              "         [-0.09283853],\n",
              "         [ 0.09451903],\n",
              "         [ 0.1743259 ],\n",
              "         [ 0.10999821],\n",
              "         [-0.24403457],\n",
              "         [ 0.04986652],\n",
              "         [-0.24571751],\n",
              "         [-0.1016149 ],\n",
              "         [-0.1672419 ],\n",
              "         [-0.02241036],\n",
              "         [ 0.11754245],\n",
              "         [ 0.02273179],\n",
              "         [ 0.06338907],\n",
              "         [-0.08313231],\n",
              "         [-0.02053961],\n",
              "         [ 0.13450716],\n",
              "         [ 0.05268641],\n",
              "         [-0.09376654],\n",
              "         [-0.04912173],\n",
              "         [-0.19337776],\n",
              "         [-0.10325617],\n",
              "         [ 0.05120023],\n",
              "         [-0.03343533],\n",
              "         [ 0.23242812],\n",
              "         [ 0.01416346],\n",
              "         [ 0.16471708],\n",
              "         [ 0.16629876],\n",
              "         [ 0.01346749],\n",
              "         [ 0.19194648],\n",
              "         [-0.04743557],\n",
              "         [ 0.0707693 ],\n",
              "         [ 0.00417343],\n",
              "         [-0.02346428],\n",
              "         [ 0.17076106],\n",
              "         [-0.0221892 ],\n",
              "         [ 0.09211802],\n",
              "         [-0.11486228],\n",
              "         [-0.01418026],\n",
              "         [-0.03256242],\n",
              "         [ 0.09949496],\n",
              "         [-0.04696772],\n",
              "         [ 0.10847471],\n",
              "         [-0.12627529],\n",
              "         [ 0.09838566],\n",
              "         [ 0.06980725],\n",
              "         [-0.11089704],\n",
              "         [ 0.0718909 ],\n",
              "         [-0.19804746],\n",
              "         [-0.04088481],\n",
              "         [ 0.01432818],\n",
              "         [-0.10662282],\n",
              "         [ 0.00875237],\n",
              "         [-0.08859903],\n",
              "         [ 0.01840055],\n",
              "         [-0.0570383 ],\n",
              "         [-0.00223748],\n",
              "         [ 0.0115615 ],\n",
              "         [-0.20388757],\n",
              "         [ 0.00372714],\n",
              "         [-0.19592212],\n",
              "         [-0.18521045],\n",
              "         [-0.00171809],\n",
              "         [ 0.03657078],\n",
              "         [ 0.03389128],\n",
              "         [ 0.10904459],\n",
              "         [-0.24254261],\n",
              "         [ 0.1765528 ],\n",
              "         [ 0.08186373],\n",
              "         [ 0.06411543],\n",
              "         [-0.17061758],\n",
              "         [ 0.02823026],\n",
              "         [ 0.02157819],\n",
              "         [-0.2020529 ],\n",
              "         [ 0.22124569],\n",
              "         [-0.01314116],\n",
              "         [-0.07177627],\n",
              "         [-0.06277057],\n",
              "         [ 0.033841  ],\n",
              "         [ 0.0236794 ],\n",
              "         [-0.13085502],\n",
              "         [-0.02673892],\n",
              "         [-0.10454977],\n",
              "         [-0.15450846],\n",
              "         [ 0.06187101],\n",
              "         [ 0.1562583 ],\n",
              "         [ 0.12877451],\n",
              "         [ 0.03923809],\n",
              "         [ 0.01859643],\n",
              "         [ 0.09837602]], dtype=float32)},\n",
              " 'output_fy': {'b': Array([0.00061306], dtype=float32),\n",
              "  'w': Array([[-1.86942751e-03],\n",
              "         [ 1.73325270e-01],\n",
              "         [ 2.14665651e-01],\n",
              "         [ 2.08971709e-01],\n",
              "         [ 1.04478270e-01],\n",
              "         [-1.89329945e-02],\n",
              "         [-2.05139592e-01],\n",
              "         [ 8.44939277e-02],\n",
              "         [-5.10374922e-03],\n",
              "         [ 9.81784910e-02],\n",
              "         [ 1.00784883e-01],\n",
              "         [ 1.85315555e-03],\n",
              "         [-4.59147021e-02],\n",
              "         [-1.02814855e-02],\n",
              "         [ 1.04283877e-02],\n",
              "         [-6.05837516e-02],\n",
              "         [-5.07163964e-02],\n",
              "         [ 1.33794382e-01],\n",
              "         [-1.67709708e-01],\n",
              "         [-4.97441441e-02],\n",
              "         [ 2.74377186e-02],\n",
              "         [ 1.76096842e-01],\n",
              "         [-3.75370830e-02],\n",
              "         [-1.27720954e-02],\n",
              "         [ 6.65653571e-02],\n",
              "         [-1.76303148e-01],\n",
              "         [-1.79252755e-02],\n",
              "         [-1.53976336e-01],\n",
              "         [-2.11181287e-02],\n",
              "         [-1.89299390e-01],\n",
              "         [-1.57036409e-02],\n",
              "         [ 1.34196922e-01],\n",
              "         [ 1.52826712e-01],\n",
              "         [-1.56614780e-02],\n",
              "         [ 1.88353974e-02],\n",
              "         [ 6.08085655e-02],\n",
              "         [-1.53472349e-01],\n",
              "         [-5.65590709e-02],\n",
              "         [-1.55833261e-02],\n",
              "         [ 5.72319850e-02],\n",
              "         [-8.47113803e-02],\n",
              "         [ 4.84255254e-02],\n",
              "         [ 7.33341798e-02],\n",
              "         [ 2.66402159e-02],\n",
              "         [-7.31530488e-02],\n",
              "         [ 8.39464590e-02],\n",
              "         [-1.53371831e-02],\n",
              "         [ 6.73379302e-02],\n",
              "         [ 7.20964745e-02],\n",
              "         [-1.22150339e-01],\n",
              "         [-5.99742271e-02],\n",
              "         [-3.29499356e-02],\n",
              "         [ 1.26626998e-01],\n",
              "         [ 6.72698617e-02],\n",
              "         [-7.18256608e-02],\n",
              "         [-1.92881688e-01],\n",
              "         [-1.01816326e-01],\n",
              "         [-2.24057093e-01],\n",
              "         [ 1.36243030e-01],\n",
              "         [ 2.45060511e-02],\n",
              "         [ 4.06128565e-05],\n",
              "         [-1.14789642e-01],\n",
              "         [-2.50920296e-01],\n",
              "         [-9.97628197e-02],\n",
              "         [-5.86270727e-02],\n",
              "         [ 2.42276773e-01],\n",
              "         [-5.63962273e-02],\n",
              "         [ 5.63203134e-02],\n",
              "         [ 8.94118026e-02],\n",
              "         [-1.05713814e-01],\n",
              "         [-9.16014239e-02],\n",
              "         [-1.51455417e-01],\n",
              "         [ 2.21414849e-01],\n",
              "         [ 1.20691516e-01],\n",
              "         [ 2.06215352e-01],\n",
              "         [-5.85191883e-03],\n",
              "         [-2.44287327e-01],\n",
              "         [-3.29476409e-02],\n",
              "         [-2.06017736e-02],\n",
              "         [-2.83098202e-02],\n",
              "         [-1.43489644e-01],\n",
              "         [-8.13391358e-02],\n",
              "         [-2.57145911e-01],\n",
              "         [-7.37069473e-02],\n",
              "         [ 6.71274215e-02],\n",
              "         [-2.07324829e-02],\n",
              "         [-2.11779550e-02],\n",
              "         [-1.32314354e-01],\n",
              "         [ 1.77641004e-01],\n",
              "         [-1.63406115e-02],\n",
              "         [ 1.76838905e-01],\n",
              "         [-3.87019180e-02],\n",
              "         [-1.30295396e-01],\n",
              "         [-4.82547544e-02],\n",
              "         [-8.02073330e-02],\n",
              "         [-4.53060903e-02],\n",
              "         [ 2.52064228e-01],\n",
              "         [ 1.99909925e-01],\n",
              "         [ 1.36758193e-01],\n",
              "         [ 6.98226765e-02],\n",
              "         [ 4.86054905e-02],\n",
              "         [ 1.59185361e-02],\n",
              "         [ 2.83727515e-02],\n",
              "         [ 1.03086478e-03],\n",
              "         [-2.23711748e-02],\n",
              "         [-6.28035292e-02],\n",
              "         [ 8.17227215e-02],\n",
              "         [ 2.04441488e-01],\n",
              "         [ 1.07403271e-01],\n",
              "         [ 4.48626243e-02],\n",
              "         [-2.42924280e-02],\n",
              "         [ 6.21418096e-02],\n",
              "         [ 7.96650201e-02],\n",
              "         [ 7.77689070e-02],\n",
              "         [ 9.11029875e-02],\n",
              "         [ 1.41548794e-02],\n",
              "         [ 2.39183649e-01],\n",
              "         [-1.59260780e-01],\n",
              "         [ 1.52984619e-01],\n",
              "         [-1.71598643e-02],\n",
              "         [-2.09866256e-01],\n",
              "         [ 1.10632330e-01],\n",
              "         [-1.55887064e-02],\n",
              "         [ 5.20488992e-02],\n",
              "         [ 1.09568395e-01],\n",
              "         [ 2.10565671e-01],\n",
              "         [-1.33729234e-01],\n",
              "         [ 6.63148761e-02]], dtype=float32)}}"
            ]
          },
          "metadata": {},
          "execution_count": 25
        }
      ]
    },
    {
      "cell_type": "code",
      "source": [
        "policy_weights = {'cut-out': 10.0, 'put-out': 10.0}"
      ],
      "metadata": {
        "id": "fb8ZJV2kUai_"
      },
      "execution_count": null,
      "outputs": []
    },
    {
      "cell_type": "code",
      "source": [
        "# Get the final action sequence\n",
        "final_params = callback['params']\n",
        "final_plan = planner.get_action(jax.random.PRNGKey(42), final_params, 0, None, policy_weights)\n",
        "print(\"Final Plan:\", final_plan)"
      ],
      "metadata": {
        "id": "AoAk97LkAJCM",
        "outputId": "1f42d45b-fe0b-4829-fa1e-b2a81df7632a",
        "colab": {
          "base_uri": "https://localhost:8080/",
          "height": 814
        }
      },
      "execution_count": null,
      "outputs": [
        {
          "output_type": "error",
          "ename": "AttributeError",
          "evalue": "ignored",
          "traceback": [
            "\u001b[0;31m---------------------------------------------------------------------------\u001b[0m",
            "\u001b[0;31mAttributeError\u001b[0m                            Traceback (most recent call last)",
            "\u001b[0;32m<ipython-input-30-d6f7d406b522>\u001b[0m in \u001b[0;36m<cell line: 3>\u001b[0;34m()\u001b[0m\n\u001b[1;32m      1\u001b[0m \u001b[0;31m# Get the final action sequence\u001b[0m\u001b[0;34m\u001b[0m\u001b[0;34m\u001b[0m\u001b[0m\n\u001b[1;32m      2\u001b[0m \u001b[0mfinal_params\u001b[0m \u001b[0;34m=\u001b[0m \u001b[0mcallback\u001b[0m\u001b[0;34m[\u001b[0m\u001b[0;34m'params'\u001b[0m\u001b[0;34m]\u001b[0m\u001b[0;34m\u001b[0m\u001b[0;34m\u001b[0m\u001b[0m\n\u001b[0;32m----> 3\u001b[0;31m \u001b[0mfinal_plan\u001b[0m \u001b[0;34m=\u001b[0m \u001b[0mplanner\u001b[0m\u001b[0;34m.\u001b[0m\u001b[0mget_action\u001b[0m\u001b[0;34m(\u001b[0m\u001b[0mjax\u001b[0m\u001b[0;34m.\u001b[0m\u001b[0mrandom\u001b[0m\u001b[0;34m.\u001b[0m\u001b[0mPRNGKey\u001b[0m\u001b[0;34m(\u001b[0m\u001b[0;36m42\u001b[0m\u001b[0;34m)\u001b[0m\u001b[0;34m,\u001b[0m \u001b[0mfinal_params\u001b[0m\u001b[0;34m,\u001b[0m \u001b[0;36m0\u001b[0m\u001b[0;34m,\u001b[0m \u001b[0;32mNone\u001b[0m\u001b[0;34m,\u001b[0m \u001b[0mpolicy_weights\u001b[0m\u001b[0;34m)\u001b[0m\u001b[0;34m\u001b[0m\u001b[0;34m\u001b[0m\u001b[0m\n\u001b[0m\u001b[1;32m      4\u001b[0m \u001b[0mprint\u001b[0m\u001b[0;34m(\u001b[0m\u001b[0;34m\"Final Plan:\"\u001b[0m\u001b[0;34m,\u001b[0m \u001b[0mfinal_plan\u001b[0m\u001b[0;34m)\u001b[0m\u001b[0;34m\u001b[0m\u001b[0;34m\u001b[0m\u001b[0m\n",
            "\u001b[0;32m/content/pyRDDLGym/pyRDDLGym/Core/Jax/JaxRDDLBackpropPlanner.py\u001b[0m in \u001b[0;36mget_action\u001b[0;34m(self, key, params, step, subs, policy_hyperparams)\u001b[0m\n\u001b[1;32m   1073\u001b[0m         \u001b[0;34m:\u001b[0m\u001b[0mparam\u001b[0m \u001b[0msubs\u001b[0m\u001b[0;34m:\u001b[0m \u001b[0mthe\u001b[0m \u001b[0mdict\u001b[0m \u001b[0mof\u001b[0m \u001b[0mpvariables\u001b[0m\u001b[0;34m\u001b[0m\u001b[0;34m\u001b[0m\u001b[0m\n\u001b[1;32m   1074\u001b[0m         '''\n\u001b[0;32m-> 1075\u001b[0;31m         \u001b[0mactions\u001b[0m \u001b[0;34m=\u001b[0m \u001b[0mself\u001b[0m\u001b[0;34m.\u001b[0m\u001b[0mtest_policy\u001b[0m\u001b[0;34m(\u001b[0m\u001b[0mkey\u001b[0m\u001b[0;34m,\u001b[0m \u001b[0mparams\u001b[0m\u001b[0;34m,\u001b[0m \u001b[0mpolicy_hyperparams\u001b[0m\u001b[0;34m,\u001b[0m \u001b[0mstep\u001b[0m\u001b[0;34m,\u001b[0m \u001b[0msubs\u001b[0m\u001b[0;34m)\u001b[0m\u001b[0;34m\u001b[0m\u001b[0;34m\u001b[0m\u001b[0m\n\u001b[0m\u001b[1;32m   1076\u001b[0m         \u001b[0mgrounded_actions\u001b[0m \u001b[0;34m=\u001b[0m \u001b[0;34m{\u001b[0m\u001b[0;34m}\u001b[0m\u001b[0;34m\u001b[0m\u001b[0;34m\u001b[0m\u001b[0m\n\u001b[1;32m   1077\u001b[0m         \u001b[0;32mfor\u001b[0m \u001b[0;34m(\u001b[0m\u001b[0mvar\u001b[0m\u001b[0;34m,\u001b[0m \u001b[0maction\u001b[0m\u001b[0;34m)\u001b[0m \u001b[0;32min\u001b[0m \u001b[0mactions\u001b[0m\u001b[0;34m.\u001b[0m\u001b[0mitems\u001b[0m\u001b[0;34m(\u001b[0m\u001b[0;34m)\u001b[0m\u001b[0;34m:\u001b[0m\u001b[0;34m\u001b[0m\u001b[0;34m\u001b[0m\u001b[0m\n",
            "    \u001b[0;31m[... skipping hidden 12 frame]\u001b[0m\n",
            "\u001b[0;32m/content/pyRDDLGym/pyRDDLGym/Core/Jax/JaxRDDLBackpropPlanner.py\u001b[0m in \u001b[0;36m_jax_wrapped_drp_predict_test\u001b[0;34m(key, params, hyperparams, step, subs)\u001b[0m\n\u001b[1;32m    705\u001b[0m         \u001b[0;31m# test action prediction\u001b[0m\u001b[0;34m\u001b[0m\u001b[0;34m\u001b[0m\u001b[0m\n\u001b[1;32m    706\u001b[0m         \u001b[0;32mdef\u001b[0m \u001b[0m_jax_wrapped_drp_predict_test\u001b[0m\u001b[0;34m(\u001b[0m\u001b[0mkey\u001b[0m\u001b[0;34m,\u001b[0m \u001b[0mparams\u001b[0m\u001b[0;34m,\u001b[0m \u001b[0mhyperparams\u001b[0m\u001b[0;34m,\u001b[0m \u001b[0mstep\u001b[0m\u001b[0;34m,\u001b[0m \u001b[0msubs\u001b[0m\u001b[0;34m)\u001b[0m\u001b[0;34m:\u001b[0m\u001b[0;34m\u001b[0m\u001b[0;34m\u001b[0m\u001b[0m\n\u001b[0;32m--> 707\u001b[0;31m             actions = _jax_wrapped_drp_predict_train(\n\u001b[0m\u001b[1;32m    708\u001b[0m                 key, params, hyperparams, step, subs)\n\u001b[1;32m    709\u001b[0m             \u001b[0mnew_actions\u001b[0m \u001b[0;34m=\u001b[0m \u001b[0;34m{\u001b[0m\u001b[0;34m}\u001b[0m\u001b[0;34m\u001b[0m\u001b[0;34m\u001b[0m\u001b[0m\n",
            "\u001b[0;32m/content/pyRDDLGym/pyRDDLGym/Core/Jax/JaxRDDLBackpropPlanner.py\u001b[0m in \u001b[0;36m_jax_wrapped_drp_predict_train\u001b[0;34m(key, params, hyperparams, step, subs)\u001b[0m\n\u001b[1;32m    695\u001b[0m         \u001b[0;31m# train action prediction\u001b[0m\u001b[0;34m\u001b[0m\u001b[0;34m\u001b[0m\u001b[0m\n\u001b[1;32m    696\u001b[0m         \u001b[0;32mdef\u001b[0m \u001b[0m_jax_wrapped_drp_predict_train\u001b[0m\u001b[0;34m(\u001b[0m\u001b[0mkey\u001b[0m\u001b[0;34m,\u001b[0m \u001b[0mparams\u001b[0m\u001b[0;34m,\u001b[0m \u001b[0mhyperparams\u001b[0m\u001b[0;34m,\u001b[0m \u001b[0mstep\u001b[0m\u001b[0;34m,\u001b[0m \u001b[0msubs\u001b[0m\u001b[0;34m)\u001b[0m\u001b[0;34m:\u001b[0m\u001b[0;34m\u001b[0m\u001b[0;34m\u001b[0m\u001b[0m\n\u001b[0;32m--> 697\u001b[0;31m             \u001b[0mstate\u001b[0m \u001b[0;34m=\u001b[0m \u001b[0m_jax_wrapped_subs_to_state\u001b[0m\u001b[0;34m(\u001b[0m\u001b[0msubs\u001b[0m\u001b[0;34m)\u001b[0m\u001b[0;34m\u001b[0m\u001b[0;34m\u001b[0m\u001b[0m\n\u001b[0m\u001b[1;32m    698\u001b[0m             \u001b[0mactions\u001b[0m \u001b[0;34m=\u001b[0m \u001b[0mpredict_fn\u001b[0m\u001b[0;34m.\u001b[0m\u001b[0mapply\u001b[0m\u001b[0;34m(\u001b[0m\u001b[0mparams\u001b[0m\u001b[0;34m,\u001b[0m \u001b[0mstate\u001b[0m\u001b[0;34m)\u001b[0m\u001b[0;34m\u001b[0m\u001b[0;34m\u001b[0m\u001b[0m\n\u001b[1;32m    699\u001b[0m             \u001b[0;32mif\u001b[0m \u001b[0muse_constraint_satisfaction\u001b[0m\u001b[0;34m:\u001b[0m\u001b[0;34m\u001b[0m\u001b[0;34m\u001b[0m\u001b[0m\n",
            "\u001b[0;32m/content/pyRDDLGym/pyRDDLGym/Core/Jax/JaxRDDLBackpropPlanner.py\u001b[0m in \u001b[0;36m_jax_wrapped_subs_to_state\u001b[0;34m(subs)\u001b[0m\n\u001b[1;32m    686\u001b[0m         \u001b[0;32mdef\u001b[0m \u001b[0m_jax_wrapped_subs_to_state\u001b[0m\u001b[0;34m(\u001b[0m\u001b[0msubs\u001b[0m\u001b[0;34m)\u001b[0m\u001b[0;34m:\u001b[0m\u001b[0;34m\u001b[0m\u001b[0;34m\u001b[0m\u001b[0m\n\u001b[1;32m    687\u001b[0m             subs = {var: value\n\u001b[0;32m--> 688\u001b[0;31m                     \u001b[0;32mfor\u001b[0m \u001b[0;34m(\u001b[0m\u001b[0mvar\u001b[0m\u001b[0;34m,\u001b[0m \u001b[0mvalue\u001b[0m\u001b[0;34m)\u001b[0m \u001b[0;32min\u001b[0m \u001b[0msubs\u001b[0m\u001b[0;34m.\u001b[0m\u001b[0mitems\u001b[0m\u001b[0;34m(\u001b[0m\u001b[0;34m)\u001b[0m\u001b[0;34m\u001b[0m\u001b[0;34m\u001b[0m\u001b[0m\n\u001b[0m\u001b[1;32m    689\u001b[0m                     if var in rddl.states}\n\u001b[1;32m    690\u001b[0m             \u001b[0mflat_subs\u001b[0m \u001b[0;34m=\u001b[0m \u001b[0mjax\u001b[0m\u001b[0;34m.\u001b[0m\u001b[0mtree_map\u001b[0m\u001b[0;34m(\u001b[0m\u001b[0mjnp\u001b[0m\u001b[0;34m.\u001b[0m\u001b[0mravel\u001b[0m\u001b[0;34m,\u001b[0m \u001b[0msubs\u001b[0m\u001b[0;34m)\u001b[0m\u001b[0;34m\u001b[0m\u001b[0;34m\u001b[0m\u001b[0m\n",
            "\u001b[0;31mAttributeError\u001b[0m: 'NoneType' object has no attribute 'items'"
          ]
        }
      ]
    },
    {
      "cell_type": "code",
      "source": [],
      "metadata": {
        "id": "nC5pRHW56rFe"
      },
      "execution_count": null,
      "outputs": []
    }
  ]
}