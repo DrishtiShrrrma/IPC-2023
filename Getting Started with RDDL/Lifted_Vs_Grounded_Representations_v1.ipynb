{
  "nbformat": 4,
  "nbformat_minor": 0,
  "metadata": {
    "colab": {
      "provenance": []
    },
    "kernelspec": {
      "name": "python3",
      "display_name": "Python 3"
    },
    "language_info": {
      "name": "python"
    }
  },
  "cells": [
    {
      "cell_type": "markdown",
      "source": [
        "- RDDL is a lifted language that compactly describes variables and processes in a generalized way\n",
        "- It allows for easy modeling of complex systems by defining fluents and non-fluents"
      ],
      "metadata": {
        "id": "sa_OuyMZvilx"
      }
    },
    {
      "cell_type": "markdown",
      "source": [
        "- \"DT\" represents a fixed time interval used in the model for time-dependent calculations. The value of \"DT\" remains constant throughout the model and represents the duration of each time step in the simulation.\n",
        "\n",
        "- The purpose of defining a fixed time interval in the model is to ensure that time-dependent calculations, such as the update of the position of the car over time, are performed consistently and with a predictable level of precision.\n",
        "\n",
        "- The value of \"DT\" can be set to any desired value based on the needs of the model and the level of precision required for the time-dependent calculations. For example, if the model requires very precise time-dependent calculations, a small value of \"DT\" may be used, while a larger value may be used for less precise calculations."
      ],
      "metadata": {
        "id": "6G-119GBwX5u"
      }
    },
    {
      "cell_type": "markdown",
      "source": [
        "###Note: \"DT\" is not a fixed time period for the entire episode but rather a fixed time interval that is used for each time step in the simulation."
      ],
      "metadata": {
        "id": "a9fNdggRxKep"
      }
    },
    {
      "cell_type": "markdown",
      "source": [
        "- mdoel has three RVs i.e. position (car), velocity(car), and DT(delta time)\n",
        "\n",
        "- position(car) is a state-fluent random variable that represents the car's position at a particular point in time, in time, and has a default value of 0.0.\n",
        "\n",
        "- velocity(car) is an action-fluent random variable that represents the car's velocity, which can be changed by actions.\n",
        "\n",
        "- DT is a non-fluent random variable that represents a fixed time interval, and has a default value of 0.1.\n",
        "\n",
        "- The cpfs section specifies the conditional probability distribution for the state-fluent variable position(car).\n",
        "\n",
        "- The equation position'(car) = position(car) + DT * velocity(car) is used to calculate the probability of the next position given the current position and velocity."
      ],
      "metadata": {
        "id": "Rla5DQ8ZIFkW"
      }
    },
    {
      "cell_type": "markdown",
      "source": [
        "#FLUENT VS NON-FLUENT RV:\n"
      ],
      "metadata": {
        "id": "CpPQgy7TKimc"
      }
    },
    {
      "cell_type": "markdown",
      "source": [
        "####Fluent RV:\n",
        "\n",
        "- represent aspects of the world that can change over time and depend on the state of the system or actions taken by agents.\n",
        "\n",
        "- position of a moving object, the health of a patient over time, or the state of a machine during operation.\n",
        "\n",
        "- "
      ],
      "metadata": {
        "id": "DDdw31g_Nl80"
      }
    },
    {
      "cell_type": "code",
      "source": [
        "types {\n",
        "      car : object;\n",
        "};\n",
        "\n",
        "pvariables{\n",
        "      DT            : { non-fluent, real, default=0.1 };\n",
        "      position(car) : { state-fluent, real, default=0.0 };\n",
        "      velocity(car) : { action-fluent, real, default=0.0 };\n",
        "};\n",
        "\n",
        "cpfs {\n",
        "    position'(car) = position(car) + DT * velocity(car)\n",
        "    velocity'(car) = velocity(car) + DT * acceleration(car)\n",
        "};"
      ],
      "metadata": {
        "colab": {
          "base_uri": "https://localhost:8080/",
          "height": 130
        },
        "id": "nsfZTj9ikyCS",
        "outputId": "7de71664-cdc2-491e-c14b-ef248c53320f"
      },
      "execution_count": 1,
      "outputs": [
        {
          "output_type": "error",
          "ename": "SyntaxError",
          "evalue": "ignored",
          "traceback": [
            "\u001b[0;36m  File \u001b[0;32m\"<ipython-input-1-ced3b80b7fd3>\"\u001b[0;36m, line \u001b[0;32m1\u001b[0m\n\u001b[0;31m    types {\u001b[0m\n\u001b[0m          ^\u001b[0m\n\u001b[0;31mSyntaxError\u001b[0m\u001b[0;31m:\u001b[0m invalid syntax\n"
          ]
        }
      ]
    },
    {
      "cell_type": "markdown",
      "source": [
        "1. types: defined the object --> car\n",
        "\n",
        "2. defined probabilistic variable - 3 variables i.e. non-fluent, state-fluent, and action-fluent.\n",
        "- non-fluent - static variables, doesn't change \n",
        "- action-fluent - \n",
        "- state-fluent -\n",
        "\n",
        "3. cpfs - conditionalprobability function - There is a single CPF defined here, which specifies how the position of the car changes over time (new pos = current pos + delta * current velocity)\n",
        "\n",
        "\n",
        "1. DT - DT * velocity(car) calculates the distance the car moves during the time step, based on its current velocity.\n",
        "\n",
        "- If you were to decrease the value of DT, the position of the car would be updated more frequently, resulting in a more detailed temporal model. Conversely, if you were to increase the value of DT, the position of the car would be updated less frequently, resulting in a less detailed temporal model.\n",
        "\n",
        "\n",
        "Explanation: Let's say the value of DT is 0.1, which means that the position of the car is updated every 0.1 time units. If you were to decrease the value of DT to, say, 0.01, then the position of the car would be updated every 0.01 time units. This means that the position of the car would be updated more frequently, resulting in a more detailed temporal model."
      ],
      "metadata": {
        "id": "Lr8y7KZbkw8b"
      }
    },
    {
      "cell_type": "markdown",
      "source": [
        "###NOTE: For example, if the car is traveling at a constant velocity, decreasing the value of DT would result in a model that more accurately captures the car's position over time, as the car's position would be updated more frequently. However, this would also increase the computational complexity of the model, as more updates would need to be made over time."
      ],
      "metadata": {
        "id": "U8I-ILVQv2FT"
      }
    },
    {
      "cell_type": "markdown",
      "source": [
        "####Conversely, if you were to increase the value of DT to, say, 1.0, then the position of the car would be updated every 1.0 time units. This means that the position of the car would be updated less frequently, resulting in a less detailed temporal model."
      ],
      "metadata": {
        "id": "rYS9YR7nwCg3"
      }
    },
    {
      "cell_type": "markdown",
      "source": [
        "##In RDDL, non-fluent variables are typically used to represent constants, while action-fluent and state-fluent variables can represent random variables."
      ],
      "metadata": {
        "id": "vvpiSUXAwpza"
      }
    },
    {
      "cell_type": "markdown",
      "source": [
        "#NON-FLUENT VARIABLE ---> REPRESENT CONSTANTS"
      ],
      "metadata": {
        "id": "X38roiRp6whG"
      }
    },
    {
      "cell_type": "markdown",
      "source": [
        "#Grounded Vs Lifted Representation"
      ],
      "metadata": {
        "id": "pYHB7J0Xc19I"
      }
    },
    {
      "cell_type": "markdown",
      "source": [
        "####Lifted Represntation:\n",
        "\n",
        "- behaviour of the car is described in general and abstract way w/o specifying any particular values - reason about the car's behavior in a more general and flexible way, without being tied down to specific values.\n",
        "\n",
        "\n",
        "####Grounded Representation:\n",
        "- specify the actual values of the car's variables, such as its current speed, location, and fuel level. This can be useful when we need to make precise predictions or decisions based on specific values, but it can also be limiting in terms of flexibility and generality.\n",
        "\n"
      ],
      "metadata": {
        "id": "nCRrSCmMdATY"
      }
    },
    {
      "cell_type": "code",
      "execution_count": null,
      "metadata": {
        "id": "swaiqc4xl0DX"
      },
      "outputs": [],
      "source": [
        "types {\n",
        "      car : object;\n",
        "};\n",
        "\n",
        "pvariables{\n",
        "      DT            : { non-fluent, real, default=0.1 };\n",
        "      position(car) : { state-fluent, real, default=0.0 };\n",
        "      velocity(car) : { action-fluent, real, default=0.0 };\n",
        "};\n",
        "\n",
        "cpfs {\n",
        "      position'(car) = position(car) + DT * velocity(car)\n",
        "};"
      ]
    },
    {
      "cell_type": "markdown",
      "source": [
        "- that's how domain.rddl file will look like.\n",
        "\n",
        "- it's more like a blueprint of the env/task -abstract/a general specification without specifying any particular values."
      ],
      "metadata": {
        "id": "syngNfR0fmHI"
      }
    },
    {
      "cell_type": "markdown",
      "source": [
        "1. types block: defines the type of the object ---> car\n",
        "\n",
        "2. pvariables block: specifies the variables in the model, including the time step (DT), the position of the car (position(car)), and the velocity of the car (velocity(car)).\n",
        "\n",
        "3. Defines the conditional probability distribution of the variables given their parents (in this case, the position and velocity of the car). The formula specifies that the position of the car in the next time step (position'(car)) is equal to its current position plus the product of the time step and its current velocity."
      ],
      "metadata": {
        "id": "4u9Faxe1gjqP"
      }
    },
    {
      "cell_type": "markdown",
      "source": [
        "Overall, this RDDL code provides a general and abstract representation of a car's motion, without specifying any specific values for the variables. This allows for more flexibility in reasoning about the behavior of the car in different scenarios."
      ],
      "metadata": {
        "id": "tD9vAVDXhP8G"
      }
    },
    {
      "cell_type": "markdown",
      "source": [
        "#💡 In the code above no specific car is described. that will be done in the instance and non-fluents blocks."
      ],
      "metadata": {
        "id": "Hg369elrhW-i"
      }
    },
    {
      "cell_type": "code",
      "source": [
        "#Defibning objectes in the problem\n",
        "\n",
        "objects {\n",
        "      car : {car1, car2};\n",
        "};"
      ],
      "metadata": {
        "id": "51ti8fCxgiLv"
      },
      "execution_count": null,
      "outputs": []
    },
    {
      "cell_type": "code",
      "source": [
        "#Defining their initial state\n",
        "\n",
        "init_state {\n",
        "      position(car1) = -1.0;\n",
        "      position(car2) = 1.0;\n",
        "};"
      ],
      "metadata": {
        "id": "XF02FbiRhk5w"
      },
      "execution_count": null,
      "outputs": []
    },
    {
      "cell_type": "code",
      "source": [
        "states = { position_car1 : -1.0, position_car2 : 1.0 }\n",
        "actions = { velocity_car1 : 0.0, velocity_car2 : 0.0 } "
      ],
      "metadata": {
        "id": "pZjy_sxUhry1"
      },
      "execution_count": null,
      "outputs": []
    },
    {
      "cell_type": "code",
      "source": [
        "\n",
        "position_car1 = position_car1 + DT * velocity_car1;\n",
        "position_car2 = position_car2 + DT * velocity_car2;"
      ],
      "metadata": {
        "id": "odQzOpUxjosA"
      },
      "execution_count": null,
      "outputs": []
    }
  ]
}