{
  "nbformat": 4,
  "nbformat_minor": 0,
  "metadata": {
    "colab": {
      "provenance": []
    },
    "kernelspec": {
      "name": "python3",
      "display_name": "Python 3"
    },
    "language_info": {
      "name": "python"
    }
  },
  "cells": [
    {
      "cell_type": "markdown",
      "source": [
        "###Note: RDDL is intended to compactly support the representation of a wide range of relational MDPs and POMDPs and support the efficient simulation of these domains. "
      ],
      "metadata": {
        "id": "ICp1-4IBReU0"
      }
    },
    {
      "cell_type": "markdown",
      "source": [
        "At present, there are two options to obtain the pyRDDLGym infrstructure:\n",
        "\n",
        "1. !pip install pyrddlgym==1.0.4\n",
        "2. !git clone https://github.com/ataitler/pyRDDLGym.git"
      ],
      "metadata": {
        "id": "bYsL4tE-SJ_J"
      }
    },
    {
      "cell_type": "code",
      "source": [
        "!git clone https://github.com/ataitler/pyRDDLGym.git"
      ],
      "metadata": {
        "colab": {
          "base_uri": "https://localhost:8080/"
        },
        "id": "sCOcn1nIRgwg",
        "outputId": "8daf36a4-34cc-4ba9-9826-235a5cebe9f2"
      },
      "execution_count": 1,
      "outputs": [
        {
          "output_type": "stream",
          "name": "stdout",
          "text": [
            "Cloning into 'pyRDDLGym'...\n",
            "remote: Enumerating objects: 9104, done.\u001b[K\n",
            "remote: Counting objects: 100% (2198/2198), done.\u001b[K\n",
            "remote: Compressing objects: 100% (727/727), done.\u001b[K\n",
            "remote: Total 9104 (delta 1593), reused 2057 (delta 1466), pack-reused 6906\u001b[K\n",
            "Receiving objects: 100% (9104/9104), 7.31 MiB | 11.29 MiB/s, done.\n",
            "Resolving deltas: 100% (6053/6053), done.\n"
          ]
        }
      ]
    },
    {
      "cell_type": "markdown",
      "source": [
        "#BASIC USAGE\n",
        "###Initializing environment in pyRDDLGym"
      ],
      "metadata": {
        "id": "i-zoDbi-S8uY"
      }
    },
    {
      "cell_type": "code",
      "source": [
        "%cd /content/pyRDDLGym"
      ],
      "metadata": {
        "colab": {
          "base_uri": "https://localhost:8080/"
        },
        "id": "kPoHQ7g6Tmbt",
        "outputId": "bf60bb0a-d374-4ac8-a817-ea28a15f97ba"
      },
      "execution_count": 2,
      "outputs": [
        {
          "output_type": "stream",
          "name": "stdout",
          "text": [
            "/content/pyRDDLGym\n"
          ]
        }
      ]
    },
    {
      "cell_type": "code",
      "source": [
        "!pip install -r requirements.txt"
      ],
      "metadata": {
        "colab": {
          "base_uri": "https://localhost:8080/",
          "height": 644
        },
        "id": "UGFitN7oWZKr",
        "outputId": "bf80bdc9-e5ad-4229-8f6d-8e1f1f72a2c6"
      },
      "execution_count": 3,
      "outputs": [
        {
          "output_type": "stream",
          "name": "stdout",
          "text": [
            "Looking in indexes: https://pypi.org/simple, https://us-python.pkg.dev/colab-wheels/public/simple/\n",
            "Requirement already satisfied: matplotlib>=3.5.0 in /usr/local/lib/python3.9/dist-packages (from -r requirements.txt (line 1)) (3.7.1)\n",
            "Collecting pillow>=9.2.0\n",
            "  Downloading Pillow-9.5.0-cp39-cp39-manylinux_2_28_x86_64.whl (3.4 MB)\n",
            "\u001b[2K     \u001b[90m━━━━━━━━━━━━━━━━━━━━━━━━━━━━━━━━━━━━━━━━\u001b[0m \u001b[32m3.4/3.4 MB\u001b[0m \u001b[31m43.7 MB/s\u001b[0m eta \u001b[36m0:00:00\u001b[0m\n",
            "\u001b[?25hRequirement already satisfied: gym>=0.24.0 in /usr/local/lib/python3.9/dist-packages (from -r requirements.txt (line 3)) (0.25.2)\n",
            "Requirement already satisfied: numpy>=1.22 in /usr/local/lib/python3.9/dist-packages (from -r requirements.txt (line 4)) (1.22.4)\n",
            "Requirement already satisfied: pygame in /usr/local/lib/python3.9/dist-packages (from -r requirements.txt (line 5)) (2.3.0)\n",
            "Collecting ply\n",
            "  Downloading ply-3.11-py2.py3-none-any.whl (49 kB)\n",
            "\u001b[2K     \u001b[90m━━━━━━━━━━━━━━━━━━━━━━━━━━━━━━━━━━━━━━━━\u001b[0m \u001b[32m49.6/49.6 KB\u001b[0m \u001b[31m6.7 MB/s\u001b[0m eta \u001b[36m0:00:00\u001b[0m\n",
            "\u001b[?25hRequirement already satisfied: contourpy>=1.0.1 in /usr/local/lib/python3.9/dist-packages (from matplotlib>=3.5.0->-r requirements.txt (line 1)) (1.0.7)\n",
            "Requirement already satisfied: fonttools>=4.22.0 in /usr/local/lib/python3.9/dist-packages (from matplotlib>=3.5.0->-r requirements.txt (line 1)) (4.39.3)\n",
            "Requirement already satisfied: cycler>=0.10 in /usr/local/lib/python3.9/dist-packages (from matplotlib>=3.5.0->-r requirements.txt (line 1)) (0.11.0)\n",
            "Requirement already satisfied: kiwisolver>=1.0.1 in /usr/local/lib/python3.9/dist-packages (from matplotlib>=3.5.0->-r requirements.txt (line 1)) (1.4.4)\n",
            "Requirement already satisfied: pyparsing>=2.3.1 in /usr/local/lib/python3.9/dist-packages (from matplotlib>=3.5.0->-r requirements.txt (line 1)) (3.0.9)\n",
            "Requirement already satisfied: importlib-resources>=3.2.0 in /usr/local/lib/python3.9/dist-packages (from matplotlib>=3.5.0->-r requirements.txt (line 1)) (5.12.0)\n",
            "Requirement already satisfied: python-dateutil>=2.7 in /usr/local/lib/python3.9/dist-packages (from matplotlib>=3.5.0->-r requirements.txt (line 1)) (2.8.2)\n",
            "Requirement already satisfied: packaging>=20.0 in /usr/local/lib/python3.9/dist-packages (from matplotlib>=3.5.0->-r requirements.txt (line 1)) (23.0)\n",
            "Requirement already satisfied: importlib-metadata>=4.8.0 in /usr/local/lib/python3.9/dist-packages (from gym>=0.24.0->-r requirements.txt (line 3)) (6.1.0)\n",
            "Requirement already satisfied: cloudpickle>=1.2.0 in /usr/local/lib/python3.9/dist-packages (from gym>=0.24.0->-r requirements.txt (line 3)) (2.2.1)\n",
            "Requirement already satisfied: gym-notices>=0.0.4 in /usr/local/lib/python3.9/dist-packages (from gym>=0.24.0->-r requirements.txt (line 3)) (0.0.8)\n",
            "Requirement already satisfied: zipp>=0.5 in /usr/local/lib/python3.9/dist-packages (from importlib-metadata>=4.8.0->gym>=0.24.0->-r requirements.txt (line 3)) (3.15.0)\n",
            "Requirement already satisfied: six>=1.5 in /usr/local/lib/python3.9/dist-packages (from python-dateutil>=2.7->matplotlib>=3.5.0->-r requirements.txt (line 1)) (1.16.0)\n",
            "Installing collected packages: ply, pillow\n",
            "  Attempting uninstall: pillow\n",
            "    Found existing installation: Pillow 8.4.0\n",
            "    Uninstalling Pillow-8.4.0:\n",
            "      Successfully uninstalled Pillow-8.4.0\n",
            "Successfully installed pillow-9.5.0 ply-3.11\n"
          ]
        },
        {
          "output_type": "display_data",
          "data": {
            "application/vnd.colab-display-data+json": {
              "pip_warning": {
                "packages": [
                  "PIL"
                ]
              }
            }
          },
          "metadata": {}
        }
      ]
    },
    {
      "cell_type": "code",
      "source": [
        "#Importing the RDDLEnv module from the pyRDDLGym package\n",
        "from pyRDDLGym import RDDLEnv"
      ],
      "metadata": {
        "colab": {
          "base_uri": "https://localhost:8080/"
        },
        "id": "C45rxRehSbJn",
        "outputId": "205b57d7-d229-48f6-fcd3-53366c4698e6"
      },
      "execution_count": 4,
      "outputs": [
        {
          "output_type": "stream",
          "name": "stderr",
          "text": [
            "/content/pyRDDLGym/pyRDDLGym/Examples/ExampleManager.py:88: DeprecationWarning: invalid escape sequence \\d\n",
            "  x = re.search(\"instance\\d+.*\", file)\n"
          ]
        }
      ]
    },
    {
      "cell_type": "markdown",
      "source": [
        "💡 Lesson Learnt: The package could be installed, but not in the current working directory: Make sure that the pyRDDLGym package is installed in the current working directory or in a directory that is in the Python path."
      ],
      "metadata": {
        "id": "QBEzI2_2T8lz"
      }
    },
    {
      "cell_type": "code",
      "source": [
        "#Instantiating RDDLEnv\n",
        "\n",
        "myEnv = RDDLEnv.RDDEnv(domain = domain.rddl, instance=instance.rddl)"
      ],
      "metadata": {
        "colab": {
          "base_uri": "https://localhost:8080/",
          "height": 255
        },
        "id": "szn36-QcXzp_",
        "outputId": "eef5c473-9ff2-4a04-b07f-3b9ff863ba56"
      },
      "execution_count": 5,
      "outputs": [
        {
          "output_type": "stream",
          "name": "stderr",
          "text": [
            "/usr/local/lib/python3.9/dist-packages/ipykernel/ipkernel.py:283: DeprecationWarning: `should_run_async` will not call `transform_cell` automatically in the future. Please pass the result to `transformed_cell` argument and any exception that happen during thetransform in `preprocessing_exc_tuple` in IPython 7.17 and above.\n",
            "  and should_run_async(code)\n"
          ]
        },
        {
          "output_type": "error",
          "ename": "AttributeError",
          "evalue": "ignored",
          "traceback": [
            "\u001b[0;31m---------------------------------------------------------------------------\u001b[0m",
            "\u001b[0;31mAttributeError\u001b[0m                            Traceback (most recent call last)",
            "\u001b[0;32m<ipython-input-5-5ddc9f33a6be>\u001b[0m in \u001b[0;36m<cell line: 3>\u001b[0;34m()\u001b[0m\n\u001b[1;32m      1\u001b[0m \u001b[0;31m#Instantiating RDDLEnv\u001b[0m\u001b[0;34m\u001b[0m\u001b[0;34m\u001b[0m\u001b[0m\n\u001b[1;32m      2\u001b[0m \u001b[0;34m\u001b[0m\u001b[0m\n\u001b[0;32m----> 3\u001b[0;31m \u001b[0mmyEnv\u001b[0m \u001b[0;34m=\u001b[0m \u001b[0mRDDLEnv\u001b[0m\u001b[0;34m.\u001b[0m\u001b[0mRDDEnv\u001b[0m\u001b[0;34m(\u001b[0m\u001b[0mdomain\u001b[0m \u001b[0;34m=\u001b[0m \u001b[0mdomain\u001b[0m\u001b[0;34m.\u001b[0m\u001b[0mrddl\u001b[0m\u001b[0;34m,\u001b[0m \u001b[0minstance\u001b[0m\u001b[0;34m=\u001b[0m\u001b[0minstance\u001b[0m\u001b[0;34m.\u001b[0m\u001b[0mrddl\u001b[0m\u001b[0;34m)\u001b[0m\u001b[0;34m\u001b[0m\u001b[0;34m\u001b[0m\u001b[0m\n\u001b[0m",
            "\u001b[0;31mAttributeError\u001b[0m: module 'pyRDDLGym.Core.Env.RDDLEnv' has no attribute 'RDDEnv'"
          ]
        }
      ]
    },
    {
      "cell_type": "markdown",
      "source": [
        "💡 the domain.rddl and instance.rddl files need to be replaced with the actual paths to the RDDL files we want to use."
      ],
      "metadata": {
        "id": "FvFPqDnjYPKU"
      }
    },
    {
      "cell_type": "markdown",
      "source": [
        "the rddl files are located in the pyRDDLGym distribution (/content/pyRDDLGym/pyRDDLGym/Examples)"
      ],
      "metadata": {
        "id": "tMD7mQypZLfh"
      }
    },
    {
      "cell_type": "markdown",
      "source": [
        "![image.png](data:image/png;base64,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)"
      ],
      "metadata": {
        "id": "ob4POIwbbNrD"
      }
    },
    {
      "cell_type": "markdown",
      "source": [
        "#BUILT-IN ENVIRONMENTS"
      ],
      "metadata": {
        "id": "TZOatLsxYtTu"
      }
    },
    {
      "cell_type": "code",
      "source": [
        "from pyRDDLGym import ExampleManager"
      ],
      "metadata": {
        "id": "Kw-S3N1fYOKR"
      },
      "execution_count": 7,
      "outputs": []
    },
    {
      "cell_type": "code",
      "source": [
        "#list all the available example environments in pyRDDLGym\n",
        "ExampleManager.ListExamples()"
      ],
      "metadata": {
        "colab": {
          "base_uri": "https://localhost:8080/"
        },
        "id": "pnOOHxbgnul-",
        "outputId": "606b695a-a989-44f0-e8a9-86eec2520bee"
      },
      "execution_count": 8,
      "outputs": [
        {
          "output_type": "stream",
          "name": "stdout",
          "text": [
            "Available example environment(s):\n"
          ]
        }
      ]
    },
    {
      "cell_type": "markdown",
      "source": [
        "####To retrive the informaiton of a specific environment use the following mtd:"
      ],
      "metadata": {
        "id": "abCrloGLioSJ"
      }
    },
    {
      "cell_type": "code",
      "source": [
        "ENV = \"HVAC\"        #ENV-->string name of the desired example environment\n",
        "EnvInfo = ExampleManager.GetEnvInfo(ENV)"
      ],
      "metadata": {
        "colab": {
          "base_uri": "https://localhost:8080/"
        },
        "id": "W9qJtPCedexD",
        "outputId": "ae32f7d5-85e0-4051-8ef5-6c39c27a30e8"
      },
      "execution_count": 9,
      "outputs": [
        {
          "output_type": "stream",
          "name": "stdout",
          "text": [
            "/content/pyRDDLGym/pyRDDLGym/Examples /content/pyRDDLGym/pyRDDLGym/Examples/manifest.csv\n",
            "Available example environment(s):\n",
            "MarsRover -> Multi Rover Navigation, where a group of agent needs to harvest mineral.\n",
            "MountainCar -> A simple continuous MDP for the classical mountain car control problem.\n",
            "CartPole continuous -> A simple continuous state-action MDP for the classical cart-pole system by Rich Sutton, with actions that describe the continuous force applied to the cart.\n",
            "CartPole discrete -> A simple continuous state MDP for the classical cart-pole system by Rich Sutton, with discrete actions that apply a constant force on either the left or right side of the cart.\n",
            "Wildfire -> A boolean version of the wildfire fighting domain.\n",
            "NewtonZero -> Example with Newton root-finding method.\n",
            "NewLanguage -> Example with new language features.\n",
            "PropDBN -> Simple propositional DBN.\n",
            "Elevators -> The Elevator domain models evening rush hours when people from different floors in a building want to go down to the bottom floor using elevators.\n",
            "RecSim -> A problem of recommendation systems, with consumers and providers.\n",
            "SupplyChainNet -> A supply chain network with factory and multiple warehouses.\n",
            "PowerGen continuous -> A continuous simple power generation problem loosely modeled on the problem of unit commitment.\n",
            "PowerGen discrete -> A simple power generation problem loosely modeled on the problem of unit commitment.\n",
            "HVAC -> Multi-zone and multi-heater HVAC control problem\n",
            "Traffic -> BLX/QTM traffic model.\n",
            "RaceCar -> A simple continuous MDP for the racecar problem.\n",
            "UAV continuous -> Continuous action space version of multi-UAV problem where a group of UAVs have to reach goal positions in the 3d Space.\n",
            "UAV discrete -> Discrete action space version of multi-UAV problem where a group of UAVs have to reach goal positions in the 3d Space.\n",
            "UAV mixed -> Mixed action space version of multi-UAV problem where a group of UAVs have to reach goal positions in the 3d Space.\n",
            "SupplyChain -> A supply chain with factory and multiple warehouses.\n",
            "Reservoir continuous -> Continuous action version of management of the water level in interconnected reservoirs.\n",
            "Reservoir discrete -> Discrete version of management of the water level in interconnected reservoirs.\n"
          ]
        }
      ]
    },
    {
      "cell_type": "code",
      "source": [
        "myEnv = RDDLEnv.RDDLEnv(domain=EnvInfo.get_domain(), instance=EnvInfo.get_instance(0))"
      ],
      "metadata": {
        "colab": {
          "base_uri": "https://localhost:8080/"
        },
        "id": "lbzPiI-fjKa4",
        "outputId": "6bb82a31-b39d-4bb6-dab4-de502bca3cb4"
      },
      "execution_count": 10,
      "outputs": [
        {
          "output_type": "stream",
          "name": "stderr",
          "text": [
            "WARNING: Token 'DOLLAR_SIGN' defined, but not used\n",
            "WARNING: Token 'DOT' defined, but not used\n",
            "WARNING: Token 'QUESTION' defined, but not used\n",
            "WARNING: Token 'TERMINAL' defined, but not used\n",
            "WARNING: There are 4 unused tokens\n",
            "Generating LALR tables\n",
            "WARNING: 1 shift/reduce conflict\n",
            "WARNING: 6 reduce/reduce conflicts\n",
            "WARNING: reduce/reduce conflict in state 348 resolved using rule (term -> VAR)\n",
            "WARNING: rejected rule (pvar_expr -> VAR) in state 348\n",
            "WARNING: reduce/reduce conflict in state 349 resolved using rule (term -> ENUM_VAL)\n",
            "WARNING: rejected rule (pvar_expr -> ENUM_VAL) in state 349\n"
          ]
        }
      ]
    },
    {
      "cell_type": "markdown",
      "source": [
        "💡   Overall, this line of code creates an RDDL environment object that uses a specific RDDL domain and problem instance file to define the environment's structure and initial state.\n",
        "\n",
        "\n",
        "- Where the argument of the method get_instance(<num>) is the ID number of the instance (0 in this case)."
      ],
      "metadata": {
        "id": "PMNPdYUFucwr"
      }
    },
    {
      "cell_type": "markdown",
      "source": [
        "####ALTERNATIVELY"
      ],
      "metadata": {
        "id": "PWVl8I3TsdID"
      }
    },
    {
      "cell_type": "code",
      "source": [
        "env = RDDLEnv.RDDLEnv(domain = \"/content/pyRDDLGym/pyRDDLGym/Examples/HVAC/domain.rddl\", instance =\"/content/pyRDDLGym/pyRDDLGym/Examples/HVAC/instance0.rddl\" )"
      ],
      "metadata": {
        "id": "8XVE6sP6i1u_"
      },
      "execution_count": 11,
      "outputs": []
    },
    {
      "cell_type": "markdown",
      "source": [
        "Is this correct??? I guess so!"
      ],
      "metadata": {
        "id": "t1EQoGj_tisE"
      }
    },
    {
      "cell_type": "code",
      "source": [
        "#Listing all the available instances of the problem\n",
        "EnvInfo.list_instances()"
      ],
      "metadata": {
        "colab": {
          "base_uri": "https://localhost:8080/"
        },
        "id": "EmMhFQQVtbNQ",
        "outputId": "a0a5de3e-19bf-44dc-f6d7-75a8e6bd27ed"
      },
      "execution_count": 12,
      "outputs": [
        {
          "output_type": "execute_result",
          "data": {
            "text/plain": [
              "['instance0.rddl', 'instance1.rddl', 'instance2.rddl']"
            ]
          },
          "metadata": {},
          "execution_count": 12
        }
      ]
    },
    {
      "cell_type": "code",
      "source": [
        "#Setting up the dedicated visualizer \n",
        "myEnv.set_visualizer(EnvInfo.get_visualizer())"
      ],
      "metadata": {
        "id": "0Ap8CM-QvWY0"
      },
      "execution_count": 13,
      "outputs": []
    },
    {
      "cell_type": "markdown",
      "source": [
        "#Interacting with the Environment\n",
        "pyRDDLGym is build on Gym as so implements the classic “agent-environment loop”. The infrastructure comes with two simple agents:\n",
        "\n",
        "- NoOpAgent - which allows the environment to evolve according to the default behavior as specified in the RDDL file.\n",
        "- RandomAgent - which sends a rendom action according to the env.action_space and the maximum number of allowed concurrent actions as specified in the RDDL file."
      ],
      "metadata": {
        "id": "V1UftjFolRqw"
      }
    },
    {
      "cell_type": "markdown",
      "source": [
        "Cool commands:\n",
        "- !pip list\n",
        "- !pip show Policies\n",
        "- !pip freeze | grep Policies    ----> returns nothing, that means Policies isn't installed"
      ],
      "metadata": {
        "id": "NmO3iX8OrX3t"
      }
    },
    {
      "cell_type": "code",
      "source": [
        "from pyRDDLGym.Policies.Agents import RandomAgent\n",
        "agent = RandomAgent(action_space=myEnv.action_space, num_actions=myEnv.NumConcurrentActions)"
      ],
      "metadata": {
        "colab": {
          "base_uri": "https://localhost:8080/",
          "height": 182
        },
        "id": "K6jGcrYHvQYQ",
        "outputId": "81e22fd8-b399-4fac-a8f2-950f4d3de9b9"
      },
      "execution_count": 14,
      "outputs": [
        {
          "output_type": "error",
          "ename": "AttributeError",
          "evalue": "ignored",
          "traceback": [
            "\u001b[0;31m---------------------------------------------------------------------------\u001b[0m",
            "\u001b[0;31mAttributeError\u001b[0m                            Traceback (most recent call last)",
            "\u001b[0;32m<ipython-input-14-bf3d64567865>\u001b[0m in \u001b[0;36m<cell line: 2>\u001b[0;34m()\u001b[0m\n\u001b[1;32m      1\u001b[0m \u001b[0;32mfrom\u001b[0m \u001b[0mpyRDDLGym\u001b[0m\u001b[0;34m.\u001b[0m\u001b[0mPolicies\u001b[0m\u001b[0;34m.\u001b[0m\u001b[0mAgents\u001b[0m \u001b[0;32mimport\u001b[0m \u001b[0mRandomAgent\u001b[0m\u001b[0;34m\u001b[0m\u001b[0;34m\u001b[0m\u001b[0m\n\u001b[0;32m----> 2\u001b[0;31m \u001b[0magent\u001b[0m \u001b[0;34m=\u001b[0m \u001b[0mRandomAgent\u001b[0m\u001b[0;34m(\u001b[0m\u001b[0maction_space\u001b[0m\u001b[0;34m=\u001b[0m\u001b[0mmyEnv\u001b[0m\u001b[0;34m.\u001b[0m\u001b[0maction_space\u001b[0m\u001b[0;34m,\u001b[0m \u001b[0mnum_actions\u001b[0m\u001b[0;34m=\u001b[0m\u001b[0mmyEnv\u001b[0m\u001b[0;34m.\u001b[0m\u001b[0mNumConcurrentActions\u001b[0m\u001b[0;34m)\u001b[0m\u001b[0;34m\u001b[0m\u001b[0;34m\u001b[0m\u001b[0m\n\u001b[0m",
            "\u001b[0;31mAttributeError\u001b[0m: 'RDDLEnv' object has no attribute 'NumConcurrentActions'"
          ]
        }
      ]
    },
    {
      "cell_type": "markdown",
      "source": [
        "#How to debug this?\n",
        "\n",
        "Follow along\n"
      ],
      "metadata": {
        "id": "KYzBBKU7sK0j"
      }
    },
    {
      "cell_type": "code",
      "source": [
        "myEnv.action_space"
      ],
      "metadata": {
        "colab": {
          "base_uri": "https://localhost:8080/"
        },
        "id": "2WqMts_Upazv",
        "outputId": "3616de8f-a6b3-4f3f-9e68-eabec96e7fc5"
      },
      "execution_count": 15,
      "outputs": [
        {
          "output_type": "execute_result",
          "data": {
            "text/plain": [
              "Dict('fan-in___z1': Box(0.05, inf, (1,), float32), 'heat-input___h1': Box(-inf, inf, (1,), float32))"
            ]
          },
          "metadata": {},
          "execution_count": 15
        }
      ]
    },
    {
      "cell_type": "code",
      "source": [
        "#print out a list of all the attributes and methods of the myEnv object\n",
        "print(dir(myEnv))"
      ],
      "metadata": {
        "colab": {
          "base_uri": "https://localhost:8080/"
        },
        "id": "GB_3-aqSsDe8",
        "outputId": "9112e5c0-4a4c-483e-af20-d1aae2a9272f"
      },
      "execution_count": 17,
      "outputs": [
        {
          "output_type": "stream",
          "name": "stdout",
          "text": [
            "['Budget', '__annotations__', '__class__', '__class_getitem__', '__delattr__', '__dict__', '__dir__', '__doc__', '__enter__', '__eq__', '__exit__', '__format__', '__ge__', '__getattribute__', '__gt__', '__hash__', '__init__', '__init_subclass__', '__le__', '__lt__', '__module__', '__ne__', '__new__', '__orig_bases__', '__parameters__', '__reduce__', '__reduce_ex__', '__repr__', '__setattr__', '__sizeof__', '__slots__', '__str__', '__subclasshook__', '__weakref__', '_is_protocol', '_movie_generator', '_movie_per_episode', '_movies', '_np_random', '_visualizer', 'action_space', 'actionsranges', 'budget', 'close', 'currentH', 'defaultAction', 'discount', 'domain_text', 'done', 'enforce_action_constraints', 'horizon', 'image', 'image_size', 'instance_text', 'max_allowed_actions', 'metadata', 'model', 'non_fluents', 'np_random', 'numConcurrentActions', 'observation_space', 'pilImageToSurface', 'render', 'render_mode', 'reset', 'reward_range', 'sampler', 'seed', 'set_visualizer', 'simlogger', 'spec', 'state', 'step', 'to_render', 'trial', 'unwrapped', 'window']\n"
          ]
        }
      ]
    },
    {
      "cell_type": "markdown",
      "source": [
        "numConcurrentActions is present!! \n",
        "\n",
        "It seems like the variable name numConcurrentActions is not defined properly, particularly the casinf of the letter n is incorrect, we need to replace NumConcurrentActions with numConcurrentActions"
      ],
      "metadata": {
        "id": "s0b0d4IAtnKD"
      }
    },
    {
      "cell_type": "code",
      "source": [
        "from pyRDDLGym.Policies.Agents import RandomAgent\n",
        "agent = RandomAgent(action_space=myEnv.action_space, num_actions=myEnv.numConcurrentActions)"
      ],
      "metadata": {
        "id": "p2hXmgCttHa1"
      },
      "execution_count": 18,
      "outputs": []
    },
    {
      "cell_type": "markdown",
      "source": [
        "#Agent-environment loop in pyRDDLGym"
      ],
      "metadata": {
        "id": "1LPnj-3GyWZl"
      }
    },
    {
      "cell_type": "markdown",
      "source": [
        "- Example: MarsRover\n",
        "\n",
        "- The loop will run for the amount of time steps specified in the environment’s horizon field.\n",
        "\n",
        "- If the env.render() function will be used we will also see a window pop up rendering the environment"
      ],
      "metadata": {
        "id": "8tMJREfnyub7"
      }
    },
    {
      "cell_type": "code",
      "source": [
        "!apt install -y xvfb python-opengl \n",
        "!pip install gym pyvirtualdisplay \n",
        "from pyvirtualdisplay import Display\n",
        "display = Display(visible=0, size=(1400, 900))\n",
        "display.start()\n"
      ],
      "metadata": {
        "colab": {
          "base_uri": "https://localhost:8080/"
        },
        "id": "RmvEEHeM0HI0",
        "outputId": "ce720eee-3ba6-4ef6-9493-77b406b2112a"
      },
      "execution_count": 19,
      "outputs": [
        {
          "output_type": "stream",
          "name": "stdout",
          "text": [
            "Reading package lists... Done\n",
            "Building dependency tree       \n",
            "Reading state information... Done\n",
            "The following additional packages will be installed:\n",
            "  freeglut3 libfontenc1 libpython2-stdlib libxfont2 libxkbfile1 python2\n",
            "  python2-minimal x11-xkb-utils xfonts-base xfonts-encodings xfonts-utils\n",
            "  xserver-common\n",
            "Suggested packages:\n",
            "  python-tk python-numpy libgle3 python2-doc\n",
            "The following NEW packages will be installed:\n",
            "  freeglut3 libfontenc1 libpython2-stdlib libxfont2 libxkbfile1 python-opengl\n",
            "  python2 python2-minimal x11-xkb-utils xfonts-base xfonts-encodings\n",
            "  xfonts-utils xserver-common xvfb\n",
            "0 upgraded, 14 newly installed, 0 to remove and 24 not upgraded.\n",
            "Need to get 8,318 kB of archives.\n",
            "After this operation, 18.0 MB of additional disk space will be used.\n",
            "Get:1 http://archive.ubuntu.com/ubuntu focal/universe amd64 python2-minimal amd64 2.7.17-2ubuntu4 [27.5 kB]\n",
            "Get:2 http://archive.ubuntu.com/ubuntu focal/universe amd64 libpython2-stdlib amd64 2.7.17-2ubuntu4 [7,072 B]\n",
            "Get:3 http://archive.ubuntu.com/ubuntu focal/universe amd64 python2 amd64 2.7.17-2ubuntu4 [26.5 kB]\n",
            "Get:4 http://archive.ubuntu.com/ubuntu focal/universe amd64 freeglut3 amd64 2.8.1-3 [73.6 kB]\n",
            "Get:5 http://archive.ubuntu.com/ubuntu focal/main amd64 libfontenc1 amd64 1:1.1.4-0ubuntu1 [14.0 kB]\n",
            "Get:6 http://archive.ubuntu.com/ubuntu focal/main amd64 libxfont2 amd64 1:2.0.3-1 [91.7 kB]\n",
            "Get:7 http://archive.ubuntu.com/ubuntu focal/main amd64 libxkbfile1 amd64 1:1.1.0-1 [65.3 kB]\n",
            "Get:8 http://archive.ubuntu.com/ubuntu focal/universe amd64 python-opengl all 3.1.0+dfsg-2build1 [486 kB]\n",
            "Get:9 http://archive.ubuntu.com/ubuntu focal/main amd64 x11-xkb-utils amd64 7.7+5 [158 kB]\n",
            "Get:10 http://archive.ubuntu.com/ubuntu focal/main amd64 xfonts-encodings all 1:1.0.5-0ubuntu1 [573 kB]\n",
            "Get:11 http://archive.ubuntu.com/ubuntu focal/main amd64 xfonts-utils amd64 1:7.7+6 [91.5 kB]\n",
            "Get:12 http://archive.ubuntu.com/ubuntu focal/main amd64 xfonts-base all 1:1.0.5 [5,896 kB]\n",
            "Get:13 http://archive.ubuntu.com/ubuntu focal-updates/main amd64 xserver-common all 2:1.20.13-1ubuntu1~20.04.8 [27.2 kB]\n",
            "Get:14 http://archive.ubuntu.com/ubuntu focal-updates/universe amd64 xvfb amd64 2:1.20.13-1ubuntu1~20.04.8 [780 kB]\n",
            "Fetched 8,318 kB in 2s (4,769 kB/s)\n",
            "Selecting previously unselected package python2-minimal.\n",
            "(Reading database ... 122349 files and directories currently installed.)\n",
            "Preparing to unpack .../python2-minimal_2.7.17-2ubuntu4_amd64.deb ...\n",
            "Unpacking python2-minimal (2.7.17-2ubuntu4) ...\n",
            "Selecting previously unselected package libpython2-stdlib:amd64.\n",
            "Preparing to unpack .../libpython2-stdlib_2.7.17-2ubuntu4_amd64.deb ...\n",
            "Unpacking libpython2-stdlib:amd64 (2.7.17-2ubuntu4) ...\n",
            "Setting up python2-minimal (2.7.17-2ubuntu4) ...\n",
            "Selecting previously unselected package python2.\n",
            "(Reading database ... 122378 files and directories currently installed.)\n",
            "Preparing to unpack .../00-python2_2.7.17-2ubuntu4_amd64.deb ...\n",
            "Unpacking python2 (2.7.17-2ubuntu4) ...\n",
            "Selecting previously unselected package freeglut3:amd64.\n",
            "Preparing to unpack .../01-freeglut3_2.8.1-3_amd64.deb ...\n",
            "Unpacking freeglut3:amd64 (2.8.1-3) ...\n",
            "Selecting previously unselected package libfontenc1:amd64.\n",
            "Preparing to unpack .../02-libfontenc1_1%3a1.1.4-0ubuntu1_amd64.deb ...\n",
            "Unpacking libfontenc1:amd64 (1:1.1.4-0ubuntu1) ...\n",
            "Selecting previously unselected package libxfont2:amd64.\n",
            "Preparing to unpack .../03-libxfont2_1%3a2.0.3-1_amd64.deb ...\n",
            "Unpacking libxfont2:amd64 (1:2.0.3-1) ...\n",
            "Selecting previously unselected package libxkbfile1:amd64.\n",
            "Preparing to unpack .../04-libxkbfile1_1%3a1.1.0-1_amd64.deb ...\n",
            "Unpacking libxkbfile1:amd64 (1:1.1.0-1) ...\n",
            "Selecting previously unselected package python-opengl.\n",
            "Preparing to unpack .../05-python-opengl_3.1.0+dfsg-2build1_all.deb ...\n",
            "Unpacking python-opengl (3.1.0+dfsg-2build1) ...\n",
            "Selecting previously unselected package x11-xkb-utils.\n",
            "Preparing to unpack .../06-x11-xkb-utils_7.7+5_amd64.deb ...\n",
            "Unpacking x11-xkb-utils (7.7+5) ...\n",
            "Selecting previously unselected package xfonts-encodings.\n",
            "Preparing to unpack .../07-xfonts-encodings_1%3a1.0.5-0ubuntu1_all.deb ...\n",
            "Unpacking xfonts-encodings (1:1.0.5-0ubuntu1) ...\n",
            "Selecting previously unselected package xfonts-utils.\n",
            "Preparing to unpack .../08-xfonts-utils_1%3a7.7+6_amd64.deb ...\n",
            "Unpacking xfonts-utils (1:7.7+6) ...\n",
            "Selecting previously unselected package xfonts-base.\n",
            "Preparing to unpack .../09-xfonts-base_1%3a1.0.5_all.deb ...\n",
            "Unpacking xfonts-base (1:1.0.5) ...\n",
            "Selecting previously unselected package xserver-common.\n",
            "Preparing to unpack .../10-xserver-common_2%3a1.20.13-1ubuntu1~20.04.8_all.deb ...\n",
            "Unpacking xserver-common (2:1.20.13-1ubuntu1~20.04.8) ...\n",
            "Selecting previously unselected package xvfb.\n",
            "Preparing to unpack .../11-xvfb_2%3a1.20.13-1ubuntu1~20.04.8_amd64.deb ...\n",
            "Unpacking xvfb (2:1.20.13-1ubuntu1~20.04.8) ...\n",
            "Setting up freeglut3:amd64 (2.8.1-3) ...\n",
            "Setting up libpython2-stdlib:amd64 (2.7.17-2ubuntu4) ...\n",
            "Setting up python2 (2.7.17-2ubuntu4) ...\n",
            "Setting up libfontenc1:amd64 (1:1.1.4-0ubuntu1) ...\n",
            "Setting up xfonts-encodings (1:1.0.5-0ubuntu1) ...\n",
            "Setting up libxkbfile1:amd64 (1:1.1.0-1) ...\n",
            "Setting up libxfont2:amd64 (1:2.0.3-1) ...\n",
            "Setting up python-opengl (3.1.0+dfsg-2build1) ...\n",
            "Setting up x11-xkb-utils (7.7+5) ...\n",
            "Setting up xfonts-utils (1:7.7+6) ...\n",
            "Setting up xfonts-base (1:1.0.5) ...\n",
            "Setting up xserver-common (2:1.20.13-1ubuntu1~20.04.8) ...\n",
            "Setting up xvfb (2:1.20.13-1ubuntu1~20.04.8) ...\n",
            "Processing triggers for man-db (2.9.1-1) ...\n",
            "Processing triggers for fontconfig (2.13.1-2ubuntu3) ...\n",
            "Processing triggers for libc-bin (2.31-0ubuntu9.9) ...\n",
            "Looking in indexes: https://pypi.org/simple, https://us-python.pkg.dev/colab-wheels/public/simple/\n",
            "Requirement already satisfied: gym in /usr/local/lib/python3.9/dist-packages (0.25.2)\n",
            "Collecting pyvirtualdisplay\n",
            "  Downloading PyVirtualDisplay-3.0-py3-none-any.whl (15 kB)\n",
            "Requirement already satisfied: importlib-metadata>=4.8.0 in /usr/local/lib/python3.9/dist-packages (from gym) (6.1.0)\n",
            "Requirement already satisfied: numpy>=1.18.0 in /usr/local/lib/python3.9/dist-packages (from gym) (1.22.4)\n",
            "Requirement already satisfied: gym-notices>=0.0.4 in /usr/local/lib/python3.9/dist-packages (from gym) (0.0.8)\n",
            "Requirement already satisfied: cloudpickle>=1.2.0 in /usr/local/lib/python3.9/dist-packages (from gym) (2.2.1)\n",
            "Requirement already satisfied: zipp>=0.5 in /usr/local/lib/python3.9/dist-packages (from importlib-metadata>=4.8.0->gym) (3.15.0)\n",
            "Installing collected packages: pyvirtualdisplay\n",
            "Successfully installed pyvirtualdisplay-3.0\n"
          ]
        },
        {
          "output_type": "execute_result",
          "data": {
            "text/plain": [
              "<pyvirtualdisplay.display.Display at 0x7fbe2010ba60>"
            ]
          },
          "metadata": {},
          "execution_count": 19
        }
      ]
    },
    {
      "cell_type": "code",
      "source": [
        "from pyRDDLGym import RDDLEnv\n",
        "from pyRDDLGym import ExampleManager\n",
        "from pyRDDLGym.Policies.Agents import RandomAgent\n",
        "\n",
        "# get the environment info\n",
        "EnvInfo = ExampleManager.GetEnvInfo('MarsRover')\n",
        "\n",
        "# set up the environment class, choose instance 0 because every example has at least one example instance\n",
        "myEnv = RDDLEnv.RDDLEnv(domain=EnvInfo.get_domain(), instance=EnvInfo.get_instance(0))\n",
        "# set up the environment visualizer\n",
        "myEnv.set_visualizer(EnvInfo.get_visualizer())\n",
        "\n",
        "# set up an aget\n",
        "agent = RandomAgent(action_space=myEnv.action_space, num_actions=myEnv.numConcurrentActions)\n",
        "\n",
        "total_reward = 0\n",
        "state = myEnv.reset()\n",
        "for _ in range(myEnv.horizon):\n",
        "      myEnv.render()\n",
        "      next_state, reward, done, info = myEnv.step(agent.sample_action())\n",
        "      total_reward += reward\n",
        "      state = next_state\n",
        "      if done:\n",
        "            break\n",
        "myEnv.close()"
      ],
      "metadata": {
        "colab": {
          "base_uri": "https://localhost:8080/"
        },
        "id": "4wMJsUkCtwvz",
        "outputId": "0ef327a8-e94e-4e91-8415-47f97700f2eb"
      },
      "execution_count": 20,
      "outputs": [
        {
          "output_type": "stream",
          "name": "stderr",
          "text": [
            "/usr/local/lib/python3.9/dist-packages/ipykernel/ipkernel.py:283: DeprecationWarning: `should_run_async` will not call `transform_cell` automatically in the future. Please pass the result to `transformed_cell` argument and any exception that happen during thetransform in `preprocessing_exc_tuple` in IPython 7.17 and above.\n",
            "  and should_run_async(code)\n"
          ]
        }
      ]
    },
    {
      "cell_type": "markdown",
      "source": [
        "#Spaces"
      ],
      "metadata": {
        "id": "9yJkZco9G4Mt"
      }
    },
    {
      "cell_type": "code",
      "source": [
        "print(f\"Action Space: {myEnv.action_space}\")"
      ],
      "metadata": {
        "colab": {
          "base_uri": "https://localhost:8080/"
        },
        "id": "z2QcHgLhzRQK",
        "outputId": "1fbb50c2-6a37-46d0-9800-28d06c7fe385"
      },
      "execution_count": 21,
      "outputs": [
        {
          "output_type": "stream",
          "name": "stdout",
          "text": [
            "Action Space: Dict('power-x___d1': Box(-0.05, 0.05, (1,), float32), 'power-x___d2': Box(-0.05, 0.05, (1,), float32), 'power-y___d1': Box(-0.05, 0.05, (1,), float32), 'power-y___d2': Box(-0.05, 0.05, (1,), float32), 'harvest___d1': Discrete(2), 'harvest___d2': Discrete(2))\n"
          ]
        }
      ]
    },
    {
      "cell_type": "code",
      "source": [
        "print(f\"Observation Space: {myEnv.observation_space}\")"
      ],
      "metadata": {
        "colab": {
          "base_uri": "https://localhost:8080/"
        },
        "id": "w8p8bbQMHfTJ",
        "outputId": "0b45a609-46d8-4b33-9eea-5725778341f0"
      },
      "execution_count": 22,
      "outputs": [
        {
          "output_type": "stream",
          "name": "stdout",
          "text": [
            "Observation Space: Dict('vel-x___d1': Box(-inf, inf, (1,), float32), 'vel-x___d2': Box(-inf, inf, (1,), float32), 'pos-x___d1': Box(-inf, inf, (1,), float32), 'pos-x___d2': Box(-inf, inf, (1,), float32), 'vel-y___d1': Box(-inf, inf, (1,), float32), 'vel-y___d2': Box(-inf, inf, (1,), float32), 'pos-y___d1': Box(-inf, inf, (1,), float32), 'pos-y___d2': Box(-inf, inf, (1,), float32), 'mineral-harvested___m1': Discrete(2), 'mineral-harvested___m2': Discrete(2))\n"
          ]
        }
      ]
    },
    {
      "cell_type": "markdown",
      "source": [
        "💡 The state and action spaces of pyRDDLGym are standard gym.spaces, and inquireable througth the standard API: env.state_space and env.action_space. State/action spaces are of type gym.spaces.Dict, where each key-value pair where the key name is the state/action and the value is the state/action current value or action to apply."
      ],
      "metadata": {
        "id": "RI91XzpxIYPT"
      }
    },
    {
      "cell_type": "markdown",
      "source": [
        "Thus, RDDL types are converted to gym.spaces with the appropriate bounds as specified in the RDDL action-preconditions and state-invariants fields. The conversion is as following:\n",
        "\n",
        "- real -> Box with bounds as specified in action-preconditions, or with np.inf and symetric bounds.\n",
        "- int -> Discrete with bounds as specified in action-preconditions, or with np.inf and symetric bounds.\n",
        "- bool -> Discrete(2)"
      ],
      "metadata": {
        "id": "dj3xNItFKNDB"
      }
    },
    {
      "cell_type": "code",
      "source": [
        "from pyRDDLGym import RDDLEnv\n",
        "from pyRDDLGym import ExampleManager\n",
        "\n",
        "EnvInfo = ExampleManager.GetEnvInfo('MarsRover')\n",
        "myEnv = RDDLEnv.RDDLEnv(domain=EnvInfo.get_domain(), instance=EnvInfo.get_instance(0))\n",
        "\n",
        "# set up the environment visualizer\n",
        "myEnv.set_visualizer(EnvInfo.get_visualizer())"
      ],
      "metadata": {
        "id": "4NzNMEKpHlbR"
      },
      "execution_count": 23,
      "outputs": []
    },
    {
      "cell_type": "code",
      "source": [
        "from pyRDDLGym import RDDLEnv\n",
        "from pyRDDLGym.Visualizer.ChartViz import ChartVisualizer\n",
        "\n",
        "myEnv = RDDLEnv.RDDLEnv(domain='/content/pyRDDLGym/pyRDDLGym/Examples/HVAC/domain.rddl', instance='/content/pyRDDLGym/pyRDDLGym/Examples/HVAC/instance0.rddl')\n",
        "\n",
        "# set up the graphical visualizer\n",
        "myEnv.set_visualizer(ChartVisualizer)"
      ],
      "metadata": {
        "id": "HgOaDVYM920p"
      },
      "execution_count": 26,
      "outputs": []
    },
    {
      "cell_type": "code",
      "source": [],
      "metadata": {
        "id": "trA3R-Bu-PN4"
      },
      "execution_count": null,
      "outputs": []
    }
  ]
}
