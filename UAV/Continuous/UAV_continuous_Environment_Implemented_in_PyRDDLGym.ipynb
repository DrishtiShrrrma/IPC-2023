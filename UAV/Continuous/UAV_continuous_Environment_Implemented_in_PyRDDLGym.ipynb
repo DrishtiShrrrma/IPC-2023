{
  "nbformat": 4,
  "nbformat_minor": 0,
  "metadata": {
    "colab": {
      "provenance": []
    },
    "kernelspec": {
      "name": "python3",
      "display_name": "Python 3"
    },
    "language_info": {
      "name": "python"
    }
  },
  "cells": [
    {
      "cell_type": "code",
      "execution_count": 1,
      "metadata": {
        "colab": {
          "base_uri": "https://localhost:8080/"
        },
        "id": "lr83kzap-QO-",
        "outputId": "8ced9c7f-f296-473d-ff93-62a27dad0dee"
      },
      "outputs": [
        {
          "output_type": "stream",
          "name": "stdout",
          "text": [
            "Cloning into 'pyRDDLGym'...\n",
            "remote: Enumerating objects: 9562, done.\u001b[K\n",
            "remote: Counting objects: 100% (161/161), done.\u001b[K\n",
            "remote: Compressing objects: 100% (107/107), done.\u001b[K\n",
            "remote: Total 9562 (delta 106), reused 96 (delta 54), pack-reused 9401\u001b[K\n",
            "Receiving objects: 100% (9562/9562), 7.35 MiB | 8.33 MiB/s, done.\n",
            "Resolving deltas: 100% (6430/6430), done.\n"
          ]
        }
      ],
      "source": [
        "!git clone https://github.com/ataitler/pyRDDLGym.git"
      ]
    },
    {
      "cell_type": "code",
      "source": [
        "#Changing the working directory to the \"pyRDDLGym\" directory\n",
        "%cd /content/pyRDDLGym"
      ],
      "metadata": {
        "colab": {
          "base_uri": "https://localhost:8080/"
        },
        "id": "YqWYotil-UbN",
        "outputId": "a04dd780-b255-4e05-98a0-e0bb32da2eb9"
      },
      "execution_count": 2,
      "outputs": [
        {
          "output_type": "stream",
          "name": "stdout",
          "text": [
            "/content/pyRDDLGym\n"
          ]
        }
      ]
    },
    {
      "cell_type": "code",
      "source": [
        "#Installing all the required packages listed in the \"requirements.txt\" file\n",
        "!pip install -r requirements.txt"
      ],
      "metadata": {
        "colab": {
          "base_uri": "https://localhost:8080/",
          "height": 593
        },
        "id": "cl-1IVjm-WzS",
        "outputId": "a6879948-d4d8-43fb-dc0d-5595338c9d86"
      },
      "execution_count": 3,
      "outputs": [
        {
          "output_type": "stream",
          "name": "stdout",
          "text": [
            "Looking in indexes: https://pypi.org/simple, https://us-python.pkg.dev/colab-wheels/public/simple/\n",
            "Requirement already satisfied: matplotlib>=3.5.0 in /usr/local/lib/python3.10/dist-packages (from -r requirements.txt (line 1)) (3.7.1)\n",
            "Collecting pillow>=9.2.0 (from -r requirements.txt (line 2))\n",
            "  Downloading Pillow-9.5.0-cp310-cp310-manylinux_2_28_x86_64.whl (3.4 MB)\n",
            "\u001b[2K     \u001b[90m━━━━━━━━━━━━━━━━━━━━━━━━━━━━━━━━━━━━━━━━\u001b[0m \u001b[32m3.4/3.4 MB\u001b[0m \u001b[31m28.9 MB/s\u001b[0m eta \u001b[36m0:00:00\u001b[0m\n",
            "\u001b[?25hRequirement already satisfied: gym>=0.24.0 in /usr/local/lib/python3.10/dist-packages (from -r requirements.txt (line 3)) (0.25.2)\n",
            "Requirement already satisfied: numpy>=1.22 in /usr/local/lib/python3.10/dist-packages (from -r requirements.txt (line 4)) (1.22.4)\n",
            "Requirement already satisfied: pygame in /usr/local/lib/python3.10/dist-packages (from -r requirements.txt (line 5)) (2.3.0)\n",
            "Collecting ply (from -r requirements.txt (line 6))\n",
            "  Downloading ply-3.11-py2.py3-none-any.whl (49 kB)\n",
            "\u001b[2K     \u001b[90m━━━━━━━━━━━━━━━━━━━━━━━━━━━━━━━━━━━━━━━━\u001b[0m \u001b[32m49.6/49.6 kB\u001b[0m \u001b[31m1.5 MB/s\u001b[0m eta \u001b[36m0:00:00\u001b[0m\n",
            "\u001b[?25hRequirement already satisfied: contourpy>=1.0.1 in /usr/local/lib/python3.10/dist-packages (from matplotlib>=3.5.0->-r requirements.txt (line 1)) (1.0.7)\n",
            "Requirement already satisfied: cycler>=0.10 in /usr/local/lib/python3.10/dist-packages (from matplotlib>=3.5.0->-r requirements.txt (line 1)) (0.11.0)\n",
            "Requirement already satisfied: fonttools>=4.22.0 in /usr/local/lib/python3.10/dist-packages (from matplotlib>=3.5.0->-r requirements.txt (line 1)) (4.39.3)\n",
            "Requirement already satisfied: kiwisolver>=1.0.1 in /usr/local/lib/python3.10/dist-packages (from matplotlib>=3.5.0->-r requirements.txt (line 1)) (1.4.4)\n",
            "Requirement already satisfied: packaging>=20.0 in /usr/local/lib/python3.10/dist-packages (from matplotlib>=3.5.0->-r requirements.txt (line 1)) (23.1)\n",
            "Requirement already satisfied: pyparsing>=2.3.1 in /usr/local/lib/python3.10/dist-packages (from matplotlib>=3.5.0->-r requirements.txt (line 1)) (3.0.9)\n",
            "Requirement already satisfied: python-dateutil>=2.7 in /usr/local/lib/python3.10/dist-packages (from matplotlib>=3.5.0->-r requirements.txt (line 1)) (2.8.2)\n",
            "Requirement already satisfied: cloudpickle>=1.2.0 in /usr/local/lib/python3.10/dist-packages (from gym>=0.24.0->-r requirements.txt (line 3)) (2.2.1)\n",
            "Requirement already satisfied: gym-notices>=0.0.4 in /usr/local/lib/python3.10/dist-packages (from gym>=0.24.0->-r requirements.txt (line 3)) (0.0.8)\n",
            "Requirement already satisfied: six>=1.5 in /usr/local/lib/python3.10/dist-packages (from python-dateutil>=2.7->matplotlib>=3.5.0->-r requirements.txt (line 1)) (1.16.0)\n",
            "Installing collected packages: ply, pillow\n",
            "  Attempting uninstall: pillow\n",
            "    Found existing installation: Pillow 8.4.0\n",
            "    Uninstalling Pillow-8.4.0:\n",
            "      Successfully uninstalled Pillow-8.4.0\n",
            "Successfully installed pillow-9.5.0 ply-3.11\n"
          ]
        },
        {
          "output_type": "display_data",
          "data": {
            "application/vnd.colab-display-data+json": {
              "pip_warning": {
                "packages": [
                  "PIL"
                ]
              }
            }
          },
          "metadata": {}
        }
      ]
    },
    {
      "cell_type": "code",
      "source": [
        "!apt-get install -y xserver-xephyr"
      ],
      "metadata": {
        "colab": {
          "base_uri": "https://localhost:8080/"
        },
        "id": "Emy5RmN1-ZZL",
        "outputId": "93d6e312-c217-461a-dc51-9a039120929a"
      },
      "execution_count": 4,
      "outputs": [
        {
          "output_type": "stream",
          "name": "stdout",
          "text": [
            "Reading package lists... Done\n",
            "Building dependency tree       \n",
            "Reading state information... Done\n",
            "The following additional packages will be installed:\n",
            "  libfontenc1 libxcb-xv0 libxfont2 libxkbfile1 x11-xkb-utils xfonts-base\n",
            "  xfonts-encodings xfonts-utils xserver-common\n",
            "The following NEW packages will be installed:\n",
            "  libfontenc1 libxcb-xv0 libxfont2 libxkbfile1 x11-xkb-utils xfonts-base\n",
            "  xfonts-encodings xfonts-utils xserver-common xserver-xephyr\n",
            "0 upgraded, 10 newly installed, 0 to remove and 24 not upgraded.\n",
            "Need to get 7,843 kB of archives.\n",
            "After this operation, 12.3 MB of additional disk space will be used.\n",
            "Get:1 http://archive.ubuntu.com/ubuntu focal/main amd64 libfontenc1 amd64 1:1.1.4-0ubuntu1 [14.0 kB]\n",
            "Get:2 http://archive.ubuntu.com/ubuntu focal/main amd64 libxcb-xv0 amd64 1.14-2 [9,192 B]\n",
            "Get:3 http://archive.ubuntu.com/ubuntu focal/main amd64 libxfont2 amd64 1:2.0.3-1 [91.7 kB]\n",
            "Get:4 http://archive.ubuntu.com/ubuntu focal/main amd64 libxkbfile1 amd64 1:1.1.0-1 [65.3 kB]\n",
            "Get:5 http://archive.ubuntu.com/ubuntu focal/main amd64 x11-xkb-utils amd64 7.7+5 [158 kB]\n",
            "Get:6 http://archive.ubuntu.com/ubuntu focal/main amd64 xfonts-encodings all 1:1.0.5-0ubuntu1 [573 kB]\n",
            "Get:7 http://archive.ubuntu.com/ubuntu focal/main amd64 xfonts-utils amd64 1:7.7+6 [91.5 kB]\n",
            "Get:8 http://archive.ubuntu.com/ubuntu focal/main amd64 xfonts-base all 1:1.0.5 [5,896 kB]\n",
            "Get:9 http://archive.ubuntu.com/ubuntu focal-updates/main amd64 xserver-common all 2:1.20.13-1ubuntu1~20.04.8 [27.2 kB]\n",
            "Get:10 http://archive.ubuntu.com/ubuntu focal-updates/main amd64 xserver-xephyr amd64 2:1.20.13-1ubuntu1~20.04.8 [917 kB]\n",
            "Fetched 7,843 kB in 1s (7,831 kB/s)\n",
            "Selecting previously unselected package libfontenc1:amd64.\n",
            "(Reading database ... 122518 files and directories currently installed.)\n",
            "Preparing to unpack .../0-libfontenc1_1%3a1.1.4-0ubuntu1_amd64.deb ...\n",
            "Unpacking libfontenc1:amd64 (1:1.1.4-0ubuntu1) ...\n",
            "Selecting previously unselected package libxcb-xv0:amd64.\n",
            "Preparing to unpack .../1-libxcb-xv0_1.14-2_amd64.deb ...\n",
            "Unpacking libxcb-xv0:amd64 (1.14-2) ...\n",
            "Selecting previously unselected package libxfont2:amd64.\n",
            "Preparing to unpack .../2-libxfont2_1%3a2.0.3-1_amd64.deb ...\n",
            "Unpacking libxfont2:amd64 (1:2.0.3-1) ...\n",
            "Selecting previously unselected package libxkbfile1:amd64.\n",
            "Preparing to unpack .../3-libxkbfile1_1%3a1.1.0-1_amd64.deb ...\n",
            "Unpacking libxkbfile1:amd64 (1:1.1.0-1) ...\n",
            "Selecting previously unselected package x11-xkb-utils.\n",
            "Preparing to unpack .../4-x11-xkb-utils_7.7+5_amd64.deb ...\n",
            "Unpacking x11-xkb-utils (7.7+5) ...\n",
            "Selecting previously unselected package xfonts-encodings.\n",
            "Preparing to unpack .../5-xfonts-encodings_1%3a1.0.5-0ubuntu1_all.deb ...\n",
            "Unpacking xfonts-encodings (1:1.0.5-0ubuntu1) ...\n",
            "Selecting previously unselected package xfonts-utils.\n",
            "Preparing to unpack .../6-xfonts-utils_1%3a7.7+6_amd64.deb ...\n",
            "Unpacking xfonts-utils (1:7.7+6) ...\n",
            "Selecting previously unselected package xfonts-base.\n",
            "Preparing to unpack .../7-xfonts-base_1%3a1.0.5_all.deb ...\n",
            "Unpacking xfonts-base (1:1.0.5) ...\n",
            "Selecting previously unselected package xserver-common.\n",
            "Preparing to unpack .../8-xserver-common_2%3a1.20.13-1ubuntu1~20.04.8_all.deb ...\n",
            "Unpacking xserver-common (2:1.20.13-1ubuntu1~20.04.8) ...\n",
            "Selecting previously unselected package xserver-xephyr.\n",
            "Preparing to unpack .../9-xserver-xephyr_2%3a1.20.13-1ubuntu1~20.04.8_amd64.deb ...\n",
            "Unpacking xserver-xephyr (2:1.20.13-1ubuntu1~20.04.8) ...\n",
            "Setting up libfontenc1:amd64 (1:1.1.4-0ubuntu1) ...\n",
            "Setting up xfonts-encodings (1:1.0.5-0ubuntu1) ...\n",
            "Setting up libxcb-xv0:amd64 (1.14-2) ...\n",
            "Setting up libxkbfile1:amd64 (1:1.1.0-1) ...\n",
            "Setting up libxfont2:amd64 (1:2.0.3-1) ...\n",
            "Setting up x11-xkb-utils (7.7+5) ...\n",
            "Setting up xfonts-utils (1:7.7+6) ...\n",
            "Setting up xfonts-base (1:1.0.5) ...\n",
            "Setting up xserver-common (2:1.20.13-1ubuntu1~20.04.8) ...\n",
            "Setting up xserver-xephyr (2:1.20.13-1ubuntu1~20.04.8) ...\n",
            "Processing triggers for libc-bin (2.31-0ubuntu9.9) ...\n",
            "Processing triggers for man-db (2.9.1-1) ...\n",
            "Processing triggers for fontconfig (2.13.1-2ubuntu3) ...\n"
          ]
        }
      ]
    },
    {
      "cell_type": "code",
      "source": [
        "!apt install -y xvfb python-opengl \n",
        "!pip install gym pyvirtualdisplay \n"
      ],
      "metadata": {
        "colab": {
          "base_uri": "https://localhost:8080/"
        },
        "id": "zaMpXfle-ceZ",
        "outputId": "02f0ec41-cf3e-46ae-92ba-fbfae708ea5c"
      },
      "execution_count": 5,
      "outputs": [
        {
          "output_type": "stream",
          "name": "stdout",
          "text": [
            "Reading package lists... Done\n",
            "Building dependency tree       \n",
            "Reading state information... Done\n",
            "The following additional packages will be installed:\n",
            "  freeglut3 libpython2-stdlib python2 python2-minimal\n",
            "Suggested packages:\n",
            "  python-tk python-numpy libgle3 python2-doc\n",
            "The following NEW packages will be installed:\n",
            "  freeglut3 libpython2-stdlib python-opengl python2 python2-minimal xvfb\n",
            "0 upgraded, 6 newly installed, 0 to remove and 24 not upgraded.\n",
            "Need to get 1,401 kB of archives.\n",
            "After this operation, 8,330 kB of additional disk space will be used.\n",
            "Get:1 http://archive.ubuntu.com/ubuntu focal/universe amd64 python2-minimal amd64 2.7.17-2ubuntu4 [27.5 kB]\n",
            "Get:2 http://archive.ubuntu.com/ubuntu focal/universe amd64 libpython2-stdlib amd64 2.7.17-2ubuntu4 [7,072 B]\n",
            "Get:3 http://archive.ubuntu.com/ubuntu focal/universe amd64 python2 amd64 2.7.17-2ubuntu4 [26.5 kB]\n",
            "Get:4 http://archive.ubuntu.com/ubuntu focal/universe amd64 freeglut3 amd64 2.8.1-3 [73.6 kB]\n",
            "Get:5 http://archive.ubuntu.com/ubuntu focal/universe amd64 python-opengl all 3.1.0+dfsg-2build1 [486 kB]\n",
            "Get:6 http://archive.ubuntu.com/ubuntu focal-updates/universe amd64 xvfb amd64 2:1.20.13-1ubuntu1~20.04.8 [780 kB]\n",
            "Fetched 1,401 kB in 1s (1,696 kB/s)\n",
            "Selecting previously unselected package python2-minimal.\n",
            "(Reading database ... 123085 files and directories currently installed.)\n",
            "Preparing to unpack .../python2-minimal_2.7.17-2ubuntu4_amd64.deb ...\n",
            "Unpacking python2-minimal (2.7.17-2ubuntu4) ...\n",
            "Selecting previously unselected package libpython2-stdlib:amd64.\n",
            "Preparing to unpack .../libpython2-stdlib_2.7.17-2ubuntu4_amd64.deb ...\n",
            "Unpacking libpython2-stdlib:amd64 (2.7.17-2ubuntu4) ...\n",
            "Setting up python2-minimal (2.7.17-2ubuntu4) ...\n",
            "Selecting previously unselected package python2.\n",
            "(Reading database ... 123114 files and directories currently installed.)\n",
            "Preparing to unpack .../python2_2.7.17-2ubuntu4_amd64.deb ...\n",
            "Unpacking python2 (2.7.17-2ubuntu4) ...\n",
            "Selecting previously unselected package freeglut3:amd64.\n",
            "Preparing to unpack .../freeglut3_2.8.1-3_amd64.deb ...\n",
            "Unpacking freeglut3:amd64 (2.8.1-3) ...\n",
            "Selecting previously unselected package python-opengl.\n",
            "Preparing to unpack .../python-opengl_3.1.0+dfsg-2build1_all.deb ...\n",
            "Unpacking python-opengl (3.1.0+dfsg-2build1) ...\n",
            "Selecting previously unselected package xvfb.\n",
            "Preparing to unpack .../xvfb_2%3a1.20.13-1ubuntu1~20.04.8_amd64.deb ...\n",
            "Unpacking xvfb (2:1.20.13-1ubuntu1~20.04.8) ...\n",
            "Setting up freeglut3:amd64 (2.8.1-3) ...\n",
            "Setting up libpython2-stdlib:amd64 (2.7.17-2ubuntu4) ...\n",
            "Setting up xvfb (2:1.20.13-1ubuntu1~20.04.8) ...\n",
            "Setting up python2 (2.7.17-2ubuntu4) ...\n",
            "Setting up python-opengl (3.1.0+dfsg-2build1) ...\n",
            "Processing triggers for man-db (2.9.1-1) ...\n",
            "Processing triggers for libc-bin (2.31-0ubuntu9.9) ...\n",
            "Looking in indexes: https://pypi.org/simple, https://us-python.pkg.dev/colab-wheels/public/simple/\n",
            "Requirement already satisfied: gym in /usr/local/lib/python3.10/dist-packages (0.25.2)\n",
            "Collecting pyvirtualdisplay\n",
            "  Downloading PyVirtualDisplay-3.0-py3-none-any.whl (15 kB)\n",
            "Requirement already satisfied: numpy>=1.18.0 in /usr/local/lib/python3.10/dist-packages (from gym) (1.22.4)\n",
            "Requirement already satisfied: cloudpickle>=1.2.0 in /usr/local/lib/python3.10/dist-packages (from gym) (2.2.1)\n",
            "Requirement already satisfied: gym-notices>=0.0.4 in /usr/local/lib/python3.10/dist-packages (from gym) (0.0.8)\n",
            "Installing collected packages: pyvirtualdisplay\n",
            "Successfully installed pyvirtualdisplay-3.0\n"
          ]
        }
      ]
    },
    {
      "cell_type": "code",
      "source": [
        "#Setting up a virtual display using PyVirtualDisplay and IPython\n",
        "from pyvirtualdisplay import Display\n",
        "from IPython import display\n",
        "virtual_display = Display(visible=0, size=(1400, 900))\n",
        "virtual_display.start()"
      ],
      "metadata": {
        "colab": {
          "base_uri": "https://localhost:8080/"
        },
        "id": "76KQmH5r-fCS",
        "outputId": "d324be3f-b59e-4580-ad2f-f51448ee7a83"
      },
      "execution_count": 6,
      "outputs": [
        {
          "output_type": "execute_result",
          "data": {
            "text/plain": [
              "<pyvirtualdisplay.display.Display at 0x7f88d48e7640>"
            ]
          },
          "metadata": {},
          "execution_count": 6
        }
      ]
    },
    {
      "cell_type": "code",
      "source": [
        "#Importing necessary modules from the pyRDDLGym package\n",
        "\n",
        "from pyRDDLGym import RDDLEnv\n",
        "from pyRDDLGym import ExampleManager\n"
      ],
      "metadata": {
        "colab": {
          "base_uri": "https://localhost:8080/"
        },
        "id": "9lwyljad-ly1",
        "outputId": "7eff9160-b76c-48f6-d651-d0f073fb4c97"
      },
      "execution_count": 7,
      "outputs": [
        {
          "output_type": "stream",
          "name": "stderr",
          "text": [
            "/content/pyRDDLGym/pyRDDLGym/Examples/ExampleManager.py:90: DeprecationWarning: invalid escape sequence '\\d'\n",
            "  x = re.search(\"instance\\d+.*\", file)\n"
          ]
        }
      ]
    },
    {
      "cell_type": "code",
      "source": [
        "ENV = \"UAV continuous\"        #ENV-->string name of the desired example environment\n",
        "EnvInfo = ExampleManager.GetEnvInfo(ENV)"
      ],
      "metadata": {
        "colab": {
          "base_uri": "https://localhost:8080/"
        },
        "id": "8W-Tc92B-oJ3",
        "outputId": "c3eb2d8e-c0da-4445-a57f-9f535bab37eb"
      },
      "execution_count": 8,
      "outputs": [
        {
          "output_type": "stream",
          "name": "stdout",
          "text": [
            "/content/pyRDDLGym/pyRDDLGym/Examples /content/pyRDDLGym/pyRDDLGym/Examples/manifest.csv\n",
            "Available example environment(s):\n",
            "Elevators -> The Elevator domain models evening rush hours when people from different floors in a building want to go down to the bottom floor using elevators.\n",
            "CartPole discrete -> A simple continuous state MDP for the classical cart-pole system by Rich Sutton, with discrete actions that apply a constant force on either the left or right side of the cart.\n",
            "CartPole continuous -> A simple continuous state-action MDP for the classical cart-pole system by Rich Sutton, with actions that describe the continuous force applied to the cart.\n",
            "Wildfire -> A boolean version of the wildfire fighting domain.\n",
            "Traffic -> BLX/QTM traffic model.\n",
            "Reservoir discrete -> Discrete version of management of the water level in interconnected reservoirs.\n",
            "Reservoir continuous -> Continuous action version of management of the water level in interconnected reservoirs.\n",
            "UAV mixed -> Mixed action space version of multi-UAV problem where a group of UAVs have to reach goal positions in the 3d Space.\n",
            "UAV discrete -> Discrete action space version of multi-UAV problem where a group of UAVs have to reach goal positions in the 3d Space.\n",
            "UAV continuous -> Continuous action space version of multi-UAV problem where a group of UAVs have to reach goal positions in the 3d Space.\n",
            "MountainCar -> A simple continuous MDP for the classical mountain car control problem.\n",
            "SupplyChain -> A supply chain with factory and multiple warehouses.\n",
            "RaceCar -> A simple continuous MDP for the racecar problem.\n",
            "PowerGen discrete -> A simple power generation problem loosely modeled on the problem of unit commitment.\n",
            "PowerGen continuous -> A continuous simple power generation problem loosely modeled on the problem of unit commitment.\n",
            "NewLanguage -> Example with new language features.\n",
            "NewtonZero -> Example with Newton root-finding method.\n",
            "MarsRover -> Multi Rover Navigation, where a group of agent needs to harvest mineral.\n",
            "SupplyChainNet -> A supply chain network with factory and multiple warehouses.\n",
            "HVAC -> Multi-zone and multi-heater HVAC control problem\n",
            "PropDBN -> Simple propositional DBN.\n",
            "RecSim -> A problem of recommendation systems, with consumers and providers.\n"
          ]
        },
        {
          "output_type": "stream",
          "name": "stderr",
          "text": [
            "/usr/local/lib/python3.10/dist-packages/ipykernel/ipkernel.py:283: DeprecationWarning: `should_run_async` will not call `transform_cell` automatically in the future. Please pass the result to `transformed_cell` argument and any exception that happen during thetransform in `preprocessing_exc_tuple` in IPython 7.17 and above.\n",
            "  and should_run_async(code)\n"
          ]
        }
      ]
    },
    {
      "cell_type": "code",
      "source": [
        "#Creating Environment\n",
        "myEnv = RDDLEnv.RDDLEnv(domain=\"/content/pyRDDLGym/pyRDDLGym/Examples/UAV/Continuous/domain.rddl\", instance=\"/content/pyRDDLGym/pyRDDLGym/Examples/UAV/Continuous/instance0.rddl\")"
      ],
      "metadata": {
        "colab": {
          "base_uri": "https://localhost:8080/"
        },
        "id": "i81YSrPp-sV3",
        "outputId": "65585531-25ed-47fb-b10d-4f916e9e337f"
      },
      "execution_count": 9,
      "outputs": [
        {
          "output_type": "stream",
          "name": "stderr",
          "text": [
            "WARNING: Token 'DOLLAR_SIGN' defined, but not used\n",
            "WARNING: Token 'DOT' defined, but not used\n",
            "WARNING: Token 'QUESTION' defined, but not used\n",
            "WARNING: Token 'TERMINAL' defined, but not used\n",
            "WARNING: There are 4 unused tokens\n",
            "Generating LALR tables\n",
            "WARNING: 1 shift/reduce conflict\n",
            "WARNING: 6 reduce/reduce conflicts\n",
            "WARNING: reduce/reduce conflict in state 348 resolved using rule (term -> VAR)\n",
            "WARNING: rejected rule (pvar_expr -> VAR) in state 348\n",
            "WARNING: reduce/reduce conflict in state 349 resolved using rule (term -> ENUM_VAL)\n",
            "WARNING: rejected rule (pvar_expr -> ENUM_VAL) in state 349\n"
          ]
        }
      ]
    },
    {
      "cell_type": "code",
      "source": [
        "#Action Space\n",
        "print(f\"Action Space: {myEnv.action_space}\")"
      ],
      "metadata": {
        "colab": {
          "base_uri": "https://localhost:8080/"
        },
        "id": "WWmmZJgR-x4X",
        "outputId": "5ff03e22-1948-4c2e-eec3-bc9a18ec385a"
      },
      "execution_count": 10,
      "outputs": [
        {
          "output_type": "stream",
          "name": "stdout",
          "text": [
            "Action Space: Dict('set-acc___a1': Box(-1.0, 1.0, (1,), float32), 'set-phi___a1': Box(-1.0, 1.0, (1,), float32), 'set-theta___a1': Box(-1.0, 1.0, (1,), float32))\n"
          ]
        }
      ]
    },
    {
      "cell_type": "code",
      "source": [
        "#Observation Space\n",
        "print(f\"Observation Space: {myEnv.observation_space}\")"
      ],
      "metadata": {
        "colab": {
          "base_uri": "https://localhost:8080/"
        },
        "id": "KS-MHW_0-2SW",
        "outputId": "3fd425de-30a2-46ea-cca3-e45ee533e1d4"
      },
      "execution_count": 11,
      "outputs": [
        {
          "output_type": "stream",
          "name": "stdout",
          "text": [
            "Observation Space: Dict('pos-x___a1': Box(-50000.0, 500000.0, (1,), float32), 'pos-y___a1': Box(-500000.0, 500000.0, (1,), float32), 'pos-z___a1': Box(-50000.0, 50000.0, (1,), float32), 'theta___a1': Box(-inf, inf, (1,), float32), 'phi___a1': Box(-inf, inf, (1,), float32), 'psi___a1': Box(-inf, inf, (1,), float32), 'vel___a1': Box(-inf, inf, (1,), float32))\n"
          ]
        }
      ]
    },
    {
      "cell_type": "code",
      "source": [
        "#Listing all the available instances of the problem\n",
        "EnvInfo.list_instances()"
      ],
      "metadata": {
        "colab": {
          "base_uri": "https://localhost:8080/"
        },
        "id": "wlqDPsEh-4yi",
        "outputId": "93f6521f-065e-4dcd-8a44-af52db1007c1"
      },
      "execution_count": 12,
      "outputs": [
        {
          "output_type": "execute_result",
          "data": {
            "text/plain": [
              "['instance0.rddl', 'instance1.rddl']"
            ]
          },
          "metadata": {},
          "execution_count": 12
        }
      ]
    },
    {
      "cell_type": "code",
      "source": [
        "from pyRDDLGym.Policies.Agents import RandomAgent\n"
      ],
      "metadata": {
        "id": "qZSGycuX-9Ox"
      },
      "execution_count": 13,
      "outputs": []
    },
    {
      "cell_type": "code",
      "source": [
        "# set up an aget\n",
        "agent = RandomAgent(action_space=myEnv.action_space, num_actions=myEnv.numConcurrentActions)"
      ],
      "metadata": {
        "id": "lR0JRBil_Mg4"
      },
      "execution_count": 14,
      "outputs": []
    },
    {
      "cell_type": "code",
      "source": [
        "print(f\"Maximum number of time steps that the agent will take in the environment before the episode is terminated: {myEnv.horizon}\")"
      ],
      "metadata": {
        "colab": {
          "base_uri": "https://localhost:8080/"
        },
        "id": "gMT5TIGg_SIr",
        "outputId": "160c9844-a435-403f-d477-1beff41effc6"
      },
      "execution_count": 15,
      "outputs": [
        {
          "output_type": "stream",
          "name": "stdout",
          "text": [
            "Maximum number of time steps that the agent will take in the environment before the episode is terminated: 300\n"
          ]
        }
      ]
    },
    {
      "cell_type": "code",
      "source": [
        "import matplotlib.pyplot as plt\n",
        "%matplotlib inline\n",
        "\n",
        "total_reward = 0\n",
        "state = myEnv.reset()\n",
        "img = plt.imshow(myEnv.render('rgb_array'))\n",
        "\n",
        "#Agent-Environment Loop\n",
        "for _ in range(myEnv.horizon):\n",
        "      myEnv.render()\n",
        "      next_state, reward, done, info = myEnv.step(agent.sample_action())\n",
        "      total_reward += reward\n",
        "      state = next_state\n",
        "\n",
        "      img.set_data(myEnv.render('rgb_array')) # just update the data\n",
        "      plt.axis('off')\n",
        "      plt.show()\n",
        "      \n",
        "      if done:\n",
        "            break\n",
        "            \n",
        "myEnv.close()"
      ],
      "metadata": {
        "id": "LTMRy_OJPxhK"
      },
      "execution_count": null,
      "outputs": []
    },
    {
      "cell_type": "markdown",
      "source": [
        "![image.png](data:image/png;base64,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)"
      ],
      "metadata": {
        "id": "rqcwc66nPs5g"
      }
    },
    {
      "cell_type": "code",
      "source": [],
      "metadata": {
        "id": "oUbDe88NPLvy"
      },
      "execution_count": null,
      "outputs": []
    }
  ]
}