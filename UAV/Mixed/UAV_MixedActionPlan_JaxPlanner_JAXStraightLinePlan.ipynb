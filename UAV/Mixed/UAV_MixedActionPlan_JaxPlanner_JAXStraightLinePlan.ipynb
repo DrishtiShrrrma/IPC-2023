{
  "nbformat": 4,
  "nbformat_minor": 0,
  "metadata": {
    "colab": {
      "provenance": []
    },
    "kernelspec": {
      "name": "python3",
      "display_name": "Python 3"
    },
    "language_info": {
      "name": "python"
    }
  },
  "cells": [
    {
      "cell_type": "markdown",
      "source": [
        "#Cloning the pyRDDLGym repository to obtain the pyRDDLGym infrstructure"
      ],
      "metadata": {
        "id": "3P-VZ-R58hKQ"
      }
    },
    {
      "cell_type": "code",
      "execution_count": 1,
      "metadata": {
        "colab": {
          "base_uri": "https://localhost:8080/"
        },
        "id": "oXxyKhVL8ewW",
        "outputId": "0b077a78-0fec-405e-ff29-67095853beb1"
      },
      "outputs": [
        {
          "output_type": "stream",
          "name": "stdout",
          "text": [
            "Cloning into 'pyRDDLGym'...\n",
            "remote: Enumerating objects: 9562, done.\u001b[K\n",
            "remote: Counting objects: 100% (161/161), done.\u001b[K\n",
            "remote: Compressing objects: 100% (107/107), done.\u001b[K\n",
            "remote: Total 9562 (delta 106), reused 96 (delta 54), pack-reused 9401\u001b[K\n",
            "Receiving objects: 100% (9562/9562), 7.35 MiB | 7.62 MiB/s, done.\n",
            "Resolving deltas: 100% (6430/6430), done.\n"
          ]
        }
      ],
      "source": [
        "!git clone https://github.com/ataitler/pyRDDLGym.git"
      ]
    },
    {
      "cell_type": "markdown",
      "source": [
        "#Initializing environment in pyRDDLGym"
      ],
      "metadata": {
        "id": "63RLo6Lc9uYp"
      }
    },
    {
      "cell_type": "code",
      "source": [
        "#Changing the working directory to the \"pyRDDLGym\" directory\n",
        "%cd /content/pyRDDLGym"
      ],
      "metadata": {
        "colab": {
          "base_uri": "https://localhost:8080/"
        },
        "id": "un8yAzmw8v8R",
        "outputId": "424401a0-fcaf-4c83-d26d-41cff9b5e850"
      },
      "execution_count": 2,
      "outputs": [
        {
          "output_type": "stream",
          "name": "stdout",
          "text": [
            "/content/pyRDDLGym\n"
          ]
        }
      ]
    },
    {
      "cell_type": "code",
      "source": [
        "#Installing requirements_jax.txt\n",
        "!pip install -r requirements_jax.txt"
      ],
      "metadata": {
        "colab": {
          "base_uri": "https://localhost:8080/",
          "height": 1000
        },
        "id": "fkMLItNG93SZ",
        "outputId": "ff3bd479-af16-4c80-dc2f-c2115d6272a3"
      },
      "execution_count": 3,
      "outputs": [
        {
          "output_type": "stream",
          "name": "stdout",
          "text": [
            "Looking in indexes: https://pypi.org/simple, https://us-python.pkg.dev/colab-wheels/public/simple/\n",
            "Requirement already satisfied: matplotlib>=3.5.0 in /usr/local/lib/python3.10/dist-packages (from -r requirements_jax.txt (line 1)) (3.7.1)\n",
            "Collecting pillow>=9.2.0 (from -r requirements_jax.txt (line 2))\n",
            "  Downloading Pillow-9.5.0-cp310-cp310-manylinux_2_28_x86_64.whl (3.4 MB)\n",
            "\u001b[2K     \u001b[90m━━━━━━━━━━━━━━━━━━━━━━━━━━━━━━━━━━━━━━━━\u001b[0m \u001b[32m3.4/3.4 MB\u001b[0m \u001b[31m36.1 MB/s\u001b[0m eta \u001b[36m0:00:00\u001b[0m\n",
            "\u001b[?25hRequirement already satisfied: gym>=0.24.0 in /usr/local/lib/python3.10/dist-packages (from -r requirements_jax.txt (line 3)) (0.25.2)\n",
            "Requirement already satisfied: numpy in /usr/local/lib/python3.10/dist-packages (from -r requirements_jax.txt (line 4)) (1.22.4)\n",
            "Requirement already satisfied: pygame in /usr/local/lib/python3.10/dist-packages (from -r requirements_jax.txt (line 5)) (2.3.0)\n",
            "Collecting ply (from -r requirements_jax.txt (line 6))\n",
            "  Downloading ply-3.11-py2.py3-none-any.whl (49 kB)\n",
            "\u001b[2K     \u001b[90m━━━━━━━━━━━━━━━━━━━━━━━━━━━━━━━━━━━━━━━━\u001b[0m \u001b[32m49.6/49.6 kB\u001b[0m \u001b[31m6.3 MB/s\u001b[0m eta \u001b[36m0:00:00\u001b[0m\n",
            "\u001b[?25hRequirement already satisfied: jax>=0.3.25 in /usr/local/lib/python3.10/dist-packages (from -r requirements_jax.txt (line 7)) (0.4.8)\n",
            "Requirement already satisfied: optax>=0.1.4 in /usr/local/lib/python3.10/dist-packages (from -r requirements_jax.txt (line 8)) (0.1.5)\n",
            "Collecting dm-haiku>=0.0.9 (from -r requirements_jax.txt (line 9))\n",
            "  Downloading dm_haiku-0.0.9-py3-none-any.whl (352 kB)\n",
            "\u001b[2K     \u001b[90m━━━━━━━━━━━━━━━━━━━━━━━━━━━━━━━━━━━━━━\u001b[0m \u001b[32m352.1/352.1 kB\u001b[0m \u001b[31m31.3 MB/s\u001b[0m eta \u001b[36m0:00:00\u001b[0m\n",
            "\u001b[?25hRequirement already satisfied: tensorflow>=2.11.0 in /usr/local/lib/python3.10/dist-packages (from -r requirements_jax.txt (line 10)) (2.12.0)\n",
            "Requirement already satisfied: tensorflow-probability>=0.19.0 in /usr/local/lib/python3.10/dist-packages (from -r requirements_jax.txt (line 11)) (0.19.0)\n",
            "Requirement already satisfied: contourpy>=1.0.1 in /usr/local/lib/python3.10/dist-packages (from matplotlib>=3.5.0->-r requirements_jax.txt (line 1)) (1.0.7)\n",
            "Requirement already satisfied: cycler>=0.10 in /usr/local/lib/python3.10/dist-packages (from matplotlib>=3.5.0->-r requirements_jax.txt (line 1)) (0.11.0)\n",
            "Requirement already satisfied: fonttools>=4.22.0 in /usr/local/lib/python3.10/dist-packages (from matplotlib>=3.5.0->-r requirements_jax.txt (line 1)) (4.39.3)\n",
            "Requirement already satisfied: kiwisolver>=1.0.1 in /usr/local/lib/python3.10/dist-packages (from matplotlib>=3.5.0->-r requirements_jax.txt (line 1)) (1.4.4)\n",
            "Requirement already satisfied: packaging>=20.0 in /usr/local/lib/python3.10/dist-packages (from matplotlib>=3.5.0->-r requirements_jax.txt (line 1)) (23.1)\n",
            "Requirement already satisfied: pyparsing>=2.3.1 in /usr/local/lib/python3.10/dist-packages (from matplotlib>=3.5.0->-r requirements_jax.txt (line 1)) (3.0.9)\n",
            "Requirement already satisfied: python-dateutil>=2.7 in /usr/local/lib/python3.10/dist-packages (from matplotlib>=3.5.0->-r requirements_jax.txt (line 1)) (2.8.2)\n",
            "Requirement already satisfied: cloudpickle>=1.2.0 in /usr/local/lib/python3.10/dist-packages (from gym>=0.24.0->-r requirements_jax.txt (line 3)) (2.2.1)\n",
            "Requirement already satisfied: gym-notices>=0.0.4 in /usr/local/lib/python3.10/dist-packages (from gym>=0.24.0->-r requirements_jax.txt (line 3)) (0.0.8)\n",
            "Requirement already satisfied: ml-dtypes>=0.0.3 in /usr/local/lib/python3.10/dist-packages (from jax>=0.3.25->-r requirements_jax.txt (line 7)) (0.1.0)\n",
            "Requirement already satisfied: opt-einsum in /usr/local/lib/python3.10/dist-packages (from jax>=0.3.25->-r requirements_jax.txt (line 7)) (3.3.0)\n",
            "Requirement already satisfied: scipy>=1.7 in /usr/local/lib/python3.10/dist-packages (from jax>=0.3.25->-r requirements_jax.txt (line 7)) (1.10.1)\n",
            "Requirement already satisfied: absl-py>=0.7.1 in /usr/local/lib/python3.10/dist-packages (from optax>=0.1.4->-r requirements_jax.txt (line 8)) (1.4.0)\n",
            "Requirement already satisfied: chex>=0.1.5 in /usr/local/lib/python3.10/dist-packages (from optax>=0.1.4->-r requirements_jax.txt (line 8)) (0.1.7)\n",
            "Requirement already satisfied: jaxlib>=0.1.37 in /usr/local/lib/python3.10/dist-packages (from optax>=0.1.4->-r requirements_jax.txt (line 8)) (0.4.7+cuda11.cudnn86)\n",
            "Collecting jmp>=0.0.2 (from dm-haiku>=0.0.9->-r requirements_jax.txt (line 9))\n",
            "  Downloading jmp-0.0.4-py3-none-any.whl (18 kB)\n",
            "Requirement already satisfied: tabulate>=0.8.9 in /usr/local/lib/python3.10/dist-packages (from dm-haiku>=0.0.9->-r requirements_jax.txt (line 9)) (0.8.10)\n",
            "Requirement already satisfied: astunparse>=1.6.0 in /usr/local/lib/python3.10/dist-packages (from tensorflow>=2.11.0->-r requirements_jax.txt (line 10)) (1.6.3)\n",
            "Requirement already satisfied: flatbuffers>=2.0 in /usr/local/lib/python3.10/dist-packages (from tensorflow>=2.11.0->-r requirements_jax.txt (line 10)) (23.3.3)\n",
            "Requirement already satisfied: gast<=0.4.0,>=0.2.1 in /usr/local/lib/python3.10/dist-packages (from tensorflow>=2.11.0->-r requirements_jax.txt (line 10)) (0.4.0)\n",
            "Requirement already satisfied: google-pasta>=0.1.1 in /usr/local/lib/python3.10/dist-packages (from tensorflow>=2.11.0->-r requirements_jax.txt (line 10)) (0.2.0)\n",
            "Requirement already satisfied: grpcio<2.0,>=1.24.3 in /usr/local/lib/python3.10/dist-packages (from tensorflow>=2.11.0->-r requirements_jax.txt (line 10)) (1.54.0)\n",
            "Requirement already satisfied: h5py>=2.9.0 in /usr/local/lib/python3.10/dist-packages (from tensorflow>=2.11.0->-r requirements_jax.txt (line 10)) (3.8.0)\n",
            "Requirement already satisfied: keras<2.13,>=2.12.0 in /usr/local/lib/python3.10/dist-packages (from tensorflow>=2.11.0->-r requirements_jax.txt (line 10)) (2.12.0)\n",
            "Requirement already satisfied: libclang>=13.0.0 in /usr/local/lib/python3.10/dist-packages (from tensorflow>=2.11.0->-r requirements_jax.txt (line 10)) (16.0.0)\n",
            "Requirement already satisfied: protobuf!=4.21.0,!=4.21.1,!=4.21.2,!=4.21.3,!=4.21.4,!=4.21.5,<5.0.0dev,>=3.20.3 in /usr/local/lib/python3.10/dist-packages (from tensorflow>=2.11.0->-r requirements_jax.txt (line 10)) (3.20.3)\n",
            "Requirement already satisfied: setuptools in /usr/local/lib/python3.10/dist-packages (from tensorflow>=2.11.0->-r requirements_jax.txt (line 10)) (67.7.2)\n",
            "Requirement already satisfied: six>=1.12.0 in /usr/local/lib/python3.10/dist-packages (from tensorflow>=2.11.0->-r requirements_jax.txt (line 10)) (1.16.0)\n",
            "Requirement already satisfied: tensorboard<2.13,>=2.12 in /usr/local/lib/python3.10/dist-packages (from tensorflow>=2.11.0->-r requirements_jax.txt (line 10)) (2.12.2)\n",
            "Requirement already satisfied: tensorflow-estimator<2.13,>=2.12.0 in /usr/local/lib/python3.10/dist-packages (from tensorflow>=2.11.0->-r requirements_jax.txt (line 10)) (2.12.0)\n",
            "Requirement already satisfied: termcolor>=1.1.0 in /usr/local/lib/python3.10/dist-packages (from tensorflow>=2.11.0->-r requirements_jax.txt (line 10)) (2.3.0)\n",
            "Requirement already satisfied: typing-extensions>=3.6.6 in /usr/local/lib/python3.10/dist-packages (from tensorflow>=2.11.0->-r requirements_jax.txt (line 10)) (4.5.0)\n",
            "Requirement already satisfied: wrapt<1.15,>=1.11.0 in /usr/local/lib/python3.10/dist-packages (from tensorflow>=2.11.0->-r requirements_jax.txt (line 10)) (1.14.1)\n",
            "Requirement already satisfied: tensorflow-io-gcs-filesystem>=0.23.1 in /usr/local/lib/python3.10/dist-packages (from tensorflow>=2.11.0->-r requirements_jax.txt (line 10)) (0.32.0)\n",
            "Requirement already satisfied: decorator in /usr/local/lib/python3.10/dist-packages (from tensorflow-probability>=0.19.0->-r requirements_jax.txt (line 11)) (4.4.2)\n",
            "Requirement already satisfied: dm-tree in /usr/local/lib/python3.10/dist-packages (from tensorflow-probability>=0.19.0->-r requirements_jax.txt (line 11)) (0.1.8)\n",
            "Requirement already satisfied: wheel<1.0,>=0.23.0 in /usr/local/lib/python3.10/dist-packages (from astunparse>=1.6.0->tensorflow>=2.11.0->-r requirements_jax.txt (line 10)) (0.40.0)\n",
            "Requirement already satisfied: toolz>=0.9.0 in /usr/local/lib/python3.10/dist-packages (from chex>=0.1.5->optax>=0.1.4->-r requirements_jax.txt (line 8)) (0.12.0)\n",
            "Requirement already satisfied: google-auth<3,>=1.6.3 in /usr/local/lib/python3.10/dist-packages (from tensorboard<2.13,>=2.12->tensorflow>=2.11.0->-r requirements_jax.txt (line 10)) (2.17.3)\n",
            "Requirement already satisfied: google-auth-oauthlib<1.1,>=0.5 in /usr/local/lib/python3.10/dist-packages (from tensorboard<2.13,>=2.12->tensorflow>=2.11.0->-r requirements_jax.txt (line 10)) (1.0.0)\n",
            "Requirement already satisfied: markdown>=2.6.8 in /usr/local/lib/python3.10/dist-packages (from tensorboard<2.13,>=2.12->tensorflow>=2.11.0->-r requirements_jax.txt (line 10)) (3.4.3)\n",
            "Requirement already satisfied: requests<3,>=2.21.0 in /usr/local/lib/python3.10/dist-packages (from tensorboard<2.13,>=2.12->tensorflow>=2.11.0->-r requirements_jax.txt (line 10)) (2.27.1)\n",
            "Requirement already satisfied: tensorboard-data-server<0.8.0,>=0.7.0 in /usr/local/lib/python3.10/dist-packages (from tensorboard<2.13,>=2.12->tensorflow>=2.11.0->-r requirements_jax.txt (line 10)) (0.7.0)\n",
            "Requirement already satisfied: tensorboard-plugin-wit>=1.6.0 in /usr/local/lib/python3.10/dist-packages (from tensorboard<2.13,>=2.12->tensorflow>=2.11.0->-r requirements_jax.txt (line 10)) (1.8.1)\n",
            "Requirement already satisfied: werkzeug>=1.0.1 in /usr/local/lib/python3.10/dist-packages (from tensorboard<2.13,>=2.12->tensorflow>=2.11.0->-r requirements_jax.txt (line 10)) (2.3.0)\n",
            "Requirement already satisfied: cachetools<6.0,>=2.0.0 in /usr/local/lib/python3.10/dist-packages (from google-auth<3,>=1.6.3->tensorboard<2.13,>=2.12->tensorflow>=2.11.0->-r requirements_jax.txt (line 10)) (5.3.0)\n",
            "Requirement already satisfied: pyasn1-modules>=0.2.1 in /usr/local/lib/python3.10/dist-packages (from google-auth<3,>=1.6.3->tensorboard<2.13,>=2.12->tensorflow>=2.11.0->-r requirements_jax.txt (line 10)) (0.3.0)\n",
            "Requirement already satisfied: rsa<5,>=3.1.4 in /usr/local/lib/python3.10/dist-packages (from google-auth<3,>=1.6.3->tensorboard<2.13,>=2.12->tensorflow>=2.11.0->-r requirements_jax.txt (line 10)) (4.9)\n",
            "Requirement already satisfied: requests-oauthlib>=0.7.0 in /usr/local/lib/python3.10/dist-packages (from google-auth-oauthlib<1.1,>=0.5->tensorboard<2.13,>=2.12->tensorflow>=2.11.0->-r requirements_jax.txt (line 10)) (1.3.1)\n",
            "Requirement already satisfied: urllib3<1.27,>=1.21.1 in /usr/local/lib/python3.10/dist-packages (from requests<3,>=2.21.0->tensorboard<2.13,>=2.12->tensorflow>=2.11.0->-r requirements_jax.txt (line 10)) (1.26.15)\n",
            "Requirement already satisfied: certifi>=2017.4.17 in /usr/local/lib/python3.10/dist-packages (from requests<3,>=2.21.0->tensorboard<2.13,>=2.12->tensorflow>=2.11.0->-r requirements_jax.txt (line 10)) (2022.12.7)\n",
            "Requirement already satisfied: charset-normalizer~=2.0.0 in /usr/local/lib/python3.10/dist-packages (from requests<3,>=2.21.0->tensorboard<2.13,>=2.12->tensorflow>=2.11.0->-r requirements_jax.txt (line 10)) (2.0.12)\n",
            "Requirement already satisfied: idna<4,>=2.5 in /usr/local/lib/python3.10/dist-packages (from requests<3,>=2.21.0->tensorboard<2.13,>=2.12->tensorflow>=2.11.0->-r requirements_jax.txt (line 10)) (3.4)\n",
            "Requirement already satisfied: MarkupSafe>=2.1.1 in /usr/local/lib/python3.10/dist-packages (from werkzeug>=1.0.1->tensorboard<2.13,>=2.12->tensorflow>=2.11.0->-r requirements_jax.txt (line 10)) (2.1.2)\n",
            "Requirement already satisfied: pyasn1<0.6.0,>=0.4.6 in /usr/local/lib/python3.10/dist-packages (from pyasn1-modules>=0.2.1->google-auth<3,>=1.6.3->tensorboard<2.13,>=2.12->tensorflow>=2.11.0->-r requirements_jax.txt (line 10)) (0.5.0)\n",
            "Requirement already satisfied: oauthlib>=3.0.0 in /usr/local/lib/python3.10/dist-packages (from requests-oauthlib>=0.7.0->google-auth-oauthlib<1.1,>=0.5->tensorboard<2.13,>=2.12->tensorflow>=2.11.0->-r requirements_jax.txt (line 10)) (3.2.2)\n",
            "Installing collected packages: ply, pillow, jmp, dm-haiku\n",
            "  Attempting uninstall: pillow\n",
            "    Found existing installation: Pillow 8.4.0\n",
            "    Uninstalling Pillow-8.4.0:\n",
            "      Successfully uninstalled Pillow-8.4.0\n",
            "Successfully installed dm-haiku-0.0.9 jmp-0.0.4 pillow-9.5.0 ply-3.11\n"
          ]
        },
        {
          "output_type": "display_data",
          "data": {
            "application/vnd.colab-display-data+json": {
              "pip_warning": {
                "packages": [
                  "PIL"
                ]
              }
            }
          },
          "metadata": {}
        }
      ]
    },
    {
      "cell_type": "markdown",
      "source": [
        "![image.png](data:image/png;base64,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)"
      ],
      "metadata": {
        "id": "8dcKN6Zc-Kg3"
      }
    },
    {
      "cell_type": "code",
      "source": [
        "#Importing the required packages\n",
        "import jax\n",
        "import optax\n",
        "from pyRDDLGym import ExampleManager\n",
        "from pyRDDLGym import RDDLEnv\n",
        "from pyRDDLGym.Core.Jax.JaxRDDLBackpropPlanner import JaxRDDLBackpropPlanner, JaxStraightLinePlan\n",
        "\n"
      ],
      "metadata": {
        "colab": {
          "base_uri": "https://localhost:8080/"
        },
        "id": "tg_D3eaU-E2V",
        "outputId": "77350d25-c9b1-4e6b-b49a-33479d0fabc7"
      },
      "execution_count": 4,
      "outputs": [
        {
          "output_type": "stream",
          "name": "stderr",
          "text": [
            "/content/pyRDDLGym/pyRDDLGym/Examples/ExampleManager.py:90: DeprecationWarning: invalid escape sequence '\\d'\n",
            "  x = re.search(\"instance\\d+.*\", file)\n"
          ]
        }
      ]
    },
    {
      "cell_type": "code",
      "source": [
        "# specify the model\n",
        "EnvInfo = ExampleManager.GetEnvInfo(\"UAV mixed\")\n",
        "myEnv = RDDLEnv.RDDLEnv(domain=\"/content/pyRDDLGym/pyRDDLGym/Examples/UAV/Mixed/domain.rddl\", instance=\"/content/pyRDDLGym/pyRDDLGym/Examples/UAV/Mixed/instance0.rddl\")\n",
        "model = myEnv.model"
      ],
      "metadata": {
        "colab": {
          "base_uri": "https://localhost:8080/"
        },
        "id": "h1jZ91Xn-3VD",
        "outputId": "1c2857b5-c01c-4313-ec05-dd5198217bcd"
      },
      "execution_count": 6,
      "outputs": [
        {
          "output_type": "stream",
          "name": "stderr",
          "text": [
            "WARNING: Token 'DOLLAR_SIGN' defined, but not used\n",
            "WARNING: Token 'DOT' defined, but not used\n",
            "WARNING: Token 'QUESTION' defined, but not used\n",
            "WARNING: Token 'TERMINAL' defined, but not used\n",
            "WARNING: There are 4 unused tokens\n",
            "Generating LALR tables\n",
            "WARNING: 1 shift/reduce conflict\n",
            "WARNING: 6 reduce/reduce conflicts\n",
            "WARNING: reduce/reduce conflict in state 348 resolved using rule (term -> VAR)\n",
            "WARNING: rejected rule (pvar_expr -> VAR) in state 348\n",
            "WARNING: reduce/reduce conflict in state 349 resolved using rule (term -> ENUM_VAL)\n",
            "WARNING: rejected rule (pvar_expr -> ENUM_VAL) in state 349\n"
          ]
        }
      ]
    },
    {
      "cell_type": "code",
      "source": [
        "# initialize the planner\n",
        "# note that actions should be constrained to [-1, 1] for Racecar\n",
        "planner = JaxRDDLBackpropPlanner(\n",
        "    model,\n",
        "    plan=JaxStraightLinePlan(),\n",
        "    batch_size_train=32,\n",
        "    rollout_horizon=5,\n",
        "    optimizer=optax.adam,\n",
        "    optimizer_kwargs={'learning_rate': 0.0001})"
      ],
      "metadata": {
        "colab": {
          "base_uri": "https://localhost:8080/"
        },
        "id": "fTO1pIWa_B_t",
        "outputId": "b7b58ab1-a148-401b-fbc0-772cb17f1be9"
      },
      "execution_count": 7,
      "outputs": [
        {
          "output_type": "stream",
          "name": "stderr",
          "text": [
            "WARNING:jax._src.xla_bridge:No GPU/TPU found, falling back to CPU. (Set TF_CPP_MIN_LOG_LEVEL=0 and rerun for more info.)\n",
            "/content/pyRDDLGym/pyRDDLGym/Core/Jax/JaxRDDLBackpropPlanner.py:844: UserWarning: Initial values of pvariables will be cast to real.\n",
            "  self.compiled = JaxRDDLCompilerWithGrad(\n",
            "/content/pyRDDLGym/pyRDDLGym/Core/Jax/JaxRDDLBackpropPlanner.py:55: UserWarning: Using the replacement rule: a >= b --> sigmoid(a - b)\n",
            "  '>=': logic.greaterEqual(),\n",
            "/content/pyRDDLGym/pyRDDLGym/Core/Jax/JaxRDDLLogic.py:218: UserWarning: Using the replacement rule: a >= b --> sigmoid(a - b)\n",
            "  jax_geq, jax_param = self.greaterEqual()\n",
            "/content/pyRDDLGym/pyRDDLGym/Core/Jax/JaxRDDLLogic.py:226: UserWarning: Using the replacement rule: a > b --> sigmoid(a - b)\n",
            "  jax_gre, jax_param = self.greater()\n",
            "/content/pyRDDLGym/pyRDDLGym/Core/Jax/JaxRDDLBackpropPlanner.py:58: UserWarning: Using the replacement rule: a > b --> sigmoid(a - b)\n",
            "  '>': logic.greater(),\n",
            "/content/pyRDDLGym/pyRDDLGym/Core/Jax/JaxRDDLBackpropPlanner.py:59: UserWarning: Using the replacement rule: a == b --> sech^2(b - a)\n",
            "  '==': logic.equal(),\n",
            "/content/pyRDDLGym/pyRDDLGym/Core/Jax/JaxRDDLLogic.py:251: UserWarning: Using the replacement rule: a == b --> sech^2(b - a)\n",
            "  jax_eq, jax_param = self.equal()\n",
            "/content/pyRDDLGym/pyRDDLGym/Core/Jax/JaxRDDLBackpropPlanner.py:62: UserWarning: Using the replacement rule: ~a --> 1 - a\n",
            "  self.LOGICAL_NOT = logic.Not()\n",
            "/content/pyRDDLGym/pyRDDLGym/Core/Jax/JaxRDDLBackpropPlanner.py:64: UserWarning: Using the replacement rule: a ^ b --> tnorm(a, b).\n",
            "  '^': logic.And(),\n",
            "/content/pyRDDLGym/pyRDDLGym/Core/Jax/JaxRDDLBackpropPlanner.py:65: UserWarning: Using the replacement rule: a ^ b --> tnorm(a, b).\n",
            "  '&': logic.And(),\n",
            "/content/pyRDDLGym/pyRDDLGym/Core/Jax/JaxRDDLBackpropPlanner.py:66: UserWarning: Using the replacement rule: a or b --> tconorm(a, b).\n",
            "  '|': logic.Or(),\n",
            "/content/pyRDDLGym/pyRDDLGym/Core/Jax/JaxRDDLBackpropPlanner.py:67: UserWarning: Using the replacement rule: a xor b --> (a or b) ^ (a ^ b).\n",
            "  '~': logic.xor(),\n",
            "/content/pyRDDLGym/pyRDDLGym/Core/Jax/JaxRDDLBackpropPlanner.py:68: UserWarning: Using the replacement rule: a => b --> ~a ^ b\n",
            "  '=>': logic.implies(),\n",
            "/content/pyRDDLGym/pyRDDLGym/Core/Jax/JaxRDDLBackpropPlanner.py:69: UserWarning: Using the replacement rule: a <=> b --> (a => b) ^ (b => a)\n",
            "  '<=>': logic.equiv()\n",
            "/content/pyRDDLGym/pyRDDLGym/Core/Jax/JaxRDDLBackpropPlanner.py:71: UserWarning: Using the replacement rule: forall(a) --> tnorm(a[1], tnorm(a[2], ...))\n",
            "  self.AGGREGATION_OPS['forall'] = logic.forall()\n",
            "/content/pyRDDLGym/pyRDDLGym/Core/Jax/JaxRDDLLogic.py:174: UserWarning: Using the replacement rule: forall(a) --> tnorm(a[1], tnorm(a[2], ...))\n",
            "  jax_forall, jax_param = self.forall()\n",
            "/content/pyRDDLGym/pyRDDLGym/Core/Jax/JaxRDDLLogic.py:403: UserWarning: Using the replacement rule: argmax(x) --> sum(i * softmax(x[i]))\n",
            "  jax_argmax, jax_param = self.argmax()\n",
            "/content/pyRDDLGym/pyRDDLGym/Core/Jax/JaxRDDLBackpropPlanner.py:74: UserWarning: Using the replacement rule: argmax(x) --> sum(i * softmax(x[i]))\n",
            "  self.AGGREGATION_OPS['argmax'] = logic.argmax()\n",
            "/content/pyRDDLGym/pyRDDLGym/Core/Jax/JaxRDDLBackpropPlanner.py:75: UserWarning: Using the replacement rule: signum(x) --> tanh(x)\n",
            "  self.KNOWN_UNARY['sgn'] = logic.signum()\n",
            "/content/pyRDDLGym/pyRDDLGym/Core/Jax/JaxRDDLLogic.py:312: UserWarning: Using the replacement rule: ceil(x) --> ceil(x - 0.5) + step(x - 0.5), where step is a smooth approximation of the step function\n",
            "  warnings.warn('Using the replacement rule: '\n",
            "/content/pyRDDLGym/pyRDDLGym/Core/Jax/JaxRDDLBackpropPlanner.py:78: UserWarning: Using the replacement rule: round(x) --> x\n",
            "  self.KNOWN_UNARY['round'] = logic.round()\n",
            "/content/pyRDDLGym/pyRDDLGym/Core/Jax/JaxRDDLBackpropPlanner.py:79: UserWarning: Using the replacement rule: sqrt(x) --> sqrt(x + eps)\n",
            "  self.KNOWN_UNARY['sqrt'] = logic.sqrt()\n",
            "/content/pyRDDLGym/pyRDDLGym/Core/Jax/JaxRDDLCompiler.py:152: UserWarning: CPFs outputs will be cast to real.\n",
            "  self.cpfs = self._compile_cpfs(info)\n",
            "/content/pyRDDLGym/pyRDDLGym/Core/Jax/JaxRDDLBackpropPlanner.py:105: UserWarning: Using the replacement rule: if c then a else b --> c * a + (1 - c) * b\n",
            "  return self.logic.If()\n",
            "/content/pyRDDLGym/pyRDDLGym/Core/Jax/JaxRDDLBackpropPlanner.py:259: UserWarning: Bounds of action fluent <set-acc> set to (-inf, inf)\n",
            "  shapes, bounds = self._calculate_action_info(compiled, _bounds, horizon)\n",
            "/content/pyRDDLGym/pyRDDLGym/Core/Jax/JaxRDDLBackpropPlanner.py:259: UserWarning: Bounds of action fluent <set-phi> set to (-inf, inf)\n",
            "  shapes, bounds = self._calculate_action_info(compiled, _bounds, horizon)\n",
            "/content/pyRDDLGym/pyRDDLGym/Core/Jax/JaxRDDLBackpropPlanner.py:259: UserWarning: Bounds of action fluent <set-theta> set to (-inf, inf)\n",
            "  shapes, bounds = self._calculate_action_info(compiled, _bounds, horizon)\n"
          ]
        }
      ]
    },
    {
      "cell_type": "code",
      "source": [
        "!python --version"
      ],
      "metadata": {
        "colab": {
          "base_uri": "https://localhost:8080/"
        },
        "id": "ddpZnon2Q66N",
        "outputId": "f1d7828f-ff13-4232-bb71-1cc735d8a94f"
      },
      "execution_count": 8,
      "outputs": [
        {
          "output_type": "stream",
          "name": "stdout",
          "text": [
            "Python 3.10.11\n"
          ]
        }
      ]
    },
    {
      "cell_type": "code",
      "source": [
        "# train for 1000 epochs using gradient ascent \n",
        "for callback in planner.optimize(jax.random.PRNGKey(42), epochs=1000, step=10):\n",
        "    print('step={} train_return={:.6f} test_return={:.6f}'.format(\n",
        "          str(callback['iteration']).rjust(4),\n",
        "          callback['train_return'],\n",
        "          callback['test_return']))"
      ],
      "metadata": {
        "id": "7-FixQTq_pbt",
        "colab": {
          "base_uri": "https://localhost:8080/"
        },
        "outputId": "4bdf1a1e-2177-4a94-c11e-28e1a8cd5613"
      },
      "execution_count": 9,
      "outputs": [
        {
          "output_type": "stream",
          "name": "stdout",
          "text": [
            "step=   0 train_return=-432.954895 test_return=-432.955017\n",
            "step=  10 train_return=-432.954834 test_return=-432.954956\n",
            "step=  20 train_return=-432.954712 test_return=-432.954926\n",
            "step=  30 train_return=-432.954651 test_return=-432.954895\n",
            "step=  40 train_return=-432.954559 test_return=-432.954865\n",
            "step=  50 train_return=-432.954498 test_return=-432.954834\n",
            "step=  60 train_return=-432.954407 test_return=-432.954834\n",
            "step=  70 train_return=-432.954346 test_return=-432.954803\n",
            "step=  80 train_return=-432.954254 test_return=-432.954742\n",
            "step=  90 train_return=-432.954163 test_return=-432.954742\n",
            "step= 100 train_return=-432.954102 test_return=-432.954712\n",
            "step= 110 train_return=-432.954071 test_return=-432.954681\n",
            "step= 120 train_return=-432.953979 test_return=-432.954651\n",
            "step= 130 train_return=-432.953857 test_return=-432.954590\n",
            "step= 140 train_return=-432.953766 test_return=-432.954559\n",
            "step= 150 train_return=-432.953583 test_return=-432.954529\n",
            "step= 160 train_return=-432.953522 test_return=-432.954498\n",
            "step= 170 train_return=-432.953400 test_return=-432.954468\n",
            "step= 180 train_return=-432.953308 test_return=-432.954437\n",
            "step= 190 train_return=-432.953247 test_return=-432.954437\n",
            "step= 200 train_return=-432.953186 test_return=-432.954407\n",
            "step= 210 train_return=-432.953125 test_return=-432.954376\n",
            "step= 220 train_return=-432.953003 test_return=-432.954346\n",
            "step= 230 train_return=-432.952942 test_return=-432.954315\n",
            "step= 240 train_return=-432.952850 test_return=-432.954285\n",
            "step= 250 train_return=-432.952728 test_return=-432.954254\n",
            "step= 260 train_return=-432.952637 test_return=-432.954193\n",
            "step= 270 train_return=-432.952606 test_return=-432.954163\n",
            "step= 280 train_return=-432.952515 test_return=-432.954163\n",
            "step= 290 train_return=-432.952423 test_return=-432.954163\n",
            "step= 300 train_return=-432.952240 test_return=-432.954102\n",
            "step= 310 train_return=-432.952087 test_return=-432.954071\n",
            "step= 320 train_return=-432.951965 test_return=-432.954041\n",
            "step= 330 train_return=-432.951874 test_return=-432.954041\n",
            "step= 340 train_return=-432.951782 test_return=-432.953979\n",
            "step= 350 train_return=-432.951691 test_return=-432.953949\n",
            "step= 360 train_return=-432.951599 test_return=-432.953949\n",
            "step= 370 train_return=-432.951538 test_return=-432.953918\n",
            "step= 380 train_return=-432.951447 test_return=-432.953888\n",
            "step= 390 train_return=-432.951385 test_return=-432.953766\n",
            "step= 400 train_return=-432.951324 test_return=-432.953735\n",
            "step= 410 train_return=-432.951202 test_return=-432.953705\n",
            "step= 420 train_return=-432.951141 test_return=-432.953674\n",
            "step= 430 train_return=-432.951080 test_return=-432.953644\n",
            "step= 440 train_return=-432.950989 test_return=-432.953613\n",
            "step= 450 train_return=-432.950897 test_return=-432.953613\n",
            "step= 460 train_return=-432.950806 test_return=-432.953522\n",
            "step= 470 train_return=-432.950623 test_return=-432.953522\n",
            "step= 480 train_return=-432.950562 test_return=-432.953491\n",
            "step= 490 train_return=-432.950439 test_return=-432.953491\n",
            "step= 500 train_return=-432.950378 test_return=-432.953491\n",
            "step= 510 train_return=-432.950317 test_return=-432.953430\n",
            "step= 520 train_return=-432.950195 test_return=-432.953369\n",
            "step= 530 train_return=-432.950134 test_return=-432.953339\n",
            "step= 540 train_return=-432.950073 test_return=-432.953339\n",
            "step= 550 train_return=-432.949951 test_return=-432.953308\n",
            "step= 560 train_return=-432.949890 test_return=-432.953247\n",
            "step= 570 train_return=-432.949768 test_return=-432.953217\n",
            "step= 580 train_return=-432.949707 test_return=-432.953217\n",
            "step= 590 train_return=-432.949646 test_return=-432.953186\n",
            "step= 600 train_return=-432.949524 test_return=-432.953156\n",
            "step= 610 train_return=-432.949463 test_return=-432.953125\n",
            "step= 620 train_return=-432.949371 test_return=-432.953125\n",
            "step= 630 train_return=-432.949219 test_return=-432.953094\n",
            "step= 640 train_return=-432.949066 test_return=-432.953033\n",
            "step= 650 train_return=-432.948914 test_return=-432.953033\n",
            "step= 660 train_return=-432.948853 test_return=-432.953003\n",
            "step= 670 train_return=-432.948792 test_return=-432.952972\n",
            "step= 680 train_return=-432.948700 test_return=-432.952972\n",
            "step= 690 train_return=-432.948486 test_return=-432.952911\n",
            "step= 700 train_return=-432.948395 test_return=-432.952881\n",
            "step= 710 train_return=-432.948334 test_return=-432.952881\n",
            "step= 720 train_return=-432.948273 test_return=-432.952881\n",
            "step= 730 train_return=-432.948181 test_return=-432.952850\n",
            "step= 740 train_return=-432.948059 test_return=-432.952820\n",
            "step= 750 train_return=-432.947998 test_return=-432.952820\n",
            "step= 760 train_return=-432.947906 test_return=-432.952789\n",
            "step= 770 train_return=-432.947815 test_return=-432.952728\n",
            "step= 780 train_return=-432.947723 test_return=-432.952698\n",
            "step= 790 train_return=-432.947540 test_return=-432.952698\n",
            "step= 800 train_return=-432.947479 test_return=-432.952667\n",
            "step= 810 train_return=-432.947388 test_return=-432.952606\n",
            "step= 820 train_return=-432.947296 test_return=-432.952606\n",
            "step= 830 train_return=-432.947235 test_return=-432.952484\n",
            "step= 840 train_return=-432.947144 test_return=-432.952454\n",
            "step= 850 train_return=-432.947052 test_return=-432.952423\n",
            "step= 860 train_return=-432.946960 test_return=-432.952393\n",
            "step= 870 train_return=-432.946930 test_return=-432.952362\n",
            "step= 880 train_return=-432.946869 test_return=-432.952362\n",
            "step= 890 train_return=-432.946747 test_return=-432.952332\n",
            "step= 900 train_return=-432.946655 test_return=-432.952271\n",
            "step= 910 train_return=-432.946564 test_return=-432.952271\n",
            "step= 920 train_return=-432.946503 test_return=-432.952240\n",
            "step= 930 train_return=-432.946381 test_return=-432.952209\n",
            "step= 940 train_return=-432.946289 test_return=-432.952209\n",
            "step= 950 train_return=-432.946106 test_return=-432.952179\n",
            "step= 960 train_return=-432.946014 test_return=-432.952148\n",
            "step= 970 train_return=-432.945953 test_return=-432.952118\n",
            "step= 980 train_return=-432.945892 test_return=-432.952118\n",
            "step= 990 train_return=-432.945801 test_return=-432.952057\n",
            "step= 999 train_return=-432.945709 test_return=-432.952057\n"
          ]
        }
      ]
    },
    {
      "cell_type": "code",
      "source": [
        "!pip install cloudpickle"
      ],
      "metadata": {
        "id": "v-hwubTUCTe8",
        "colab": {
          "base_uri": "https://localhost:8080/"
        },
        "outputId": "0f48cd9b-c160-41d2-c23d-380b4ea243d6"
      },
      "execution_count": 10,
      "outputs": [
        {
          "output_type": "stream",
          "name": "stdout",
          "text": [
            "Looking in indexes: https://pypi.org/simple, https://us-python.pkg.dev/colab-wheels/public/simple/\n",
            "Requirement already satisfied: cloudpickle in /usr/local/lib/python3.10/dist-packages (2.2.1)\n"
          ]
        }
      ]
    },
    {
      "cell_type": "code",
      "source": [
        "import cloudpickle as pickle\n",
        "\n",
        "# Serialize the planner\n",
        "with open('trained_planner.pkl', 'wb') as f:\n",
        "    pickle.dump(planner, f)\n",
        "\n",
        "# Deserialize the planner\n",
        "with open('trained_planner.pkl', 'rb') as f:\n",
        "    planner = pickle.load(f)"
      ],
      "metadata": {
        "id": "4PY3TdjymEhn"
      },
      "execution_count": 11,
      "outputs": []
    },
    {
      "cell_type": "code",
      "source": [
        "# Get the final action sequence\n",
        "final_params = callback['params']\n",
        "final_plan = planner.get_action(jax.random.PRNGKey(42), final_params, 0, None)\n",
        "print(\"Final Plan:\", final_plan)"
      ],
      "metadata": {
        "id": "AoAk97LkAJCM",
        "colab": {
          "base_uri": "https://localhost:8080/"
        },
        "outputId": "272e3c89-db98-403e-c619-8a86a75157bd"
      },
      "execution_count": 12,
      "outputs": [
        {
          "output_type": "stream",
          "name": "stdout",
          "text": [
            "Final Plan: {'set-phi___a1': 0.100072175, 'set-theta___a1': 0.0846788}\n"
          ]
        }
      ]
    }
  ]
}