{
  "nbformat": 4,
  "nbformat_minor": 0,
  "metadata": {
    "colab": {
      "provenance": []
    },
    "kernelspec": {
      "name": "python3",
      "display_name": "Python 3"
    },
    "language_info": {
      "name": "python"
    },
    "accelerator": "GPU",
    "gpuClass": "standard"
  },
  "cells": [
    {
      "cell_type": "markdown",
      "source": [
        "##Introduction\n",
        "This notebook demonstrates how to use the pyRDDLGym package to simulate and visualize an Reinforcement Learning (RL) environment. In this notebook, we will set up the environment and an agent, and then run an agent-environment loop to perform a task in the environment. Specifically, we will be using the example environment \"HVAC\" provided by pyRDDLGym, and a random agent to perform an action in the environment.\n",
        "\n",
        "Reference: https://ataitler.github.io/IPPC2023/infrastructure.html"
      ],
      "metadata": {
        "id": "TIenym0IvJ_a"
      }
    },
    {
      "cell_type": "markdown",
      "source": [
        "⚠️ **Note:** This Colab notebook has been created based on my current understanding of RDDL, which I have recently learned. **While I have made every effort to ensure the accuracy and quality, there may be areas where my understanding is limited.** I welcome feedback and suggestions. Thank you for your understanding!"
      ],
      "metadata": {
        "id": "laIm0xntzV5M"
      }
    },
    {
      "cell_type": "markdown",
      "source": [
        "##Cloning the repository named \"pyRDDLGym\" from the GitHub "
      ],
      "metadata": {
        "id": "OtuEGxbSQaN6"
      }
    },
    {
      "cell_type": "code",
      "execution_count": 43,
      "metadata": {
        "colab": {
          "base_uri": "https://localhost:8080/"
        },
        "id": "IPBITv7yQBX5",
        "outputId": "9c688384-a8a8-4d34-eb7f-e87c535d8d2f"
      },
      "outputs": [
        {
          "output_type": "stream",
          "name": "stdout",
          "text": [
            "fatal: destination path 'pyRDDLGym' already exists and is not an empty directory.\n"
          ]
        }
      ],
      "source": [
        "!git clone https://github.com/ataitler/pyRDDLGym.git"
      ]
    },
    {
      "cell_type": "markdown",
      "source": [
        "##Initializing environment in pyRDDLGym"
      ],
      "metadata": {
        "id": "YWZ9pUnZX7jI"
      }
    },
    {
      "cell_type": "code",
      "source": [
        "#Changing the working directory to the \"pyRDDLGym\" directory\n",
        "%cd /content/pyRDDLGym"
      ],
      "metadata": {
        "colab": {
          "base_uri": "https://localhost:8080/"
        },
        "id": "1Pw95b90QO40",
        "outputId": "78891437-82aa-436b-b1c1-d37013eb53a9"
      },
      "execution_count": 44,
      "outputs": [
        {
          "output_type": "stream",
          "name": "stdout",
          "text": [
            "/content/pyRDDLGym\n"
          ]
        }
      ]
    },
    {
      "cell_type": "code",
      "source": [
        "#Installing all the required packages listed in the \"requirements.txt\" file\n",
        "!pip install -r requirements.txt"
      ],
      "metadata": {
        "colab": {
          "base_uri": "https://localhost:8080/"
        },
        "id": "3RKNuL99YXem",
        "outputId": "fb1a7120-0c85-4803-f44b-a5ccd9f7ccde"
      },
      "execution_count": 45,
      "outputs": [
        {
          "output_type": "stream",
          "name": "stdout",
          "text": [
            "Looking in indexes: https://pypi.org/simple, https://us-python.pkg.dev/colab-wheels/public/simple/\n",
            "Requirement already satisfied: matplotlib>=3.5.0 in /usr/local/lib/python3.10/dist-packages (from -r requirements.txt (line 1)) (3.7.1)\n",
            "Requirement already satisfied: pillow>=9.2.0 in /usr/local/lib/python3.10/dist-packages (from -r requirements.txt (line 2)) (9.5.0)\n",
            "Requirement already satisfied: gym>=0.24.0 in /usr/local/lib/python3.10/dist-packages (from -r requirements.txt (line 3)) (0.25.2)\n",
            "Requirement already satisfied: numpy>=1.22 in /usr/local/lib/python3.10/dist-packages (from -r requirements.txt (line 4)) (1.22.4)\n",
            "Requirement already satisfied: pygame in /usr/local/lib/python3.10/dist-packages (from -r requirements.txt (line 5)) (2.3.0)\n",
            "Requirement already satisfied: ply in /usr/local/lib/python3.10/dist-packages (from -r requirements.txt (line 6)) (3.11)\n",
            "Requirement already satisfied: contourpy>=1.0.1 in /usr/local/lib/python3.10/dist-packages (from matplotlib>=3.5.0->-r requirements.txt (line 1)) (1.0.7)\n",
            "Requirement already satisfied: cycler>=0.10 in /usr/local/lib/python3.10/dist-packages (from matplotlib>=3.5.0->-r requirements.txt (line 1)) (0.11.0)\n",
            "Requirement already satisfied: fonttools>=4.22.0 in /usr/local/lib/python3.10/dist-packages (from matplotlib>=3.5.0->-r requirements.txt (line 1)) (4.39.3)\n",
            "Requirement already satisfied: kiwisolver>=1.0.1 in /usr/local/lib/python3.10/dist-packages (from matplotlib>=3.5.0->-r requirements.txt (line 1)) (1.4.4)\n",
            "Requirement already satisfied: packaging>=20.0 in /usr/local/lib/python3.10/dist-packages (from matplotlib>=3.5.0->-r requirements.txt (line 1)) (23.1)\n",
            "Requirement already satisfied: pyparsing>=2.3.1 in /usr/local/lib/python3.10/dist-packages (from matplotlib>=3.5.0->-r requirements.txt (line 1)) (3.0.9)\n",
            "Requirement already satisfied: python-dateutil>=2.7 in /usr/local/lib/python3.10/dist-packages (from matplotlib>=3.5.0->-r requirements.txt (line 1)) (2.8.2)\n",
            "Requirement already satisfied: cloudpickle>=1.2.0 in /usr/local/lib/python3.10/dist-packages (from gym>=0.24.0->-r requirements.txt (line 3)) (2.2.1)\n",
            "Requirement already satisfied: gym-notices>=0.0.4 in /usr/local/lib/python3.10/dist-packages (from gym>=0.24.0->-r requirements.txt (line 3)) (0.0.8)\n",
            "Requirement already satisfied: six>=1.5 in /usr/local/lib/python3.10/dist-packages (from python-dateutil>=2.7->matplotlib>=3.5.0->-r requirements.txt (line 1)) (1.16.0)\n"
          ]
        }
      ]
    },
    {
      "cell_type": "markdown",
      "source": [
        "##Installing dependencies to run virtual display"
      ],
      "metadata": {
        "id": "Iqm0xCxLas1c"
      }
    },
    {
      "cell_type": "code",
      "source": [
        "!apt-get install -y xserver-xephyr"
      ],
      "metadata": {
        "colab": {
          "base_uri": "https://localhost:8080/"
        },
        "id": "Op_CHXA0eROp",
        "outputId": "3daac1a9-be80-49bb-a694-4c12a6c76430"
      },
      "execution_count": 46,
      "outputs": [
        {
          "output_type": "stream",
          "name": "stdout",
          "text": [
            "Reading package lists... Done\n",
            "Building dependency tree       \n",
            "Reading state information... Done\n",
            "xserver-xephyr is already the newest version (2:1.20.13-1ubuntu1~20.04.8).\n",
            "0 upgraded, 0 newly installed, 0 to remove and 24 not upgraded.\n"
          ]
        }
      ]
    },
    {
      "cell_type": "code",
      "source": [
        "!apt install -y xvfb python-opengl \n",
        "!pip install gym pyvirtualdisplay \n"
      ],
      "metadata": {
        "colab": {
          "base_uri": "https://localhost:8080/"
        },
        "id": "9c2W3ZCbf1B4",
        "outputId": "d67f2bf2-28bc-4a89-fceb-930ce54bf803"
      },
      "execution_count": 47,
      "outputs": [
        {
          "output_type": "stream",
          "name": "stdout",
          "text": [
            "Reading package lists... Done\n",
            "Building dependency tree       \n",
            "Reading state information... Done\n",
            "python-opengl is already the newest version (3.1.0+dfsg-2build1).\n",
            "xvfb is already the newest version (2:1.20.13-1ubuntu1~20.04.8).\n",
            "0 upgraded, 0 newly installed, 0 to remove and 24 not upgraded.\n",
            "Looking in indexes: https://pypi.org/simple, https://us-python.pkg.dev/colab-wheels/public/simple/\n",
            "Requirement already satisfied: gym in /usr/local/lib/python3.10/dist-packages (0.25.2)\n",
            "Requirement already satisfied: pyvirtualdisplay in /usr/local/lib/python3.10/dist-packages (3.0)\n",
            "Requirement already satisfied: numpy>=1.18.0 in /usr/local/lib/python3.10/dist-packages (from gym) (1.22.4)\n",
            "Requirement already satisfied: cloudpickle>=1.2.0 in /usr/local/lib/python3.10/dist-packages (from gym) (2.2.1)\n",
            "Requirement already satisfied: gym-notices>=0.0.4 in /usr/local/lib/python3.10/dist-packages (from gym) (0.0.8)\n"
          ]
        }
      ]
    },
    {
      "cell_type": "code",
      "source": [
        "#Setting up a virtual display using PyVirtualDisplay and IPython\n",
        "from pyvirtualdisplay import Display\n",
        "from IPython import display\n",
        "virtual_display = Display(visible=0, size=(1400, 900))\n",
        "virtual_display.start()"
      ],
      "metadata": {
        "colab": {
          "base_uri": "https://localhost:8080/"
        },
        "id": "fFon_-BH4rL1",
        "outputId": "20b2fef9-7af3-4e91-ce65-e7027da5c8ee"
      },
      "execution_count": 48,
      "outputs": [
        {
          "output_type": "execute_result",
          "data": {
            "text/plain": [
              "<pyvirtualdisplay.display.Display at 0x7f198b05a320>"
            ]
          },
          "metadata": {},
          "execution_count": 48
        }
      ]
    },
    {
      "cell_type": "code",
      "source": [
        "#Importing necessary modules from the pyRDDLGym package\n",
        "\n",
        "from pyRDDLGym import RDDLEnv\n",
        "from pyRDDLGym import ExampleManager\n"
      ],
      "metadata": {
        "colab": {
          "base_uri": "https://localhost:8080/"
        },
        "id": "I5AmqSN_YbM_",
        "outputId": "464ddddd-65b3-4d02-81f8-87d730ec4f3d"
      },
      "execution_count": 49,
      "outputs": [
        {
          "output_type": "stream",
          "name": "stderr",
          "text": [
            "/usr/local/lib/python3.10/dist-packages/ipykernel/ipkernel.py:283: DeprecationWarning: `should_run_async` will not call `transform_cell` automatically in the future. Please pass the result to `transformed_cell` argument and any exception that happen during thetransform in `preprocessing_exc_tuple` in IPython 7.17 and above.\n",
            "  and should_run_async(code)\n"
          ]
        }
      ]
    },
    {
      "cell_type": "code",
      "source": [
        "ENV = \"UAV mixed\"        #ENV-->string name of the desired example environment\n",
        "EnvInfo = ExampleManager.GetEnvInfo(ENV)"
      ],
      "metadata": {
        "id": "dWfaIW79aKcL"
      },
      "execution_count": 50,
      "outputs": []
    },
    {
      "cell_type": "code",
      "source": [
        "#Creating Environment\n",
        "myEnv = RDDLEnv.RDDLEnv(domain=\"/content/pyRDDLGym/pyRDDLGym/Examples/UAV/Mixed/domain.rddl\", instance=\"/content/pyRDDLGym/pyRDDLGym/Examples/UAV/Mixed/instance0.rddl\")"
      ],
      "metadata": {
        "id": "EEz0M4FiZ6xH"
      },
      "execution_count": 51,
      "outputs": []
    },
    {
      "cell_type": "markdown",
      "source": [
        "Note: The instance.rddl file describes the specific instance of the environment with its initial state and objects, while the domain.rddl file describes the general structure of the environment, including the state variables, actions, and rewards."
      ],
      "metadata": {
        "id": "RKblo2AaBn5j"
      }
    },
    {
      "cell_type": "code",
      "source": [
        "#Action Space\n",
        "print(f\"Action Space: {myEnv.action_space}\")"
      ],
      "metadata": {
        "colab": {
          "base_uri": "https://localhost:8080/"
        },
        "id": "NzC-1yp_7kyW",
        "outputId": "a66e6a09-fbc0-4c01-835c-75fbd33e974f"
      },
      "execution_count": 52,
      "outputs": [
        {
          "output_type": "stream",
          "name": "stdout",
          "text": [
            "Action Space: Dict('set-acc___a1': Discrete(3, start=-1), 'set-phi___a1': Box(-1.0, 1.0, (1,), float32), 'set-theta___a1': Box(-1.0, 1.0, (1,), float32))\n"
          ]
        }
      ]
    },
    {
      "cell_type": "code",
      "source": [
        "#Observation Space\n",
        "print(f\"Observation Space: {myEnv.observation_space}\")"
      ],
      "metadata": {
        "colab": {
          "base_uri": "https://localhost:8080/"
        },
        "id": "ryh89Rpd7xc_",
        "outputId": "f66154be-177c-457f-85f8-a52600abc000"
      },
      "execution_count": 53,
      "outputs": [
        {
          "output_type": "stream",
          "name": "stdout",
          "text": [
            "Observation Space: Dict('pos-x___a1': Box(-50000.0, 500000.0, (1,), float32), 'pos-y___a1': Box(-500000.0, 500000.0, (1,), float32), 'pos-z___a1': Box(-50000.0, 50000.0, (1,), float32), 'theta___a1': Box(-inf, inf, (1,), float32), 'phi___a1': Box(-inf, inf, (1,), float32), 'psi___a1': Box(-inf, inf, (1,), float32), 'vel___a1': Box(-inf, inf, (1,), float32))\n"
          ]
        }
      ]
    },
    {
      "cell_type": "code",
      "source": [
        "#Listing all the available instances of the problem\n",
        "EnvInfo.list_instances()"
      ],
      "metadata": {
        "colab": {
          "base_uri": "https://localhost:8080/"
        },
        "id": "gjg8naDElNrs",
        "outputId": "844f7fbe-0f68-4953-e37f-425ade16dbf0"
      },
      "execution_count": 54,
      "outputs": [
        {
          "output_type": "execute_result",
          "data": {
            "text/plain": [
              "['instance0.rddl']"
            ]
          },
          "metadata": {},
          "execution_count": 54
        }
      ]
    },
    {
      "cell_type": "code",
      "source": [
        "# set up the environment visualizer\n",
        "myEnv.set_visualizer(EnvInfo.get_visualizer())"
      ],
      "metadata": {
        "id": "idlK5CcV54PL"
      },
      "execution_count": 55,
      "outputs": []
    },
    {
      "cell_type": "markdown",
      "source": [
        "#Interacting with the Environment"
      ],
      "metadata": {
        "id": "eKhJkgA_Hbjq"
      }
    },
    {
      "cell_type": "markdown",
      "source": [
        "pyRDDLGym is build on Gym as so implements the classic “agent-environment loop”. The infrastructure comes with two simple agents:\n",
        "\n",
        "1. NoOpAgent - which allows the environment to evolve according to the default behavior as specified in the RDDL file.\n",
        "2. RandomAgent - which sends a rendom action according to the env.action_space and the maximum number of allowed concurrent actions as specified in the RDDL file."
      ],
      "metadata": {
        "id": "1hslLxxlHfzF"
      }
    },
    {
      "cell_type": "code",
      "source": [
        "from pyRDDLGym.Policies.Agents import RandomAgent\n"
      ],
      "metadata": {
        "id": "oD837esI4q9L"
      },
      "execution_count": 56,
      "outputs": []
    },
    {
      "cell_type": "code",
      "source": [
        "# set up an aget\n",
        "agent = RandomAgent(action_space=myEnv.action_space, num_actions=myEnv.numConcurrentActions)"
      ],
      "metadata": {
        "id": "ZhpPNWz4Dyar"
      },
      "execution_count": 57,
      "outputs": []
    },
    {
      "cell_type": "markdown",
      "source": [
        "This line of code sets up a RandomAgent that takes actions in the environment. The action_space argument is the space of all possible actions the agent can take, while num_actions is the number of concurrent actions the agent can take at once."
      ],
      "metadata": {
        "id": "UZhTKOIA87gI"
      }
    },
    {
      "cell_type": "code",
      "source": [
        "print(f\"Maximum number of time steps that the agent will take in the environment before the episode is terminated: {myEnv.horizon}\")"
      ],
      "metadata": {
        "colab": {
          "base_uri": "https://localhost:8080/"
        },
        "id": "30d3D_Q_wEW2",
        "outputId": "e7325cec-8a61-44f6-8e16-2332ed1b00ec"
      },
      "execution_count": 58,
      "outputs": [
        {
          "output_type": "stream",
          "name": "stdout",
          "text": [
            "Maximum number of time steps that the agent will take in the environment before the episode is terminated: 20\n"
          ]
        }
      ]
    },
    {
      "cell_type": "markdown",
      "source": [
        "###Agent-Environment Interaction Loop"
      ],
      "metadata": {
        "id": "bw5ccVHDwuhC"
      }
    },
    {
      "cell_type": "code",
      "source": [
        "import matplotlib.pyplot as plt\n",
        "%matplotlib inline\n",
        "\n",
        "total_reward = 0\n",
        "state = myEnv.reset()\n",
        "img = plt.imshow(myEnv.render('rgb_array'))\n",
        "\n",
        "#Agent-Environment Loop\n",
        "for _ in range(myEnv.horizon):\n",
        "      myEnv.render()\n",
        "      next_state, reward, done, info = myEnv.step(agent.sample_action())\n",
        "      total_reward += reward\n",
        "      state = next_state\n",
        "\n",
        "      img.set_data(myEnv.render('rgb_array')) # just update the data\n",
        "      plt.axis('off')\n",
        "      plt.show()\n",
        "      \n",
        "      if done:\n",
        "            break\n",
        "            \n",
        "myEnv.close()"
      ],
      "metadata": {
        "id": "TZShn_QWZMcb"
      },
      "execution_count": null,
      "outputs": []
    },
    {
      "cell_type": "markdown",
      "source": [
        "![image.png](data:image/png;base64,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)"
      ],
      "metadata": {
        "id": "Mktwxe-6QO0n"
      }
    },
    {
      "cell_type": "markdown",
      "source": [
        "Note:\n",
        "1. If encountering the error message **\"display Surface quit\"**, the solution would be to **restart the Runtime** and re-run the cells.\n",
        "\n",
        "2. In this example, we only ran the loop for a fixed number of time steps (specified by the horizon parameter in the environment), but in practice, RL algorithms often run for much longer, often millions of time steps or more."
      ],
      "metadata": {
        "id": "Rbd9vUYbtp2s"
      }
    }
  ]
}