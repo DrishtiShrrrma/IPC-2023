{
  "nbformat": 4,
  "nbformat_minor": 0,
  "metadata": {
    "colab": {
      "provenance": []
    },
    "kernelspec": {
      "name": "python3",
      "display_name": "Python 3"
    },
    "language_info": {
      "name": "python"
    }
  },
  "cells": [
    {
      "cell_type": "code",
      "execution_count": 1,
      "metadata": {
        "colab": {
          "base_uri": "https://localhost:8080/"
        },
        "id": "lr83kzap-QO-",
        "outputId": "6a78d050-938f-4f95-eb95-a2df14478aff"
      },
      "outputs": [
        {
          "output_type": "stream",
          "name": "stdout",
          "text": [
            "Cloning into 'pyRDDLGym'...\n",
            "remote: Enumerating objects: 9562, done.\u001b[K\n",
            "remote: Counting objects: 100% (161/161), done.\u001b[K\n",
            "remote: Compressing objects: 100% (107/107), done.\u001b[K\n",
            "remote: Total 9562 (delta 106), reused 96 (delta 54), pack-reused 9401\u001b[K\n",
            "Receiving objects: 100% (9562/9562), 7.35 MiB | 17.87 MiB/s, done.\n",
            "Resolving deltas: 100% (6430/6430), done.\n"
          ]
        }
      ],
      "source": [
        "!git clone https://github.com/ataitler/pyRDDLGym.git"
      ]
    },
    {
      "cell_type": "code",
      "source": [
        "#Changing the working directory to the \"pyRDDLGym\" directory\n",
        "%cd /content/pyRDDLGym"
      ],
      "metadata": {
        "colab": {
          "base_uri": "https://localhost:8080/"
        },
        "id": "YqWYotil-UbN",
        "outputId": "c4dae7cd-aa45-4563-b86e-fc5ac888b05d"
      },
      "execution_count": 2,
      "outputs": [
        {
          "output_type": "stream",
          "name": "stdout",
          "text": [
            "/content/pyRDDLGym\n"
          ]
        }
      ]
    },
    {
      "cell_type": "code",
      "source": [
        "#Installing all the required packages listed in the \"requirements.txt\" file\n",
        "!pip install -r requirements.txt"
      ],
      "metadata": {
        "colab": {
          "base_uri": "https://localhost:8080/",
          "height": 593
        },
        "id": "cl-1IVjm-WzS",
        "outputId": "bc2faf58-7c1a-49e4-e4cd-f7ba09f2d1b3"
      },
      "execution_count": 3,
      "outputs": [
        {
          "output_type": "stream",
          "name": "stdout",
          "text": [
            "Looking in indexes: https://pypi.org/simple, https://us-python.pkg.dev/colab-wheels/public/simple/\n",
            "Requirement already satisfied: matplotlib>=3.5.0 in /usr/local/lib/python3.10/dist-packages (from -r requirements.txt (line 1)) (3.7.1)\n",
            "Collecting pillow>=9.2.0 (from -r requirements.txt (line 2))\n",
            "  Downloading Pillow-9.5.0-cp310-cp310-manylinux_2_28_x86_64.whl (3.4 MB)\n",
            "\u001b[2K     \u001b[90m━━━━━━━━━━━━━━━━━━━━━━━━━━━━━━━━━━━━━━━━\u001b[0m \u001b[32m3.4/3.4 MB\u001b[0m \u001b[31m96.8 MB/s\u001b[0m eta \u001b[36m0:00:00\u001b[0m\n",
            "\u001b[?25hRequirement already satisfied: gym>=0.24.0 in /usr/local/lib/python3.10/dist-packages (from -r requirements.txt (line 3)) (0.25.2)\n",
            "Requirement already satisfied: numpy>=1.22 in /usr/local/lib/python3.10/dist-packages (from -r requirements.txt (line 4)) (1.22.4)\n",
            "Requirement already satisfied: pygame in /usr/local/lib/python3.10/dist-packages (from -r requirements.txt (line 5)) (2.3.0)\n",
            "Collecting ply (from -r requirements.txt (line 6))\n",
            "  Downloading ply-3.11-py2.py3-none-any.whl (49 kB)\n",
            "\u001b[2K     \u001b[90m━━━━━━━━━━━━━━━━━━━━━━━━━━━━━━━━━━━━━━━━\u001b[0m \u001b[32m49.6/49.6 kB\u001b[0m \u001b[31m6.9 MB/s\u001b[0m eta \u001b[36m0:00:00\u001b[0m\n",
            "\u001b[?25hRequirement already satisfied: contourpy>=1.0.1 in /usr/local/lib/python3.10/dist-packages (from matplotlib>=3.5.0->-r requirements.txt (line 1)) (1.0.7)\n",
            "Requirement already satisfied: cycler>=0.10 in /usr/local/lib/python3.10/dist-packages (from matplotlib>=3.5.0->-r requirements.txt (line 1)) (0.11.0)\n",
            "Requirement already satisfied: fonttools>=4.22.0 in /usr/local/lib/python3.10/dist-packages (from matplotlib>=3.5.0->-r requirements.txt (line 1)) (4.39.3)\n",
            "Requirement already satisfied: kiwisolver>=1.0.1 in /usr/local/lib/python3.10/dist-packages (from matplotlib>=3.5.0->-r requirements.txt (line 1)) (1.4.4)\n",
            "Requirement already satisfied: packaging>=20.0 in /usr/local/lib/python3.10/dist-packages (from matplotlib>=3.5.0->-r requirements.txt (line 1)) (23.1)\n",
            "Requirement already satisfied: pyparsing>=2.3.1 in /usr/local/lib/python3.10/dist-packages (from matplotlib>=3.5.0->-r requirements.txt (line 1)) (3.0.9)\n",
            "Requirement already satisfied: python-dateutil>=2.7 in /usr/local/lib/python3.10/dist-packages (from matplotlib>=3.5.0->-r requirements.txt (line 1)) (2.8.2)\n",
            "Requirement already satisfied: cloudpickle>=1.2.0 in /usr/local/lib/python3.10/dist-packages (from gym>=0.24.0->-r requirements.txt (line 3)) (2.2.1)\n",
            "Requirement already satisfied: gym-notices>=0.0.4 in /usr/local/lib/python3.10/dist-packages (from gym>=0.24.0->-r requirements.txt (line 3)) (0.0.8)\n",
            "Requirement already satisfied: six>=1.5 in /usr/local/lib/python3.10/dist-packages (from python-dateutil>=2.7->matplotlib>=3.5.0->-r requirements.txt (line 1)) (1.16.0)\n",
            "Installing collected packages: ply, pillow\n",
            "  Attempting uninstall: pillow\n",
            "    Found existing installation: Pillow 8.4.0\n",
            "    Uninstalling Pillow-8.4.0:\n",
            "      Successfully uninstalled Pillow-8.4.0\n",
            "Successfully installed pillow-9.5.0 ply-3.11\n"
          ]
        },
        {
          "output_type": "display_data",
          "data": {
            "application/vnd.colab-display-data+json": {
              "pip_warning": {
                "packages": [
                  "PIL"
                ]
              }
            }
          },
          "metadata": {}
        }
      ]
    },
    {
      "cell_type": "code",
      "source": [
        "!apt-get install -y xserver-xephyr"
      ],
      "metadata": {
        "colab": {
          "base_uri": "https://localhost:8080/"
        },
        "id": "Emy5RmN1-ZZL",
        "outputId": "d6030d3e-f96b-4426-fdcb-46660f0de1f6"
      },
      "execution_count": 4,
      "outputs": [
        {
          "output_type": "stream",
          "name": "stdout",
          "text": [
            "Reading package lists... Done\n",
            "Building dependency tree       \n",
            "Reading state information... Done\n",
            "The following additional packages will be installed:\n",
            "  libfontenc1 libxcb-xv0 libxfont2 libxkbfile1 x11-xkb-utils xfonts-base\n",
            "  xfonts-encodings xfonts-utils xserver-common\n",
            "The following NEW packages will be installed:\n",
            "  libfontenc1 libxcb-xv0 libxfont2 libxkbfile1 x11-xkb-utils xfonts-base\n",
            "  xfonts-encodings xfonts-utils xserver-common xserver-xephyr\n",
            "0 upgraded, 10 newly installed, 0 to remove and 24 not upgraded.\n",
            "Need to get 7,843 kB of archives.\n",
            "After this operation, 12.3 MB of additional disk space will be used.\n",
            "Get:1 http://archive.ubuntu.com/ubuntu focal/main amd64 libfontenc1 amd64 1:1.1.4-0ubuntu1 [14.0 kB]\n",
            "Get:2 http://archive.ubuntu.com/ubuntu focal/main amd64 libxcb-xv0 amd64 1.14-2 [9,192 B]\n",
            "Get:3 http://archive.ubuntu.com/ubuntu focal/main amd64 libxfont2 amd64 1:2.0.3-1 [91.7 kB]\n",
            "Get:4 http://archive.ubuntu.com/ubuntu focal/main amd64 libxkbfile1 amd64 1:1.1.0-1 [65.3 kB]\n",
            "Get:5 http://archive.ubuntu.com/ubuntu focal/main amd64 x11-xkb-utils amd64 7.7+5 [158 kB]\n",
            "Get:6 http://archive.ubuntu.com/ubuntu focal/main amd64 xfonts-encodings all 1:1.0.5-0ubuntu1 [573 kB]\n",
            "Get:7 http://archive.ubuntu.com/ubuntu focal/main amd64 xfonts-utils amd64 1:7.7+6 [91.5 kB]\n",
            "Get:8 http://archive.ubuntu.com/ubuntu focal/main amd64 xfonts-base all 1:1.0.5 [5,896 kB]\n",
            "Get:9 http://archive.ubuntu.com/ubuntu focal-updates/main amd64 xserver-common all 2:1.20.13-1ubuntu1~20.04.8 [27.2 kB]\n",
            "Get:10 http://archive.ubuntu.com/ubuntu focal-updates/main amd64 xserver-xephyr amd64 2:1.20.13-1ubuntu1~20.04.8 [917 kB]\n",
            "Fetched 7,843 kB in 1s (8,411 kB/s)\n",
            "Selecting previously unselected package libfontenc1:amd64.\n",
            "(Reading database ... 122518 files and directories currently installed.)\n",
            "Preparing to unpack .../0-libfontenc1_1%3a1.1.4-0ubuntu1_amd64.deb ...\n",
            "Unpacking libfontenc1:amd64 (1:1.1.4-0ubuntu1) ...\n",
            "Selecting previously unselected package libxcb-xv0:amd64.\n",
            "Preparing to unpack .../1-libxcb-xv0_1.14-2_amd64.deb ...\n",
            "Unpacking libxcb-xv0:amd64 (1.14-2) ...\n",
            "Selecting previously unselected package libxfont2:amd64.\n",
            "Preparing to unpack .../2-libxfont2_1%3a2.0.3-1_amd64.deb ...\n",
            "Unpacking libxfont2:amd64 (1:2.0.3-1) ...\n",
            "Selecting previously unselected package libxkbfile1:amd64.\n",
            "Preparing to unpack .../3-libxkbfile1_1%3a1.1.0-1_amd64.deb ...\n",
            "Unpacking libxkbfile1:amd64 (1:1.1.0-1) ...\n",
            "Selecting previously unselected package x11-xkb-utils.\n",
            "Preparing to unpack .../4-x11-xkb-utils_7.7+5_amd64.deb ...\n",
            "Unpacking x11-xkb-utils (7.7+5) ...\n",
            "Selecting previously unselected package xfonts-encodings.\n",
            "Preparing to unpack .../5-xfonts-encodings_1%3a1.0.5-0ubuntu1_all.deb ...\n",
            "Unpacking xfonts-encodings (1:1.0.5-0ubuntu1) ...\n",
            "Selecting previously unselected package xfonts-utils.\n",
            "Preparing to unpack .../6-xfonts-utils_1%3a7.7+6_amd64.deb ...\n",
            "Unpacking xfonts-utils (1:7.7+6) ...\n",
            "Selecting previously unselected package xfonts-base.\n",
            "Preparing to unpack .../7-xfonts-base_1%3a1.0.5_all.deb ...\n",
            "Unpacking xfonts-base (1:1.0.5) ...\n",
            "Selecting previously unselected package xserver-common.\n",
            "Preparing to unpack .../8-xserver-common_2%3a1.20.13-1ubuntu1~20.04.8_all.deb ...\n",
            "Unpacking xserver-common (2:1.20.13-1ubuntu1~20.04.8) ...\n",
            "Selecting previously unselected package xserver-xephyr.\n",
            "Preparing to unpack .../9-xserver-xephyr_2%3a1.20.13-1ubuntu1~20.04.8_amd64.deb ...\n",
            "Unpacking xserver-xephyr (2:1.20.13-1ubuntu1~20.04.8) ...\n",
            "Setting up libfontenc1:amd64 (1:1.1.4-0ubuntu1) ...\n",
            "Setting up xfonts-encodings (1:1.0.5-0ubuntu1) ...\n",
            "Setting up libxcb-xv0:amd64 (1.14-2) ...\n",
            "Setting up libxkbfile1:amd64 (1:1.1.0-1) ...\n",
            "Setting up libxfont2:amd64 (1:2.0.3-1) ...\n",
            "Setting up x11-xkb-utils (7.7+5) ...\n",
            "Setting up xfonts-utils (1:7.7+6) ...\n",
            "Setting up xfonts-base (1:1.0.5) ...\n",
            "Setting up xserver-common (2:1.20.13-1ubuntu1~20.04.8) ...\n",
            "Setting up xserver-xephyr (2:1.20.13-1ubuntu1~20.04.8) ...\n",
            "Processing triggers for libc-bin (2.31-0ubuntu9.9) ...\n",
            "Processing triggers for man-db (2.9.1-1) ...\n",
            "Processing triggers for fontconfig (2.13.1-2ubuntu3) ...\n"
          ]
        }
      ]
    },
    {
      "cell_type": "code",
      "source": [
        "!apt install -y xvfb python-opengl \n",
        "!pip install gym pyvirtualdisplay \n"
      ],
      "metadata": {
        "colab": {
          "base_uri": "https://localhost:8080/"
        },
        "id": "zaMpXfle-ceZ",
        "outputId": "94ec1401-b646-4663-aad2-b2c893eedbd6"
      },
      "execution_count": 5,
      "outputs": [
        {
          "output_type": "stream",
          "name": "stdout",
          "text": [
            "Reading package lists... Done\n",
            "Building dependency tree       \n",
            "Reading state information... Done\n",
            "The following additional packages will be installed:\n",
            "  freeglut3 libpython2-stdlib python2 python2-minimal\n",
            "Suggested packages:\n",
            "  python-tk python-numpy libgle3 python2-doc\n",
            "The following NEW packages will be installed:\n",
            "  freeglut3 libpython2-stdlib python-opengl python2 python2-minimal xvfb\n",
            "0 upgraded, 6 newly installed, 0 to remove and 24 not upgraded.\n",
            "Need to get 1,401 kB of archives.\n",
            "After this operation, 8,330 kB of additional disk space will be used.\n",
            "Get:1 http://archive.ubuntu.com/ubuntu focal/universe amd64 python2-minimal amd64 2.7.17-2ubuntu4 [27.5 kB]\n",
            "Get:2 http://archive.ubuntu.com/ubuntu focal/universe amd64 libpython2-stdlib amd64 2.7.17-2ubuntu4 [7,072 B]\n",
            "Get:3 http://archive.ubuntu.com/ubuntu focal/universe amd64 python2 amd64 2.7.17-2ubuntu4 [26.5 kB]\n",
            "Get:4 http://archive.ubuntu.com/ubuntu focal/universe amd64 freeglut3 amd64 2.8.1-3 [73.6 kB]\n",
            "Get:5 http://archive.ubuntu.com/ubuntu focal/universe amd64 python-opengl all 3.1.0+dfsg-2build1 [486 kB]\n",
            "Get:6 http://archive.ubuntu.com/ubuntu focal-updates/universe amd64 xvfb amd64 2:1.20.13-1ubuntu1~20.04.8 [780 kB]\n",
            "Fetched 1,401 kB in 1s (1,834 kB/s)\n",
            "Selecting previously unselected package python2-minimal.\n",
            "(Reading database ... 123085 files and directories currently installed.)\n",
            "Preparing to unpack .../python2-minimal_2.7.17-2ubuntu4_amd64.deb ...\n",
            "Unpacking python2-minimal (2.7.17-2ubuntu4) ...\n",
            "Selecting previously unselected package libpython2-stdlib:amd64.\n",
            "Preparing to unpack .../libpython2-stdlib_2.7.17-2ubuntu4_amd64.deb ...\n",
            "Unpacking libpython2-stdlib:amd64 (2.7.17-2ubuntu4) ...\n",
            "Setting up python2-minimal (2.7.17-2ubuntu4) ...\n",
            "Selecting previously unselected package python2.\n",
            "(Reading database ... 123114 files and directories currently installed.)\n",
            "Preparing to unpack .../python2_2.7.17-2ubuntu4_amd64.deb ...\n",
            "Unpacking python2 (2.7.17-2ubuntu4) ...\n",
            "Selecting previously unselected package freeglut3:amd64.\n",
            "Preparing to unpack .../freeglut3_2.8.1-3_amd64.deb ...\n",
            "Unpacking freeglut3:amd64 (2.8.1-3) ...\n",
            "Selecting previously unselected package python-opengl.\n",
            "Preparing to unpack .../python-opengl_3.1.0+dfsg-2build1_all.deb ...\n",
            "Unpacking python-opengl (3.1.0+dfsg-2build1) ...\n",
            "Selecting previously unselected package xvfb.\n",
            "Preparing to unpack .../xvfb_2%3a1.20.13-1ubuntu1~20.04.8_amd64.deb ...\n",
            "Unpacking xvfb (2:1.20.13-1ubuntu1~20.04.8) ...\n",
            "Setting up freeglut3:amd64 (2.8.1-3) ...\n",
            "Setting up libpython2-stdlib:amd64 (2.7.17-2ubuntu4) ...\n",
            "Setting up xvfb (2:1.20.13-1ubuntu1~20.04.8) ...\n",
            "Setting up python2 (2.7.17-2ubuntu4) ...\n",
            "Setting up python-opengl (3.1.0+dfsg-2build1) ...\n",
            "Processing triggers for man-db (2.9.1-1) ...\n",
            "Processing triggers for libc-bin (2.31-0ubuntu9.9) ...\n",
            "Looking in indexes: https://pypi.org/simple, https://us-python.pkg.dev/colab-wheels/public/simple/\n",
            "Requirement already satisfied: gym in /usr/local/lib/python3.10/dist-packages (0.25.2)\n",
            "Collecting pyvirtualdisplay\n",
            "  Downloading PyVirtualDisplay-3.0-py3-none-any.whl (15 kB)\n",
            "Requirement already satisfied: numpy>=1.18.0 in /usr/local/lib/python3.10/dist-packages (from gym) (1.22.4)\n",
            "Requirement already satisfied: cloudpickle>=1.2.0 in /usr/local/lib/python3.10/dist-packages (from gym) (2.2.1)\n",
            "Requirement already satisfied: gym-notices>=0.0.4 in /usr/local/lib/python3.10/dist-packages (from gym) (0.0.8)\n",
            "Installing collected packages: pyvirtualdisplay\n",
            "Successfully installed pyvirtualdisplay-3.0\n"
          ]
        }
      ]
    },
    {
      "cell_type": "code",
      "source": [
        "#Setting up a virtual display using PyVirtualDisplay and IPython\n",
        "from pyvirtualdisplay import Display\n",
        "from IPython import display\n",
        "virtual_display = Display(visible=0, size=(1400, 900))\n",
        "virtual_display.start()"
      ],
      "metadata": {
        "colab": {
          "base_uri": "https://localhost:8080/"
        },
        "id": "76KQmH5r-fCS",
        "outputId": "eac8888c-c216-4d17-b556-45e413df4a8e"
      },
      "execution_count": 6,
      "outputs": [
        {
          "output_type": "execute_result",
          "data": {
            "text/plain": [
              "<pyvirtualdisplay.display.Display at 0x7fb4e4f78b50>"
            ]
          },
          "metadata": {},
          "execution_count": 6
        }
      ]
    },
    {
      "cell_type": "code",
      "source": [
        "#Importing necessary modules from the pyRDDLGym package\n",
        "\n",
        "from pyRDDLGym import RDDLEnv\n",
        "from pyRDDLGym import ExampleManager\n"
      ],
      "metadata": {
        "colab": {
          "base_uri": "https://localhost:8080/"
        },
        "id": "9lwyljad-ly1",
        "outputId": "0cdf9bd2-005f-48bc-f26d-c57195c1ece6"
      },
      "execution_count": 7,
      "outputs": [
        {
          "output_type": "stream",
          "name": "stderr",
          "text": [
            "/content/pyRDDLGym/pyRDDLGym/Examples/ExampleManager.py:90: DeprecationWarning: invalid escape sequence '\\d'\n",
            "  x = re.search(\"instance\\d+.*\", file)\n"
          ]
        }
      ]
    },
    {
      "cell_type": "code",
      "source": [
        "ENV = \"UAV discrete\"        #ENV-->string name of the desired example environment\n",
        "EnvInfo = ExampleManager.GetEnvInfo(ENV)"
      ],
      "metadata": {
        "colab": {
          "base_uri": "https://localhost:8080/"
        },
        "id": "8W-Tc92B-oJ3",
        "outputId": "0eb8d030-8e96-4887-9748-6ae25ad308c3"
      },
      "execution_count": 8,
      "outputs": [
        {
          "output_type": "stream",
          "name": "stdout",
          "text": [
            "/content/pyRDDLGym/pyRDDLGym/Examples /content/pyRDDLGym/pyRDDLGym/Examples/manifest.csv\n",
            "Available example environment(s):\n",
            "Elevators -> The Elevator domain models evening rush hours when people from different floors in a building want to go down to the bottom floor using elevators.\n",
            "CartPole discrete -> A simple continuous state MDP for the classical cart-pole system by Rich Sutton, with discrete actions that apply a constant force on either the left or right side of the cart.\n",
            "CartPole continuous -> A simple continuous state-action MDP for the classical cart-pole system by Rich Sutton, with actions that describe the continuous force applied to the cart.\n",
            "Wildfire -> A boolean version of the wildfire fighting domain.\n",
            "Traffic -> BLX/QTM traffic model.\n",
            "Reservoir discrete -> Discrete version of management of the water level in interconnected reservoirs.\n",
            "Reservoir continuous -> Continuous action version of management of the water level in interconnected reservoirs.\n",
            "UAV mixed -> Mixed action space version of multi-UAV problem where a group of UAVs have to reach goal positions in the 3d Space.\n",
            "UAV discrete -> Discrete action space version of multi-UAV problem where a group of UAVs have to reach goal positions in the 3d Space.\n",
            "UAV continuous -> Continuous action space version of multi-UAV problem where a group of UAVs have to reach goal positions in the 3d Space.\n",
            "MountainCar -> A simple continuous MDP for the classical mountain car control problem.\n",
            "SupplyChain -> A supply chain with factory and multiple warehouses.\n",
            "RaceCar -> A simple continuous MDP for the racecar problem.\n",
            "PowerGen discrete -> A simple power generation problem loosely modeled on the problem of unit commitment.\n",
            "PowerGen continuous -> A continuous simple power generation problem loosely modeled on the problem of unit commitment.\n",
            "NewLanguage -> Example with new language features.\n",
            "NewtonZero -> Example with Newton root-finding method.\n",
            "MarsRover -> Multi Rover Navigation, where a group of agent needs to harvest mineral.\n",
            "SupplyChainNet -> A supply chain network with factory and multiple warehouses.\n",
            "HVAC -> Multi-zone and multi-heater HVAC control problem\n",
            "PropDBN -> Simple propositional DBN.\n",
            "RecSim -> A problem of recommendation systems, with consumers and providers.\n"
          ]
        }
      ]
    },
    {
      "cell_type": "code",
      "source": [
        "#Creating Environment\n",
        "myEnv = RDDLEnv.RDDLEnv(domain=\"/content/pyRDDLGym/pyRDDLGym/Examples/UAV/Discrete/domain.rddl\", instance=\"/content/pyRDDLGym/pyRDDLGym/Examples/UAV/Discrete/instance0.rddl\")"
      ],
      "metadata": {
        "colab": {
          "base_uri": "https://localhost:8080/"
        },
        "id": "i81YSrPp-sV3",
        "outputId": "839a44af-ba0b-4932-87ea-05e3c7d8d0f0"
      },
      "execution_count": 9,
      "outputs": [
        {
          "output_type": "stream",
          "name": "stderr",
          "text": [
            "WARNING: Token 'DOLLAR_SIGN' defined, but not used\n",
            "WARNING: Token 'DOT' defined, but not used\n",
            "WARNING: Token 'QUESTION' defined, but not used\n",
            "WARNING: Token 'TERMINAL' defined, but not used\n",
            "WARNING: There are 4 unused tokens\n",
            "Generating LALR tables\n",
            "WARNING: 1 shift/reduce conflict\n",
            "WARNING: 6 reduce/reduce conflicts\n",
            "WARNING: reduce/reduce conflict in state 348 resolved using rule (term -> VAR)\n",
            "WARNING: rejected rule (pvar_expr -> VAR) in state 348\n",
            "WARNING: reduce/reduce conflict in state 349 resolved using rule (term -> ENUM_VAL)\n",
            "WARNING: rejected rule (pvar_expr -> ENUM_VAL) in state 349\n"
          ]
        }
      ]
    },
    {
      "cell_type": "code",
      "source": [
        "#Action Space\n",
        "print(f\"Action Space: {myEnv.action_space}\")"
      ],
      "metadata": {
        "colab": {
          "base_uri": "https://localhost:8080/"
        },
        "id": "WWmmZJgR-x4X",
        "outputId": "7ca1af65-fe10-4f63-83dd-4899a4abd582"
      },
      "execution_count": 10,
      "outputs": [
        {
          "output_type": "stream",
          "name": "stdout",
          "text": [
            "Action Space: Dict('set-acc___a1': Discrete(3, start=-1), 'set-phi___a1': Discrete(3, start=-1), 'set-theta___a1': Discrete(3, start=-1))\n"
          ]
        }
      ]
    },
    {
      "cell_type": "code",
      "source": [
        "#Observation Space\n",
        "print(f\"Observation Space: {myEnv.observation_space}\")"
      ],
      "metadata": {
        "colab": {
          "base_uri": "https://localhost:8080/"
        },
        "id": "KS-MHW_0-2SW",
        "outputId": "012f733b-0f51-4886-b0b8-0e0f1148b5a8"
      },
      "execution_count": 11,
      "outputs": [
        {
          "output_type": "stream",
          "name": "stdout",
          "text": [
            "Observation Space: Dict('pos-x___a1': Box(-50000.0, 500000.0, (1,), float32), 'pos-y___a1': Box(-500000.0, 500000.0, (1,), float32), 'pos-z___a1': Box(-50000.0, 50000.0, (1,), float32), 'theta___a1': Box(-inf, inf, (1,), float32), 'phi___a1': Box(-inf, inf, (1,), float32), 'psi___a1': Box(-inf, inf, (1,), float32), 'vel___a1': Box(-inf, inf, (1,), float32))\n"
          ]
        }
      ]
    },
    {
      "cell_type": "code",
      "source": [
        "#Listing all the available instances of the problem\n",
        "EnvInfo.list_instances()"
      ],
      "metadata": {
        "colab": {
          "base_uri": "https://localhost:8080/"
        },
        "id": "wlqDPsEh-4yi",
        "outputId": "1cbb1068-4769-4ec4-ad37-bef754b43b00"
      },
      "execution_count": 12,
      "outputs": [
        {
          "output_type": "execute_result",
          "data": {
            "text/plain": [
              "['instance0.rddl']"
            ]
          },
          "metadata": {},
          "execution_count": 12
        }
      ]
    },
    {
      "cell_type": "code",
      "source": [
        "from pyRDDLGym.Policies.Agents import RandomAgent\n"
      ],
      "metadata": {
        "id": "qZSGycuX-9Ox"
      },
      "execution_count": 13,
      "outputs": []
    },
    {
      "cell_type": "code",
      "source": [
        "# set up an aget\n",
        "agent = RandomAgent(action_space=myEnv.action_space, num_actions=myEnv.numConcurrentActions)"
      ],
      "metadata": {
        "id": "lR0JRBil_Mg4"
      },
      "execution_count": 14,
      "outputs": []
    },
    {
      "cell_type": "code",
      "source": [
        "print(f\"Maximum number of time steps that the agent will take in the environment before the episode is terminated: {myEnv.horizon}\")"
      ],
      "metadata": {
        "colab": {
          "base_uri": "https://localhost:8080/"
        },
        "id": "gMT5TIGg_SIr",
        "outputId": "24086737-1bf3-40c9-e936-3e88446071b4"
      },
      "execution_count": 15,
      "outputs": [
        {
          "output_type": "stream",
          "name": "stdout",
          "text": [
            "Maximum number of time steps that the agent will take in the environment before the episode is terminated: 20\n"
          ]
        }
      ]
    },
    {
      "cell_type": "code",
      "source": [
        "import matplotlib.pyplot as plt\n",
        "%matplotlib inline\n",
        "\n",
        "total_reward = 0\n",
        "state = myEnv.reset()\n",
        "img = plt.imshow(myEnv.render('rgb_array'))\n",
        "\n",
        "#Agent-Environment Loop\n",
        "for _ in range(myEnv.horizon):\n",
        "      myEnv.render()\n",
        "      next_state, reward, done, info = myEnv.step(agent.sample_action())\n",
        "      total_reward += reward\n",
        "      state = next_state\n",
        "\n",
        "      img.set_data(myEnv.render('rgb_array')) # just update the data\n",
        "      plt.axis('off')\n",
        "      plt.show()\n",
        "      \n",
        "      if done:\n",
        "            break\n",
        "            \n",
        "myEnv.close()"
      ],
      "metadata": {
        "id": "BlTvnX66IKfc"
      },
      "execution_count": null,
      "outputs": []
    },
    {
      "cell_type": "markdown",
      "source": [
        "![image.png](data:image/png;base64,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)"
      ],
      "metadata": {
        "id": "_h6SWWsQIGjK"
      }
    },
    {
      "cell_type": "code",
      "source": [],
      "metadata": {
        "id": "fNGR7UON_Xne"
      },
      "execution_count": null,
      "outputs": []
    }
  ]
}